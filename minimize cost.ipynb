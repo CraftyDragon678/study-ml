{
 "cells": [
  {
   "cell_type": "code",
   "execution_count": 5,
   "metadata": {},
   "outputs": [],
   "source": [
    "import numpy as np\n",
    "import tensorflow as tf\n",
    "import tensorflow.keras as keras\n",
    "import matplotlib.pyplot as plt"
   ]
  },
  {
   "cell_type": "code",
   "execution_count": 2,
   "metadata": {},
   "outputs": [],
   "source": [
    "num_points = 1000\n",
    "vectors_set = []\n",
    "for i in range(num_points):\n",
    "         x1= np.random.normal(0.0, 0.55)\n",
    "         y1= x1 * 0.1 + 0.3 + np.random.normal(0.0, 0.03)\n",
    "         vectors_set.append([x1, y1])\n",
    "\n",
    "x_data = [v[0] for v in vectors_set]\n",
    "y_data = [v[1] for v in vectors_set]"
   ]
  },
  {
   "cell_type": "code",
   "execution_count": 4,
   "metadata": {},
   "outputs": [
    {
     "data": {
      "text/plain": [
       "[<matplotlib.lines.Line2D at 0x7f18c58e9250>]"
      ]
     },
     "execution_count": 4,
     "metadata": {},
     "output_type": "execute_result"
    },
    {
     "data": {
      "image/png": "[encoded data removed]",
      "text/plain": [
       "<Figure size 432x288 with 1 Axes>"
      ]
     },
     "metadata": {
      "needs_background": "light"
     },
     "output_type": "display_data"
    }
   ],
   "source": [
    "plt.plot(x_data, y_data, 'o')"
   ]
  },
  {
   "cell_type": "code",
   "execution_count": 13,
   "metadata": {},
   "outputs": [
    {
     "name": "stdout",
     "output_type": "stream",
     "text": [
      "Model: \"sequential_4\"\n",
      "_________________________________________________________________\n",
      "Layer (type)                 Output Shape              Param #   \n",
      "=================================================================\n",
      "dense_3 (Dense)              (None, 1)                 2         \n",
      "=================================================================\n",
      "Total params: 2\n",
      "Trainable params: 2\n",
      "Non-trainable params: 0\n",
      "_________________________________________________________________\n",
      "Epoch 1/100\n",
      "32/32 [==============================] - 0s 2ms/step - loss: 0.0286\n",
      "Epoch 2/100\n",
      "32/32 [==============================] - 0s 3ms/step - loss: 0.0014\n",
      "Epoch 3/100\n",
      "32/32 [==============================] - 0s 3ms/step - loss: 9.5533e-04\n",
      "Epoch 4/100\n",
      "32/32 [==============================] - 0s 3ms/step - loss: 9.4206e-04\n",
      "Epoch 5/100\n",
      "32/32 [==============================] - 0s 3ms/step - loss: 9.4084e-04\n",
      "Epoch 6/100\n",
      "32/32 [==============================] - 0s 4ms/step - loss: 9.4200e-04\n",
      "Epoch 7/100\n",
      "32/32 [==============================] - 0s 3ms/step - loss: 9.4126e-04\n",
      "Epoch 8/100\n",
      "32/32 [==============================] - 0s 3ms/step - loss: 9.4389e-04\n",
      "Epoch 9/100\n",
      "32/32 [==============================] - 0s 2ms/step - loss: 9.3838e-04\n",
      "Epoch 10/100\n",
      "32/32 [==============================] - 0s 3ms/step - loss: 9.4496e-04\n",
      "Epoch 11/100\n",
      "32/32 [==============================] - 0s 3ms/step - loss: 9.4250e-04\n",
      "Epoch 12/100\n",
      "32/32 [==============================] - 0s 4ms/step - loss: 9.4409e-04\n",
      "Epoch 13/100\n",
      "32/32 [==============================] - 0s 3ms/step - loss: 9.4323e-04\n",
      "Epoch 14/100\n",
      "32/32 [==============================] - 0s 3ms/step - loss: 9.4162e-04\n",
      "Epoch 15/100\n",
      "32/32 [==============================] - 0s 3ms/step - loss: 9.4312e-04\n",
      "Epoch 16/100\n",
      "32/32 [==============================] - 0s 3ms/step - loss: 9.4750e-04\n",
      "Epoch 17/100\n",
      "32/32 [==============================] - 0s 3ms/step - loss: 9.4463e-04\n",
      "Epoch 18/100\n",
      "32/32 [==============================] - 0s 3ms/step - loss: 9.4257e-04\n",
      "Epoch 19/100\n",
      "32/32 [==============================] - 0s 3ms/step - loss: 9.3918e-04\n",
      "Epoch 20/100\n",
      "32/32 [==============================] - 0s 3ms/step - loss: 9.4271e-04\n",
      "Epoch 21/100\n",
      "32/32 [==============================] - 0s 3ms/step - loss: 9.4179e-04\n",
      "Epoch 22/100\n",
      "32/32 [==============================] - 0s 3ms/step - loss: 9.4109e-04\n",
      "Epoch 23/100\n",
      "32/32 [==============================] - 0s 3ms/step - loss: 9.4200e-04\n",
      "Epoch 24/100\n",
      "32/32 [==============================] - 0s 3ms/step - loss: 9.4436e-04\n",
      "Epoch 25/100\n",
      "32/32 [==============================] - 0s 3ms/step - loss: 9.4092e-04\n",
      "Epoch 26/100\n",
      "32/32 [==============================] - 0s 3ms/step - loss: 9.4048e-04\n",
      "Epoch 27/100\n",
      "32/32 [==============================] - 0s 3ms/step - loss: 9.4135e-04\n",
      "Epoch 28/100\n",
      "32/32 [==============================] - 0s 3ms/step - loss: 9.4427e-04\n",
      "Epoch 29/100\n",
      "32/32 [==============================] - 0s 3ms/step - loss: 9.3823e-04\n",
      "Epoch 30/100\n",
      "32/32 [==============================] - 0s 3ms/step - loss: 9.4397e-04\n",
      "Epoch 31/100\n",
      "32/32 [==============================] - 0s 3ms/step - loss: 9.4384e-04\n",
      "Epoch 32/100\n",
      "32/32 [==============================] - 0s 3ms/step - loss: 9.4275e-04\n",
      "Epoch 33/100\n",
      "32/32 [==============================] - 0s 3ms/step - loss: 9.4271e-04\n",
      "Epoch 34/100\n",
      "32/32 [==============================] - 0s 3ms/step - loss: 9.4642e-04\n",
      "Epoch 35/100\n",
      "32/32 [==============================] - 0s 3ms/step - loss: 9.3986e-04\n",
      "Epoch 36/100\n",
      "32/32 [==============================] - 0s 3ms/step - loss: 9.4107e-04\n",
      "Epoch 37/100\n",
      "32/32 [==============================] - 0s 3ms/step - loss: 9.4525e-04\n",
      "Epoch 38/100\n",
      "32/32 [==============================] - 0s 6ms/step - loss: 9.4030e-04\n",
      "Epoch 39/100\n",
      "32/32 [==============================] - 0s 8ms/step - loss: 9.4201e-04\n",
      "Epoch 40/100\n",
      "32/32 [==============================] - 0s 4ms/step - loss: 9.4114e-04\n",
      "Epoch 41/100\n",
      "32/32 [==============================] - 0s 3ms/step - loss: 9.4271e-04\n",
      "Epoch 42/100\n",
      "32/32 [==============================] - 0s 3ms/step - loss: 9.4166e-04\n",
      "Epoch 43/100\n",
      "32/32 [==============================] - 0s 3ms/step - loss: 9.4318e-04\n",
      "Epoch 44/100\n",
      "32/32 [==============================] - 0s 3ms/step - loss: 9.3919e-04\n",
      "Epoch 45/100\n",
      "32/32 [==============================] - 0s 5ms/step - loss: 9.4357e-04\n",
      "Epoch 46/100\n",
      "32/32 [==============================] - 0s 3ms/step - loss: 9.4330e-04\n",
      "Epoch 47/100\n",
      "32/32 [==============================] - 0s 3ms/step - loss: 9.4267e-04\n",
      "Epoch 48/100\n",
      "32/32 [==============================] - 0s 3ms/step - loss: 9.3931e-04\n",
      "Epoch 49/100\n",
      "32/32 [==============================] - 0s 3ms/step - loss: 9.4270e-04\n",
      "Epoch 50/100\n",
      "32/32 [==============================] - 0s 3ms/step - loss: 9.4213e-04\n",
      "Epoch 51/100\n",
      "32/32 [==============================] - 0s 3ms/step - loss: 9.3807e-04\n",
      "Epoch 52/100\n",
      "32/32 [==============================] - 0s 3ms/step - loss: 9.4295e-04\n",
      "Epoch 53/100\n",
      "32/32 [==============================] - 0s 3ms/step - loss: 9.4328e-04\n",
      "Epoch 54/100\n",
      "32/32 [==============================] - 0s 2ms/step - loss: 9.4137e-04\n",
      "Epoch 55/100\n",
      "32/32 [==============================] - 0s 3ms/step - loss: 9.4177e-04\n",
      "Epoch 56/100\n",
      "32/32 [==============================] - 0s 3ms/step - loss: 9.4400e-04\n",
      "Epoch 57/100\n",
      "32/32 [==============================] - 0s 3ms/step - loss: 9.4633e-04\n",
      "Epoch 58/100\n",
      "32/32 [==============================] - 0s 3ms/step - loss: 9.3953e-04\n",
      "Epoch 59/100\n",
      "32/32 [==============================] - 0s 3ms/step - loss: 9.4637e-04\n",
      "Epoch 60/100\n",
      "32/32 [==============================] - 0s 3ms/step - loss: 9.4006e-04\n",
      "Epoch 61/100\n",
      "32/32 [==============================] - 0s 3ms/step - loss: 9.4170e-04\n",
      "Epoch 62/100\n",
      "32/32 [==============================] - 0s 2ms/step - loss: 9.4099e-04\n",
      "Epoch 63/100\n",
      "32/32 [==============================] - 0s 3ms/step - loss: 9.4443e-04\n",
      "Epoch 64/100\n",
      "32/32 [==============================] - 0s 3ms/step - loss: 9.4625e-04\n",
      "Epoch 65/100\n",
      "32/32 [==============================] - 0s 6ms/step - loss: 9.4237e-04\n",
      "Epoch 66/100\n",
      "32/32 [==============================] - 0s 4ms/step - loss: 9.4347e-04\n",
      "Epoch 67/100\n",
      "32/32 [==============================] - 0s 4ms/step - loss: 9.4152e-04\n",
      "Epoch 68/100\n",
      "32/32 [==============================] - 0s 3ms/step - loss: 9.4364e-04\n",
      "Epoch 69/100\n",
      "32/32 [==============================] - 0s 2ms/step - loss: 9.4221e-04\n",
      "Epoch 70/100\n",
      "32/32 [==============================] - 0s 2ms/step - loss: 9.4429e-04\n",
      "Epoch 71/100\n",
      "32/32 [==============================] - 0s 2ms/step - loss: 9.4319e-04\n",
      "Epoch 72/100\n",
      "32/32 [==============================] - 0s 3ms/step - loss: 9.4192e-04\n",
      "Epoch 73/100\n",
      "32/32 [==============================] - 0s 3ms/step - loss: 9.4128e-04\n",
      "Epoch 74/100\n",
      "32/32 [==============================] - 0s 3ms/step - loss: 9.4120e-04\n",
      "Epoch 75/100\n",
      "32/32 [==============================] - 0s 2ms/step - loss: 9.4231e-04\n",
      "Epoch 76/100\n",
      "32/32 [==============================] - 0s 3ms/step - loss: 9.3903e-04\n",
      "Epoch 77/100\n",
      "32/32 [==============================] - 0s 3ms/step - loss: 9.4124e-04\n",
      "Epoch 78/100\n",
      "32/32 [==============================] - 0s 2ms/step - loss: 9.3867e-04\n",
      "Epoch 79/100\n",
      "32/32 [==============================] - 0s 3ms/step - loss: 9.4114e-04\n",
      "Epoch 80/100\n",
      "32/32 [==============================] - 0s 3ms/step - loss: 9.4253e-04\n",
      "Epoch 81/100\n",
      "32/32 [==============================] - 0s 3ms/step - loss: 9.4203e-04\n",
      "Epoch 82/100\n",
      "32/32 [==============================] - 0s 2ms/step - loss: 9.4254e-04\n",
      "Epoch 83/100\n",
      "32/32 [==============================] - 0s 3ms/step - loss: 9.4234e-04\n",
      "Epoch 84/100\n",
      "32/32 [==============================] - 0s 3ms/step - loss: 9.4328e-04\n",
      "Epoch 85/100\n",
      "32/32 [==============================] - 0s 3ms/step - loss: 9.4366e-04\n",
      "Epoch 86/100\n",
      "32/32 [==============================] - 0s 2ms/step - loss: 9.3940e-04\n",
      "Epoch 87/100\n",
      "32/32 [==============================] - 0s 3ms/step - loss: 9.4282e-04\n",
      "Epoch 88/100\n",
      "32/32 [==============================] - 0s 3ms/step - loss: 9.4180e-04\n",
      "Epoch 89/100\n",
      "32/32 [==============================] - 0s 3ms/step - loss: 9.4279e-04\n",
      "Epoch 90/100\n",
      "32/32 [==============================] - 0s 2ms/step - loss: 9.4074e-04\n",
      "Epoch 91/100\n",
      "32/32 [==============================] - 0s 3ms/step - loss: 9.4618e-04\n"
     ]
    },
    {
     "name": "stdout",
     "output_type": "stream",
     "text": [
      "Epoch 92/100\n",
      "32/32 [==============================] - 0s 3ms/step - loss: 9.4391e-04\n",
      "Epoch 93/100\n",
      "32/32 [==============================] - 0s 2ms/step - loss: 9.4128e-04\n",
      "Epoch 94/100\n",
      "32/32 [==============================] - 0s 3ms/step - loss: 9.4003e-04\n",
      "Epoch 95/100\n",
      "32/32 [==============================] - 0s 2ms/step - loss: 9.4097e-04\n",
      "Epoch 96/100\n",
      "32/32 [==============================] - 0s 2ms/step - loss: 9.4344e-04\n",
      "Epoch 97/100\n",
      "32/32 [==============================] - 0s 2ms/step - loss: 9.4008e-04\n",
      "Epoch 98/100\n",
      "32/32 [==============================] - 0s 2ms/step - loss: 9.4201e-04\n",
      "Epoch 99/100\n",
      "32/32 [==============================] - 0s 3ms/step - loss: 9.4253e-04\n",
      "Epoch 100/100\n",
      "32/32 [==============================] - 0s 3ms/step - loss: 9.4168e-04\n"
     ]
    }
   ],
   "source": [
    "model = keras.Sequential()\n",
    "model.add(keras.layers.Dense(units=1, input_dim=1))\n",
    "model.compile(loss='mse', optimizer=keras.optimizers.SGD(lr=0.1))\n",
    "model.summary()\n",
    "history = model.fit(x_data, y_data, epochs=100)"
   ]
  },
  {
   "cell_type": "code",
   "execution_count": 14,
   "metadata": {},
   "outputs": [
    {
     "data": {
      "text/plain": [
       "[<matplotlib.lines.Line2D at 0x7f18bc4a6e10>]"
      ]
     },
     "execution_count": 14,
     "metadata": {},
     "output_type": "execute_result"
    },
    {
     "data": {
      "image/png": "[encoded data removed]",
      "text/plain": [
       "<Figure size 432x288 with 1 Axes>"
      ]
     },
     "metadata": {
      "needs_background": "light"
     },
     "output_type": "display_data"
    }
   ],
   "source": [
    "plt.plot(x_data, y_data, 'o')\n",
    "plt.plot([-1.5, 1.5], model.predict([-1.5, 1.5]))"
   ]
  },
  {
   "cell_type": "code",
   "execution_count": 20,
   "metadata": {},
   "outputs": [
    {
     "data": {
      "text/plain": [
       "[<matplotlib.lines.Line2D at 0x7f189c7d6050>]"
      ]
     },
     "execution_count": 20,
     "metadata": {},
     "output_type": "execute_result"
    },
    {
     "data": {
      "image/png": "[encoded data removed]",
      "text/plain": [
       "<Figure size 432x288 with 1 Axes>"
      ]
     },
     "metadata": {
      "needs_background": "light"
     },
     "output_type": "display_data"
    }
   ],
   "source": [
    "plt.plot(history.history['loss'])\n",
    "# plt.yscale('log')"
   ]
  },
  {
   "cell_type": "code",
   "execution_count": 22,
   "metadata": {},
   "outputs": [
    {
     "name": "stdout",
     "output_type": "stream",
     "text": [
      "[[0.8186263 ]\n",
      " [0.71437705]]\n"
     ]
    },
    {
     "data": {
      "image/png": "[encoded data removed]",
      "text/plain": [
       "<Figure size 432x288 with 1 Axes>"
      ]
     },
     "metadata": {
      "needs_background": "light"
     },
     "output_type": "display_data"
    }
   ],
   "source": [
    "y_predict = model.predict(np.array([5, 4]))\n",
    "print(y_predict)\n",
    "\n",
    "# Plot training & validation loss values\n",
    "plt.plot(history.history['loss'])\n",
    "plt.title('Model loss')\n",
    "plt.ylabel('Loss')\n",
    "plt.xlabel('Epoch')\n",
    "plt.legend(['Train', 'Test'], loc='upper left')\n",
    "plt.show()"
   ]
  }
 ],
 "metadata": {
  "kernelspec": {
   "display_name": "Python 3",
   "language": "python",
   "name": "python3"
  },
  "language_info": {
   "codemirror_mode": {
    "name": "ipython",
    "version": 3
   },
   "file_extension": ".py",
   "mimetype": "text/x-python",
   "name": "python",
   "nbconvert_exporter": "python",
   "pygments_lexer": "ipython3",
   "version": "3.7.7"
  }
 },
 "nbformat": 4,
 "nbformat_minor": 4
}
