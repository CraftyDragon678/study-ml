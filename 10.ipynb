{
  "nbformat": 4,
  "nbformat_minor": 0,
  "metadata": {
    "colab": {
      "name": "10",
      "provenance": []
    },
    "kernelspec": {
      "name": "python3",
      "display_name": "Python 3"
    }
  },
  "cells": [
    {
      "cell_type": "markdown",
      "metadata": {
        "id": "U3jESOc4KVJq",
        "colab_type": "text"
      },
      "source": [
        "> [Relu, Weight, Dropout, Batch](https://youtu.be/pAFnPKFHvqE?list=PLQ28Nx3M4Jrguyuwg4xe9d9t2XE639e5C)"
      ]
    },
    {
      "cell_type": "code",
      "metadata": {
        "id": "XECzOcwCKWeK",
        "colab_type": "code",
        "colab": {}
      },
      "source": [
        "import tensorflow as tf\n",
        "from tensorflow import keras\n",
        "import numpy as np\n",
        "import matplotlib.pyplot as plt"
      ],
      "execution_count": 3,
      "outputs": []
    },
    {
      "cell_type": "markdown",
      "metadata": {
        "id": "zGL9GkyFGSP_",
        "colab_type": "text"
      },
      "source": [
        "# Relu\n",
        "\n",
        "## Sigmoid의 단점\n",
        "시그모이드가 신경망으로 오게 되면 backpropagation을 하면서 미분을 하는데\n",
        "굉장히 작은 값을 곱하게 된다.\n",
        "\n",
        "이 현상을 vanishing gradient인데, 학습이 잘 되지 않는다."
      ]
    },
    {
      "cell_type": "code",
      "metadata": {
        "id": "ak3036R-et07",
        "colab_type": "code",
        "colab": {}
      },
      "source": [
        ""
      ],
      "execution_count": null,
      "outputs": []
    },
    {
      "cell_type": "markdown",
      "metadata": {
        "id": "gioVcSQWJsS0",
        "colab_type": "text"
      },
      "source": [
        "## Relu\n",
        "\n",
        "그래서 나타난 것이 Relu이다.\n",
        "\n",
        "$$\n",
        "f(x) = max(0, x)\n",
        "$$\n",
        "\n",
        "=> 간단하면서도 성능이 좋음"
      ]
    },
    {
      "cell_type": "code",
      "metadata": {
        "id": "wTq6m10FJxeB",
        "colab_type": "code",
        "colab": {
          "base_uri": "https://localhost:8080/",
          "height": 265
        },
        "outputId": "0a0f01fd-2249-4823-f866-37ee653b0cf1"
      },
      "source": [
        "relu = lambda x: keras.activations.relu(x)\n",
        "x = np.linspace(-5, 5, 100)\n",
        "y = list(map(relu, x))\n",
        "\n",
        "plt.plot(x, y)\n",
        "plt.grid()"
      ],
      "execution_count": 5,
      "outputs": [
        {
          "output_type": "display_data",
          "data": {
            "image/png": "[encoded data removed]",
            "text/plain": [
              "<Figure size 432x288 with 1 Axes>"
            ]
          },
          "metadata": {
            "tags": [],
            "needs_background": "light"
          }
        }
      ]
    },
    {
      "cell_type": "markdown",
      "metadata": {
        "id": "Lgi3TndOJ6iT",
        "colab_type": "text"
      },
      "source": [
        "## Activations\n",
        "\n",
        "`keras.activations` => Sigmoid, tanh, relu, elu, selu\n",
        "\n",
        "음수일 때 무시되는 것을 해결하기 위한 leaky relu\n",
        "`keras.layers`"
      ]
    },
    {
      "cell_type": "code",
      "metadata": {
        "id": "n95qgpfkLjcI",
        "colab_type": "code",
        "colab": {
          "base_uri": "https://localhost:8080/",
          "height": 282
        },
        "outputId": "24a81d05-5de7-4d79-e5fc-d51c80359794"
      },
      "source": [
        "sigmoid = lambda x: keras.activations.sigmoid(x)\n",
        "tanh = lambda x: keras.activations.tanh(x)\n",
        "relu = lambda x: keras.activations.relu(x, alpha=0.0)\n",
        "elu = lambda x: keras.activations.elu(x, alpha=1.0)\n",
        "selu = lambda x: keras.activations.selu(x)\n",
        "leaky_relu = lambda x: keras.layers.LeakyReLU(0.3)(x)\n",
        "\n",
        "x = np.linspace(-5, 5, dtype=np.float32)\n",
        "\n",
        "ax1 = plt.subplot(2, 3, 1)\n",
        "ax1.plot(x, list(map(sigmoid, x)))\n",
        "\n",
        "ax2 = plt.subplot(2, 3, 2)\n",
        "ax2.plot(x, list(map(tanh, x)))\n",
        "\n",
        "ax3 = plt.subplot(2, 3, 3)\n",
        "ax3.plot(x, list(map(relu, x)))\n",
        "\n",
        "ax4 = plt.subplot(2, 3, 4)\n",
        "ax4.plot(x, list(map(elu, x)))\n",
        "\n",
        "ax5 = plt.subplot(2, 3, 5)\n",
        "ax5.plot(x, list(map(selu, x)))\n",
        "\n",
        "\n",
        "ax6 = plt.subplot(2, 3, 6)\n",
        "ax6.plot(x, list(map(leaky_relu, x)))"
      ],
      "execution_count": 16,
      "outputs": [
        {
          "output_type": "execute_result",
          "data": {
            "text/plain": [
              "[<matplotlib.lines.Line2D at 0x7f490adee320>]"
            ]
          },
          "metadata": {
            "tags": []
          },
          "execution_count": 16
        },
        {
          "output_type": "display_data",
          "data": {
            "image/png": "[encoded data removed]",
            "text/plain": [
              "<Figure size 432x288 with 6 Axes>"
            ]
          },
          "metadata": {
            "tags": [],
            "needs_background": "light"
          }
        }
      ]
    },
    {
      "cell_type": "markdown",
      "metadata": {
        "id": "se2cPZ70LDmE",
        "colab_type": "text"
      },
      "source": [
        "## With keras"
      ]
    },
    {
      "cell_type": "code",
      "metadata": {
        "id": "rT2OLYsgLE5K",
        "colab_type": "code",
        "colab": {
          "base_uri": "https://localhost:8080/",
          "height": 51
        },
        "outputId": "d4a33a4b-eb28-439f-a0a2-dad76e35579e"
      },
      "source": [
        "normalize = lambda x, max: x.astype(np.float32) / max\n",
        "normalize255 = lambda x: normalize(x, 255.0)\n",
        "\n",
        "(train_data, train_labels), (test_data, test_labels) = keras.datasets.mnist.load_data()\n",
        "\n",
        "train_data = np.expand_dims(train_data, -1)\n",
        "test_data = np.expand_dims(test_data, -1)\n",
        "\n",
        "train_data, test_data = map(normalize255, [train_data, test_data])\n",
        "\n",
        "train_labels = tf.one_hot(train_labels, 10)\n",
        "test_labels = tf.one_hot(test_labels, 10)"
      ],
      "execution_count": 17,
      "outputs": [
        {
          "output_type": "stream",
          "text": [
            "Downloading data from https://storage.googleapis.com/tensorflow/tf-keras-datasets/mnist.npz\n",
            "11493376/11490434 [==============================] - 0s 0us/step\n"
          ],
          "name": "stdout"
        }
      ]
    },
    {
      "cell_type": "code",
      "metadata": {
        "id": "nM8AhzNSUMRv",
        "colab_type": "code",
        "colab": {}
      },
      "source": [
        "class Model(keras.Model):\n",
        "  def __init__(self, label_dim):\n",
        "    super(Model, self).__init__()\n",
        "\n",
        "    weight_init = keras.initializers.RandomNormal()\n",
        "    self.model = keras.Sequential()\n",
        "\n",
        "    self.model.add(keras.layers.Flatten())  # for fc\n",
        "\n",
        "    for i in range(2):\n",
        "      self.model.add(keras.layers.Dense(256, kernel_initializer=weight_init))\n",
        "      self.model.add(keras.layers.Activation(keras.activations.relu))\n",
        "    self.model.add(keras.layers.Dense(label_dim, kernel_initializer=weight_init))\n",
        "  \n",
        "  def call(self, x, training=None, mask=None):\n",
        "    x = self.model(x)\n",
        "    return x"
      ],
      "execution_count": 29,
      "outputs": []
    },
    {
      "cell_type": "code",
      "metadata": {
        "id": "pmC7pOduVWYR",
        "colab_type": "code",
        "colab": {}
      },
      "source": [
        "def loss_fn(model, images, labels):\n",
        "  logits = model(images, training=True)\n",
        "  return tf.reduce_mean(tf.nn.softmax_cross_entropy_with_logits(logits, labels))\n",
        "\n",
        "def accuracy_fn(model, images, labels):\n",
        "  logits = model(images, training=False)\n",
        "  prediction = tf.equal(tf.argmax(logits, -1), tf.argmax(labels, -1))\n",
        "  accuracy = tf.reduce_mean(tf.cast(prediction, tf.float32))\n",
        "  return accuracy\n",
        "\n",
        "def grad(model, images, labels):\n",
        "  with tf.GradientTape() as tape:\n",
        "    loss = loss_fn(model, images, labels)\n",
        "  return tape.gradient(loss, model.variables)"
      ],
      "execution_count": 21,
      "outputs": []
    },
    {
      "cell_type": "code",
      "metadata": {
        "id": "rPcOqbbOWPt5",
        "colab_type": "code",
        "colab": {}
      },
      "source": [
        "lr = 0.001\n",
        "batch_size = 128\n",
        "\n",
        "training_epochs = 1\n",
        "training_iterations = len(train_data)\n",
        "\n",
        "label_dim = 10"
      ],
      "execution_count": 22,
      "outputs": []
    },
    {
      "cell_type": "code",
      "metadata": {
        "id": "_CR6rC_XWYgv",
        "colab_type": "code",
        "colab": {}
      },
      "source": [
        "train_dataset = tf.data.Dataset.from_tensor_slices((train_data, train_labels)).\\\n",
        "    shuffle(buffer_size=100000).\\\n",
        "    prefetch(buffer_size=batch_size).\\\n",
        "    batch(batch_size).\\\n",
        "    repeat()\n",
        "\n",
        "test_dataset = tf.data.Dataset.from_tensor_slices((test_data, test_labels)).\\\n",
        "    shuffle(buffer_size=100000).\\\n",
        "    prefetch(buffer_size=batch_size).\\\n",
        "    batch(batch_size).\\\n",
        "    repeat()"
      ],
      "execution_count": 23,
      "outputs": []
    },
    {
      "cell_type": "code",
      "metadata": {
        "id": "eB-dr-C2Wwqd",
        "colab_type": "code",
        "colab": {}
      },
      "source": [
        "network = Model(label_dim)\n",
        "optimizer = keras.optimizers.Adam(lr)"
      ],
      "execution_count": 30,
      "outputs": []
    },
    {
      "cell_type": "code",
      "metadata": {
        "id": "7YrQlPYVXYNW",
        "colab_type": "code",
        "colab": {}
      },
      "source": [
        "checkpoint = tf.train.Checkpoint(dnn=network)"
      ],
      "execution_count": 32,
      "outputs": []
    },
    {
      "cell_type": "markdown",
      "metadata": {
        "id": "KOHWh2-rYA5h",
        "colab_type": "text"
      },
      "source": [
        "망"
      ]
    },
    {
      "cell_type": "markdown",
      "metadata": {
        "id": "hFvmh4iLYEQh",
        "colab_type": "text"
      },
      "source": [
        "# Weight Initialization\n",
        "\n",
        "## Xavier(Glorot) Initialization\n",
        "$$\n",
        "분산 = \\frac 2 {\\text{channel_in} + \\text{channel_out}}\n",
        "$$\n",
        "\n",
        "`keras.initializers.GlorotNormal`\n",
        "\n",
        "## He Initialization\n",
        "Relu에 최적화\n",
        "\n",
        "`keras.initializers.HeNormal`"
      ]
    },
    {
      "cell_type": "markdown",
      "metadata": {
        "id": "-hEHVwy-YsQe",
        "colab_type": "text"
      },
      "source": [
        "# Dropout\n",
        "\n",
        "학습은 잘 됐는데, test 데이터로 evaulate를 진행하면 loss가 클 때\n",
        "nn에서 사용\n",
        "\n",
        "> 뉴런의 일부분만 사용하는 학습 방법\n",
        "\n",
        "랜덤으로 노드를 끔\n",
        "\n",
        "좀더 일반화 된 모델을 이끌 수 있음\n",
        "\n",
        "`keras.layers.Dropout`\n",
        "\n",
        "Test할 때는 끄지 않고 모두 사용\n",
        "\n",
        "일반적으로 활성함수 레이어 뒤에 붙인다고 한다"
      ]
    },
    {
      "cell_type": "markdown",
      "metadata": {
        "id": "5rt-rc8hZxAG",
        "colab_type": "text"
      },
      "source": [
        "# Batch Normalization\n",
        "\n",
        "`keras.layers.BatchNormalization`\n",
        "\n",
        "일반적으로 활성함수 앞에 쓴다."
      ]
    }
  ]
}