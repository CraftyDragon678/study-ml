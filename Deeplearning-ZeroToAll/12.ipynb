{
  "nbformat": 4,
  "nbformat_minor": 0,
  "metadata": {
    "colab": {
      "name": "12",
      "provenance": [],
      "collapsed_sections": [
        "uBgRv8-dvjzc",
        "1riMZ3epx-u5",
        "AjwnqUudycVc",
        "_txXyyZlysFk",
        "UeiNy7Eh9qUl"
      ]
    },
    "kernelspec": {
      "name": "python3",
      "display_name": "Python 3"
    }
  },
  "cells": [
    {
      "cell_type": "markdown",
      "metadata": {
        "id": "Su8Zko_y92YY",
        "colab_type": "text"
      },
      "source": [
        "# RNN\n"
      ]
    },
    {
      "cell_type": "markdown",
      "metadata": {
        "id": "AK1C3_dRGW2Y",
        "colab_type": "text"
      },
      "source": [
        "Recurrent Neural Network\n",
        "\n",
        "## RNN의 등장\n",
        "\n",
        "NN, CNN으로는 연속된 데이터는 학습하기 어렵다.\n",
        "\n",
        "자연어가 그 중 하나.\n",
        "\n",
        "그래서 이전의 결과가 다음에 영향을 미치게 만들어진 모델을 RNN이라고 한다.\n",
        "\n",
        "현재의 state가 다시 입력이 됨.\n",
        "\n",
        "$$\n",
        "h_t = f_w(h_{t-1}, x_t)\n",
        "$$\n",
        "\n",
        "$h_t$: 새 상태\n",
        "\n",
        "$h_{t-1}$: 이전 상태\n",
        "\n",
        "$x_t$: 연속적인 입력 중 하나\n",
        "\n",
        "여기서 $f_w$는 모든 RNN에 대해서 동일하다. (같은 weight)\n",
        "\n",
        "## Vanilla RNN\n",
        "activation function 중 하나인 `tanh`사용\n",
        "$$\n",
        "h_t = tanh(W_{hh}h_{t-1} + W_{xh}x_t) \\\\\n",
        "y_t = W_{hy}h_t\n",
        "$$"
      ]
    },
    {
      "cell_type": "markdown",
      "metadata": {
        "id": "RI9iIaK7LVRq",
        "colab_type": "text"
      },
      "source": [
        "## 예시\n",
        "\n",
        "character-level language model\n",
        "\n",
        "training sequence: `hello`\n",
        "=> vocabularry = {'h', 'e', 'l', 'o'}\n",
        "\n",
        "X = ['h', 'e', 'l', 'l', 'o']\n",
        "\n",
        "h다음의 단어를 예상하는 모델이라고 생각하면 됨\n",
        "```\n",
        "X_0: h, Y_0: e\n",
        "X_1: e, Y_1: l\n",
        "X_2: l, Y_2: l\n",
        "X_3: l, Y_3: o\n",
        "```\n",
        "\n",
        "우선 각각의 입력을 벡터로 변환\n",
        "\n",
        "* one-hot encoding\n",
        "\n",
        "1. X_0 에 H_xh 를 곱해서 hidden layer(h_0)를 만듦\n",
        "2. X_1 에 H_xh 를 곱하고 앞서 나온 hidden layer(h_0)에 H_hh를 곱한 두개를 더해 새로운 hidden layer(h_1)를 만듦\n",
        "3. X_t 에 H_xh를 곱하고 앞서 나온 hidden layer(h_t-1)에 H_hh를 곱한 두개를 더해 새로운 hidden layer(h_t)를 만듦\n",
        "4. h_t에서 H_hy를 곱해 y_t을 구함"
      ]
    },
    {
      "cell_type": "markdown",
      "metadata": {
        "id": "Wf1mAmy2NkFJ",
        "colab_type": "text"
      },
      "source": [
        "## 사용 용도\n",
        "-- 연속적인 애들\n",
        "\n",
        "* 언어 모델\n",
        "* 음성 인식\n",
        "* 번역\n",
        "* 대화 모델, 질답 모델\n",
        "* 이미지, 비디오 캡션"
      ]
    },
    {
      "cell_type": "markdown",
      "metadata": {
        "id": "6LkeW6naOAfY",
        "colab_type": "text"
      },
      "source": [
        "## 다양한 RNN\n",
        "\n",
        "* one to one (Vanilla RNN)\n",
        "* one to many (Image Captioning)\n",
        "* many to one (정서 예측)\n",
        "* many to many(어긋남) (번역)\n",
        "* many to many(바로바로) (비디오, 각각 프레임)\n",
        "\n",
        "(hidden) layer를 여러개 쌓을 수 있음"
      ]
    },
    {
      "cell_type": "markdown",
      "metadata": {
        "id": "fgfKTGBvOc-Z",
        "colab_type": "text"
      },
      "source": [
        "## 학습에서의 Challenging\n",
        "\n",
        "LSTM"
      ]
    },
    {
      "cell_type": "markdown",
      "metadata": {
        "id": "9RTy5DZEU8Vx",
        "colab_type": "text"
      },
      "source": [
        "# RNN basics\n"
      ]
    },
    {
      "cell_type": "markdown",
      "metadata": {
        "id": "uBgRv8-dvjzc",
        "colab_type": "text"
      },
      "source": [
        "## RNN 구현 방법"
      ]
    },
    {
      "cell_type": "code",
      "metadata": {
        "id": "WzKF4hK5GTBK",
        "colab_type": "code",
        "colab": {}
      },
      "source": [
        "import tensorflow as tf\n",
        "from tensorflow import keras"
      ],
      "execution_count": 1,
      "outputs": []
    },
    {
      "cell_type": "markdown",
      "metadata": {
        "id": "8z5SksVa3hM7",
        "colab_type": "text"
      },
      "source": [
        "```py\n",
        "cell = keras.layers.SimpleRNNCell(units=hidden_size)\n",
        "rnn = keras.layers.RNN(cell, return_sequences=True, return_state=True)\n",
        "outputs, states = rnn(x_data)\n",
        "\n",
        "# or\n",
        "\n",
        "rnn = keras.layers.SimpleRNN(units=hidden_size, return_sequences=True, return_state=True)\n",
        "outputs, states = rnn(x_data)\n",
        "```"
      ]
    },
    {
      "cell_type": "markdown",
      "metadata": {
        "id": "wyhi80bmwcZK",
        "colab_type": "text"
      },
      "source": [
        "RNN input (Xdata): (batch, sequence, input_dim)\n",
        "\n",
        "output: (batch, sequence, hidden_size)"
      ]
    },
    {
      "cell_type": "code",
      "metadata": {
        "id": "LNfVEN3dwas3",
        "colab_type": "code",
        "colab": {}
      },
      "source": [
        "import numpy as np\n",
        "\n",
        "h = [1, 0, 0, 0]\n",
        "e = [0, 1, 0, 0]\n",
        "l = [0, 0, 1, 0]\n",
        "o = [0, 0, 0, 1]"
      ],
      "execution_count": 2,
      "outputs": []
    },
    {
      "cell_type": "code",
      "metadata": {
        "id": "h6R92AhixBr_",
        "colab_type": "code",
        "colab": {}
      },
      "source": [
        "x_data = np.array([[h]], dtype=np.float32)\n",
        "\n",
        "hidden_size = 2\n",
        "rnn = keras.layers.SimpleRNN(hidden_size,\n",
        "                             return_sequences=True,\n",
        "                             return_state=True)\n",
        "outputs, states = rnn(x_data)"
      ],
      "execution_count": 3,
      "outputs": []
    },
    {
      "cell_type": "code",
      "metadata": {
        "id": "31eD3VWtxYEs",
        "colab_type": "code",
        "colab": {
          "base_uri": "https://localhost:8080/",
          "height": 0
        },
        "outputId": "1c0a9953-5ac5-4463-fe4b-13eb72ae6342"
      },
      "source": [
        "print(\"x_data: {}, shape: {}\".format(x_data, x_data.shape))\n",
        "print(\"outputs: {}, shape: {}\".format(outputs, outputs.shape))\n",
        "print(\"states: {}, shape: {}\".format(states, states.shape))"
      ],
      "execution_count": 4,
      "outputs": [
        {
          "output_type": "stream",
          "text": [
            "x_data: [[[1. 0. 0. 0.]]], shape: (1, 1, 4)\n",
            "outputs: [[[-0.26067597 -0.43602306]]], shape: (1, 1, 2)\n",
            "states: [[-0.26067597 -0.43602306]], shape: (1, 2)\n"
          ],
          "name": "stdout"
        }
      ]
    },
    {
      "cell_type": "code",
      "metadata": {
        "id": "OU4KxAV2x17B",
        "colab_type": "code",
        "colab": {
          "base_uri": "https://localhost:8080/",
          "height": 0
        },
        "outputId": "5d5a96f3-d7e0-4e44-c29c-011d3e43d9a2"
      },
      "source": [
        "x_data = np.array([[h]], dtype=np.float32)\n",
        "\n",
        "hidden_size = 4\n",
        "rnn = keras.layers.SimpleRNN(hidden_size,\n",
        "                             return_sequences=True,\n",
        "                             return_state=True)\n",
        "outputs, states = rnn(x_data)\n",
        "\n",
        "print(\"x_data: {}, shape: {}\".format(x_data, x_data.shape))\n",
        "print(\"outputs: {}, shape: {}\".format(outputs, outputs.shape))\n",
        "print(\"states: {}, shape: {}\".format(states, states.shape))"
      ],
      "execution_count": 5,
      "outputs": [
        {
          "output_type": "stream",
          "text": [
            "x_data: [[[1. 0. 0. 0.]]], shape: (1, 1, 4)\n",
            "outputs: [[[-0.43341824  0.47768357 -0.62733346 -0.20383595]]], shape: (1, 1, 4)\n",
            "states: [[-0.43341824  0.47768357 -0.62733346 -0.20383595]], shape: (1, 4)\n"
          ],
          "name": "stdout"
        }
      ]
    },
    {
      "cell_type": "markdown",
      "metadata": {
        "id": "1riMZ3epx-u5",
        "colab_type": "text"
      },
      "source": [
        "## N개의 시퀀스가 있는 RNN (연속 데이터)\n",
        "\n",
        "states는 마지막 시퀀스의 hidden layer. 마지막 outputs와 같음"
      ]
    },
    {
      "cell_type": "code",
      "metadata": {
        "id": "zdPCUXrUyDIJ",
        "colab_type": "code",
        "colab": {
          "base_uri": "https://localhost:8080/",
          "height": 0
        },
        "outputId": "d469fbb3-3c1b-4cb0-956c-72f07d0f1512"
      },
      "source": [
        "x_data = np.array([[h, e, l, l, o]], dtype=np.float32)\n",
        "\n",
        "hidden_size = 2\n",
        "rnn = keras.layers.SimpleRNN(hidden_size,\n",
        "                             return_sequences=True,\n",
        "                             return_state=True)\n",
        "outputs, states = rnn(x_data)\n",
        "\n",
        "print(\"x_data: {}, shape: {}\".format(x_data, x_data.shape))\n",
        "print(\"outputs: {}, shape: {}\".format(outputs, outputs.shape))\n",
        "print(\"states: {}, shape: {}\".format(states, states.shape))"
      ],
      "execution_count": 6,
      "outputs": [
        {
          "output_type": "stream",
          "text": [
            "x_data: [[[1. 0. 0. 0.]\n",
            "  [0. 1. 0. 0.]\n",
            "  [0. 0. 1. 0.]\n",
            "  [0. 0. 1. 0.]\n",
            "  [0. 0. 0. 1.]]], shape: (1, 5, 4)\n",
            "outputs: [[[ 0.6096374   0.6303311 ]\n",
            "  [ 0.24345344 -0.23989509]\n",
            "  [ 0.40254414 -0.6834395 ]\n",
            "  [ 0.49189052 -0.85998344]\n",
            "  [ 0.77106    -0.8834344 ]]], shape: (1, 5, 2)\n",
            "states: [[ 0.77106   -0.8834344]], shape: (1, 2)\n"
          ],
          "name": "stdout"
        }
      ]
    },
    {
      "cell_type": "markdown",
      "metadata": {
        "id": "AjwnqUudycVc",
        "colab_type": "text"
      },
      "source": [
        "## batcing input"
      ]
    },
    {
      "cell_type": "code",
      "metadata": {
        "id": "tIu51lX6yfQ8",
        "colab_type": "code",
        "colab": {
          "base_uri": "https://localhost:8080/",
          "height": 0
        },
        "outputId": "3c947b36-9c05-4020-911c-d14cdbcb7646"
      },
      "source": [
        "x_data = np.array([[h, e, l, l, o],\n",
        "                   [e, o, l, l, l],\n",
        "                   [l, l, e, e, l]], dtype=np.float32)\n",
        "\n",
        "hidden_size = 2\n",
        "rnn = keras.layers.SimpleRNN(hidden_size,\n",
        "                             return_sequences=True,\n",
        "                             return_state=True)\n",
        "outputs, states = rnn(x_data)\n",
        "\n",
        "print(\"x_data: {}, shape: {}\".format(x_data, x_data.shape))\n",
        "print(\"outputs: {}, shape: {}\".format(outputs, outputs.shape))\n",
        "print(\"states: {}, shape: {}\".format(states, states.shape))"
      ],
      "execution_count": 7,
      "outputs": [
        {
          "output_type": "stream",
          "text": [
            "x_data: [[[1. 0. 0. 0.]\n",
            "  [0. 1. 0. 0.]\n",
            "  [0. 0. 1. 0.]\n",
            "  [0. 0. 1. 0.]\n",
            "  [0. 0. 0. 1.]]\n",
            "\n",
            " [[0. 1. 0. 0.]\n",
            "  [0. 0. 0. 1.]\n",
            "  [0. 0. 1. 0.]\n",
            "  [0. 0. 1. 0.]\n",
            "  [0. 0. 1. 0.]]\n",
            "\n",
            " [[0. 0. 1. 0.]\n",
            "  [0. 0. 1. 0.]\n",
            "  [0. 1. 0. 0.]\n",
            "  [0. 1. 0. 0.]\n",
            "  [0. 0. 1. 0.]]], shape: (3, 5, 4)\n",
            "outputs: [[[-0.6035206   0.06891681]\n",
            "  [ 0.16989812 -0.49244806]\n",
            "  [-0.03634044 -0.64023966]\n",
            "  [-0.08800567 -0.7644956 ]\n",
            "  [ 0.8342478   0.34099475]]\n",
            "\n",
            " [[ 0.5800958  -0.17973658]\n",
            "  [ 0.86128247  0.8448383 ]\n",
            "  [-0.40699813  0.60050577]\n",
            "  [-0.833847   -0.3311028 ]\n",
            "  [-0.7087423  -0.86650383]]\n",
            "\n",
            " [[-0.45789295 -0.47064692]\n",
            "  [-0.47258767 -0.82339567]\n",
            "  [ 0.70223254 -0.80327606]\n",
            "  [ 0.93824583 -0.2895848 ]\n",
            "  [ 0.37324232 -0.08911627]]], shape: (3, 5, 2)\n",
            "states: [[ 0.8342478   0.34099475]\n",
            " [-0.7087423  -0.86650383]\n",
            " [ 0.37324232 -0.08911627]], shape: (3, 2)\n"
          ],
          "name": "stdout"
        }
      ]
    },
    {
      "cell_type": "markdown",
      "metadata": {
        "id": "_txXyyZlysFk",
        "colab_type": "text"
      },
      "source": [
        "## Many to one\n",
        "\n",
        "문장 정서\n",
        "\n",
        "워드 단위로 토큰화(자른) 후 벡터화(임베딩 레이어 - 학습 가능)\n",
        "\n",
        "> `<pad>`는 배치를 돌릴 때 문장 길이가 짧으면 뒤에 넣어줌"
      ]
    },
    {
      "cell_type": "code",
      "metadata": {
        "id": "7gm18ZVPyrwU",
        "colab_type": "code",
        "colab": {}
      },
      "source": [
        "# example data\n",
        "words = ['good', 'bad', 'worse', 'so good']\n",
        "y_data = [1, 0, 0, 1]"
      ],
      "execution_count": 8,
      "outputs": []
    },
    {
      "cell_type": "code",
      "metadata": {
        "id": "sQHbn508yrqL",
        "colab_type": "code",
        "colab": {
          "base_uri": "https://localhost:8080/",
          "height": 0
        },
        "outputId": "5ae1371e-2990-4a6d-b3aa-d142764931cd"
      },
      "source": [
        "# create a token dictionary\n",
        "char_set = ['<pad>'] + sorted(list(set(''.join(words))))\n",
        "idx2char = {idx: char for idx, char in enumerate(char_set)}\n",
        "char2idx = {char: idx for idx, char in enumerate(char_set)}\n",
        "\n",
        "print(char_set)\n",
        "print(idx2char)\n",
        "print(char2idx)"
      ],
      "execution_count": 9,
      "outputs": [
        {
          "output_type": "stream",
          "text": [
            "['<pad>', ' ', 'a', 'b', 'd', 'e', 'g', 'o', 'r', 's', 'w']\n",
            "{0: '<pad>', 1: ' ', 2: 'a', 3: 'b', 4: 'd', 5: 'e', 6: 'g', 7: 'o', 8: 'r', 9: 's', 10: 'w'}\n",
            "{'<pad>': 0, ' ': 1, 'a': 2, 'b': 3, 'd': 4, 'e': 5, 'g': 6, 'o': 7, 'r': 8, 's': 9, 'w': 10}\n"
          ],
          "name": "stdout"
        }
      ]
    },
    {
      "cell_type": "code",
      "metadata": {
        "id": "HyVGqNWoz0RP",
        "colab_type": "code",
        "colab": {
          "base_uri": "https://localhost:8080/",
          "height": 0
        },
        "outputId": "25230943-699b-4c31-d307-2726532b16ab"
      },
      "source": [
        "# 토큰화된 시퀀스를 숫자로\n",
        "x_data = list(map(lambda word: [char2idx[char] for char in word], words))\n",
        "x_data_len = list(map(len, x_data))\n",
        "\n",
        "print(x_data)\n",
        "print(x_data_len)"
      ],
      "execution_count": 10,
      "outputs": [
        {
          "output_type": "stream",
          "text": [
            "[[6, 7, 7, 4], [3, 2, 4], [10, 7, 8, 9, 5], [9, 7, 1, 6, 7, 7, 4]]\n",
            "[4, 3, 5, 7]\n"
          ],
          "name": "stdout"
        }
      ]
    },
    {
      "cell_type": "code",
      "metadata": {
        "id": "ZiV7yCw20Qcn",
        "colab_type": "code",
        "colab": {
          "base_uri": "https://localhost:8080/",
          "height": 0
        },
        "outputId": "e199326b-ef1a-44e0-a647-c67db125e774"
      },
      "source": [
        "max_sequence = 10\n",
        "x_data = keras.preprocessing.sequence.pad_sequences(x_data, max_sequence,\n",
        "                                                    padding='post',\n",
        "                                                    truncating='post')\n",
        "print(x_data)\n",
        "print(y_data)"
      ],
      "execution_count": 11,
      "outputs": [
        {
          "output_type": "stream",
          "text": [
            "[[ 6  7  7  4  0  0  0  0  0  0]\n",
            " [ 3  2  4  0  0  0  0  0  0  0]\n",
            " [10  7  8  9  5  0  0  0  0  0]\n",
            " [ 9  7  1  6  7  7  4  0  0  0]]\n",
            "[1, 0, 0, 1]\n"
          ],
          "name": "stdout"
        }
      ]
    },
    {
      "cell_type": "code",
      "metadata": {
        "id": "THraHJx-22PO",
        "colab_type": "code",
        "colab": {
          "base_uri": "https://localhost:8080/",
          "height": 0
        },
        "outputId": "dcc2a953-3481-4463-c93e-7edfd5e947f2"
      },
      "source": [
        "input_dim = len(char2idx)\n",
        "output_dim = len(char2idx)\n",
        "one_hot = np.eye(len(char2idx))\n",
        "hidden_size = 10\n",
        "num_classes = 2\n",
        "\n",
        "model = keras.Sequential([\n",
        "  keras.layers.Embedding(input_dim, output_dim,\n",
        "                         trainable=False,\n",
        "                         mask_zero=True,  # 알아서 패딩값 빼고 학습\n",
        "                         input_length=max_sequence,\n",
        "                         embeddings_initializer=keras.initializers.Constant(one_hot)),\n",
        "  keras.layers.SimpleRNN(hidden_size),\n",
        "  keras.layers.Dense(num_classes)\n",
        "])\n",
        "model.summary()"
      ],
      "execution_count": 12,
      "outputs": [
        {
          "output_type": "stream",
          "text": [
            "Model: \"sequential\"\n",
            "_________________________________________________________________\n",
            "Layer (type)                 Output Shape              Param #   \n",
            "=================================================================\n",
            "embedding (Embedding)        (None, 10, 11)            121       \n",
            "_________________________________________________________________\n",
            "simple_rnn_4 (SimpleRNN)     (None, 10)                220       \n",
            "_________________________________________________________________\n",
            "dense (Dense)                (None, 2)                 22        \n",
            "=================================================================\n",
            "Total params: 363\n",
            "Trainable params: 242\n",
            "Non-trainable params: 121\n",
            "_________________________________________________________________\n"
          ],
          "name": "stdout"
        }
      ]
    },
    {
      "cell_type": "code",
      "metadata": {
        "id": "uT1a80cx4KWe",
        "colab_type": "code",
        "colab": {}
      },
      "source": [
        "def loss_fn(model, x, y):\n",
        "  return tf.reduce_mean(\n",
        "      keras.losses.sparse_categorical_crossentropy(\n",
        "          y, model(x), from_logits=True))\n",
        "\n",
        "lr = 0.01\n",
        "epochs = 30\n",
        "batch_size = 2\n",
        "opt = keras.optimizers.Adam(lr)"
      ],
      "execution_count": 13,
      "outputs": []
    },
    {
      "cell_type": "code",
      "metadata": {
        "id": "C1Hnl_mu5gBh",
        "colab_type": "code",
        "colab": {}
      },
      "source": [
        "tr_dataset = tf.data.Dataset.from_tensor_slices((x_data, y_data))\n",
        "tr_dataset = tr_dataset.shuffle(buffer_size=4)\n",
        "tr_dataset = tr_dataset.batch(batch_size=batch_size)"
      ],
      "execution_count": 14,
      "outputs": []
    },
    {
      "cell_type": "code",
      "metadata": {
        "id": "x0K1-6w251QA",
        "colab_type": "code",
        "colab": {
          "base_uri": "https://localhost:8080/",
          "height": 0
        },
        "outputId": "829a4543-a3d3-4a6f-99cc-9891823a054e"
      },
      "source": [
        "tr_loss_hist = []\n",
        "\n",
        "for epoch in range(epochs+1):\n",
        "  avg_tr_loss =  0\n",
        "  tr_step = 0\n",
        "\n",
        "  for x_mb, y_mb in tr_dataset:\n",
        "    with tf.GradientTape() as tape:\n",
        "      tr_loss = loss_fn(model, x_mb, y_mb)\n",
        "    grads = tape.gradient(tr_loss, model.variables)\n",
        "    opt.apply_gradients(zip(grads, model.variables))\n",
        "    avg_tr_loss += tr_loss\n",
        "    tr_step += 1\n",
        "  avg_tr_loss /= tr_step\n",
        "  tr_loss_hist.append(avg_tr_loss)\n",
        "\n",
        "  if epoch % 5 == 0:\n",
        "    print('epoch: {:3}, tr_loss: {:.3f}'.format(epoch, avg_tr_loss))"
      ],
      "execution_count": 15,
      "outputs": [
        {
          "output_type": "stream",
          "text": [
            "epoch:   0, tr_loss: 0.820\n",
            "epoch:   5, tr_loss: 0.201\n",
            "epoch:  10, tr_loss: 0.038\n",
            "epoch:  15, tr_loss: 0.014\n",
            "epoch:  20, tr_loss: 0.008\n",
            "epoch:  25, tr_loss: 0.006\n",
            "epoch:  30, tr_loss: 0.004\n"
          ],
          "name": "stdout"
        }
      ]
    },
    {
      "cell_type": "code",
      "metadata": {
        "id": "8foyn8Ie62QK",
        "colab_type": "code",
        "colab": {
          "base_uri": "https://localhost:8080/",
          "height": 0
        },
        "outputId": "8fa4537e-7352-4ee6-d45a-97db35c7a17d"
      },
      "source": [
        "yhat = model.predict(x_data)\n",
        "yhat = np.argmax(yhat, -1)\n",
        "print('acc: {:.2%}'.format(np.mean(yhat == y_data)))"
      ],
      "execution_count": 16,
      "outputs": [
        {
          "output_type": "stream",
          "text": [
            "acc: 100.00%\n"
          ],
          "name": "stdout"
        }
      ]
    },
    {
      "cell_type": "code",
      "metadata": {
        "id": "zPAhbZlV7DTc",
        "colab_type": "code",
        "colab": {
          "base_uri": "https://localhost:8080/",
          "height": 0
        },
        "outputId": "ab3b1a20-0834-4a8f-c68c-8bef6147d49e"
      },
      "source": [
        "import matplotlib.pyplot as plt\n",
        "plt.plot(tr_loss_hist)"
      ],
      "execution_count": 17,
      "outputs": [
        {
          "output_type": "execute_result",
          "data": {
            "text/plain": [
              "[<matplotlib.lines.Line2D at 0x7f440542cc18>]"
            ]
          },
          "metadata": {
            "tags": []
          },
          "execution_count": 17
        },
        {
          "output_type": "display_data",
          "data": {
            "image/png": "[encoded data removed]",
            "text/plain": [
              "<Figure size 432x288 with 1 Axes>"
            ]
          },
          "metadata": {
            "tags": [],
            "needs_background": "light"
          }
        }
      ]
    },
    {
      "cell_type": "markdown",
      "metadata": {
        "id": "UeiNy7Eh9qUl",
        "colab_type": "text"
      },
      "source": [
        "## Many to One Stacking\n",
        "\n",
        "hidden layer 여러개\n",
        "\n",
        "layer를 쌓을 수록 구문론적 의미보다 의미론적 의미를 파악하게 된다.\n",
        "\n",
        "시퀀스가 너무 길면 학습이 잘 안되는데, NN을 깊게 만드는 것과 같은 이치이다."
      ]
    },
    {
      "cell_type": "code",
      "metadata": {
        "id": "dJurVK7u3vcK",
        "colab_type": "code",
        "colab": {}
      },
      "source": [
        "# example data\n",
        "sentences = ['What I cannot create, I do not understand.',\n",
        "             'Intellecuals solve problems, geniuses prevent them',\n",
        "             'A person who never made a mistake never tied anything new.',\n",
        "             'The same equations have the same solutions.']\n",
        "y_data = [1,0,0,1] # 1: richard feynman, 0: albert einstein"
      ],
      "execution_count": 18,
      "outputs": []
    },
    {
      "cell_type": "code",
      "metadata": {
        "id": "PzjU85ng3xdw",
        "colab_type": "code",
        "colab": {}
      },
      "source": [
        "char_set = ['<PAD>'] + sorted(list(set(''.join(sentences))))\n",
        "idx2char = {idx: char for idx, char in enumerate(char_set)}\n",
        "char2idx = {char: idx for idx, char in enumerate(char_set)}"
      ],
      "execution_count": 19,
      "outputs": []
    },
    {
      "cell_type": "code",
      "metadata": {
        "id": "_yVentKK4DCE",
        "colab_type": "code",
        "colab": {}
      },
      "source": [
        "x_data = list(map(lambda sentence: [char2idx[char] for char in sentence], sentences))\n",
        "x_data_len = list(map(len, sentences))"
      ],
      "execution_count": 20,
      "outputs": []
    },
    {
      "cell_type": "code",
      "metadata": {
        "id": "4UshHhOy4NUM",
        "colab_type": "code",
        "colab": {}
      },
      "source": [
        "max_sequence = 55\n",
        "x_data = keras.preprocessing.sequence.pad_sequences(x_data, max_sequence,\n",
        "                                                    padding='post',\n",
        "                                                    truncating='post')"
      ],
      "execution_count": 21,
      "outputs": []
    },
    {
      "cell_type": "code",
      "metadata": {
        "id": "TxTPhrbB4b6q",
        "colab_type": "code",
        "colab": {}
      },
      "source": [
        "num_classes = 2\n",
        "hidden_dims = [10, 10]\n",
        "\n",
        "input_dim = len(char2idx)\n",
        "output_dim = len(char2idx)\n",
        "one_hot = np.eye(len(char2idx))"
      ],
      "execution_count": 22,
      "outputs": []
    },
    {
      "cell_type": "code",
      "metadata": {
        "id": "6kz4fFJc9Fae",
        "colab_type": "code",
        "colab": {}
      },
      "source": [
        "tr_dataset = tf.data.Dataset.from_tensor_slices((x_data, y_data))\n",
        "tr_dataset = tr_dataset.shuffle(4)\n",
        "tr_dataset = tr_dataset.batch(2)"
      ],
      "execution_count": 23,
      "outputs": []
    },
    {
      "cell_type": "code",
      "metadata": {
        "id": "Mu04sZ7v4mgV",
        "colab_type": "code",
        "colab": {
          "base_uri": "https://localhost:8080/",
          "height": 0
        },
        "outputId": "46cac927-5cf9-4208-ff12-94fd94ec2c8e"
      },
      "source": [
        "model = keras.Sequential([\n",
        "  keras.layers.Embedding(input_dim=input_dim, output_dim=output_dim,\n",
        "                         trainable=False, mask_zero=True, input_length=max_sequence,\n",
        "                         embeddings_initializer=keras.initializers.Constant(one_hot)),\n",
        "  keras.layers.SimpleRNN(hidden_dims[0], return_sequences=True),\n",
        "  keras.layers.TimeDistributed(keras.layers.Dropout(.2)),\n",
        "  keras.layers.SimpleRNN(hidden_dims[1]),\n",
        "  keras.layers.Dropout(.2),\n",
        "  keras.layers.Dense(num_classes),\n",
        "  keras.layers.Softmax()\n",
        "])\n",
        "\n",
        "model.summary()"
      ],
      "execution_count": 24,
      "outputs": [
        {
          "output_type": "stream",
          "text": [
            "Model: \"sequential_1\"\n",
            "_________________________________________________________________\n",
            "Layer (type)                 Output Shape              Param #   \n",
            "=================================================================\n",
            "embedding_1 (Embedding)      (None, 55, 30)            900       \n",
            "_________________________________________________________________\n",
            "simple_rnn_5 (SimpleRNN)     (None, 55, 10)            410       \n",
            "_________________________________________________________________\n",
            "time_distributed (TimeDistri (None, 55, 10)            0         \n",
            "_________________________________________________________________\n",
            "simple_rnn_6 (SimpleRNN)     (None, 10)                210       \n",
            "_________________________________________________________________\n",
            "dropout_1 (Dropout)          (None, 10)                0         \n",
            "_________________________________________________________________\n",
            "dense_1 (Dense)              (None, 2)                 22        \n",
            "_________________________________________________________________\n",
            "softmax (Softmax)            (None, 2)                 0         \n",
            "=================================================================\n",
            "Total params: 1,542\n",
            "Trainable params: 642\n",
            "Non-trainable params: 900\n",
            "_________________________________________________________________\n"
          ],
          "name": "stdout"
        }
      ]
    },
    {
      "cell_type": "code",
      "metadata": {
        "id": "svhjekTB5zLw",
        "colab_type": "code",
        "colab": {
          "base_uri": "https://localhost:8080/",
          "height": 0
        },
        "outputId": "dc5a83ee-446e-4c25-dced-836912fa1e05"
      },
      "source": [
        "model.compile(\n",
        "    keras.optimizers.Adam(0.01),\n",
        "    keras.losses.sparse_categorical_crossentropy,\n",
        "    ['acc']\n",
        ")\n",
        "history = model.fit(tr_dataset, epochs=30)\n",
        "history = history.history "
      ],
      "execution_count": 25,
      "outputs": [
        {
          "output_type": "stream",
          "text": [
            "Epoch 1/30\n",
            "2/2 [==============================] - 0s 16ms/step - loss: 1.0216 - acc: 0.0000e+00\n",
            "Epoch 2/30\n",
            "2/2 [==============================] - 0s 13ms/step - loss: 0.5390 - acc: 0.7500\n",
            "Epoch 3/30\n",
            "2/2 [==============================] - 0s 16ms/step - loss: 0.5919 - acc: 0.5000\n",
            "Epoch 4/30\n",
            "2/2 [==============================] - 0s 12ms/step - loss: 0.4697 - acc: 1.0000\n",
            "Epoch 5/30\n",
            "2/2 [==============================] - 0s 13ms/step - loss: 0.3863 - acc: 1.0000\n",
            "Epoch 6/30\n",
            "2/2 [==============================] - 0s 20ms/step - loss: 0.2452 - acc: 1.0000\n",
            "Epoch 7/30\n",
            "2/2 [==============================] - 0s 13ms/step - loss: 0.2998 - acc: 1.0000\n",
            "Epoch 8/30\n",
            "2/2 [==============================] - 0s 13ms/step - loss: 0.0879 - acc: 1.0000\n",
            "Epoch 9/30\n",
            "2/2 [==============================] - 0s 13ms/step - loss: 0.0829 - acc: 1.0000\n",
            "Epoch 10/30\n",
            "2/2 [==============================] - 0s 13ms/step - loss: 0.0837 - acc: 1.0000\n",
            "Epoch 11/30\n",
            "2/2 [==============================] - 0s 13ms/step - loss: 0.1868 - acc: 1.0000\n",
            "Epoch 12/30\n",
            "2/2 [==============================] - 0s 13ms/step - loss: 0.1195 - acc: 1.0000\n",
            "Epoch 13/30\n",
            "2/2 [==============================] - 0s 13ms/step - loss: 0.0387 - acc: 1.0000\n",
            "Epoch 14/30\n",
            "2/2 [==============================] - 0s 13ms/step - loss: 0.0753 - acc: 1.0000\n",
            "Epoch 15/30\n",
            "2/2 [==============================] - 0s 13ms/step - loss: 0.0452 - acc: 1.0000\n",
            "Epoch 16/30\n",
            "2/2 [==============================] - 0s 12ms/step - loss: 0.0389 - acc: 1.0000\n",
            "Epoch 17/30\n",
            "2/2 [==============================] - 0s 13ms/step - loss: 0.0212 - acc: 1.0000\n",
            "Epoch 18/30\n",
            "2/2 [==============================] - 0s 12ms/step - loss: 0.0209 - acc: 1.0000\n",
            "Epoch 19/30\n",
            "2/2 [==============================] - 0s 12ms/step - loss: 0.0163 - acc: 1.0000\n",
            "Epoch 20/30\n",
            "2/2 [==============================] - 0s 17ms/step - loss: 0.0224 - acc: 1.0000\n",
            "Epoch 21/30\n",
            "2/2 [==============================] - 0s 13ms/step - loss: 0.0400 - acc: 1.0000\n",
            "Epoch 22/30\n",
            "2/2 [==============================] - 0s 13ms/step - loss: 0.0169 - acc: 1.0000\n",
            "Epoch 23/30\n",
            "2/2 [==============================] - 0s 13ms/step - loss: 0.0252 - acc: 1.0000\n",
            "Epoch 24/30\n",
            "2/2 [==============================] - 0s 12ms/step - loss: 0.0052 - acc: 1.0000\n",
            "Epoch 25/30\n",
            "2/2 [==============================] - 0s 13ms/step - loss: 0.0298 - acc: 1.0000\n",
            "Epoch 26/30\n",
            "2/2 [==============================] - 0s 13ms/step - loss: 0.0046 - acc: 1.0000\n",
            "Epoch 27/30\n",
            "2/2 [==============================] - 0s 13ms/step - loss: 0.0079 - acc: 1.0000\n",
            "Epoch 28/30\n",
            "2/2 [==============================] - 0s 13ms/step - loss: 0.0095 - acc: 1.0000\n",
            "Epoch 29/30\n",
            "2/2 [==============================] - 0s 14ms/step - loss: 0.0222 - acc: 1.0000\n",
            "Epoch 30/30\n",
            "2/2 [==============================] - 0s 13ms/step - loss: 0.0144 - acc: 1.0000\n"
          ],
          "name": "stdout"
        }
      ]
    },
    {
      "cell_type": "code",
      "metadata": {
        "id": "jgo67_is7EQv",
        "colab_type": "code",
        "colab": {
          "base_uri": "https://localhost:8080/",
          "height": 0
        },
        "outputId": "653da452-d0d6-4e5f-bb88-3096a6cec407"
      },
      "source": [
        "import matplotlib.pyplot as plt\n",
        "\n",
        "ax1 = plt.axes()\n",
        "line1 = ax1.plot(history['loss'])\n",
        "\n",
        "ax2 = ax1.twinx()\n",
        "line2 = ax2.plot(history['acc'], c='orange')\n",
        "\n",
        "plt.legend(line1 + line2, ['loss', 'acc'])"
      ],
      "execution_count": 26,
      "outputs": [
        {
          "output_type": "execute_result",
          "data": {
            "text/plain": [
              "<matplotlib.legend.Legend at 0x7f4404a78ef0>"
            ]
          },
          "metadata": {
            "tags": []
          },
          "execution_count": 26
        },
        {
          "output_type": "display_data",
          "data": {
            "image/png": "[encoded data removed]",
            "text/plain": [
              "<Figure size 432x288 with 2 Axes>"
            ]
          },
          "metadata": {
            "tags": [],
            "needs_background": "light"
          }
        }
      ]
    },
    {
      "cell_type": "markdown",
      "metadata": {
        "id": "rGQlFqIP3vAN",
        "colab_type": "text"
      },
      "source": [
        "> note: \"from_logits\". 만약에 모델의 출력이 확률이면 이건 normalize 됐다고 보고, from_logits=False를 준다. 하지만 확률이 아니라 [-inf, inf] 범위일 경우 from_logits=True를 준다."
      ]
    },
    {
      "cell_type": "markdown",
      "metadata": {
        "id": "Oo0B32oUMVdY",
        "colab_type": "text"
      },
      "source": [
        "## Many to Many"
      ]
    },
    {
      "cell_type": "markdown",
      "metadata": {
        "id": "CQYn52T5MV5N",
        "colab_type": "text"
      },
      "source": [
        "시퀀스를 구성하고 있는 각각의 토큰이 모두 출력을 가짐\n",
        "\n",
        "['tensorflow is very easy'] \\\n",
        "['tensorflow' 'is' 'very' 'easy'] \\\n",
        "['noun' 'verb' 'adverb' 'adjective']\n",
        "\n",
        "각각 토큰이 가지고 있는 loss를 합쳐서 sequence loss를 구한다."
      ]
    },
    {
      "cell_type": "code",
      "metadata": {
        "id": "Yf2g6h6sMYe7",
        "colab_type": "code",
        "colab": {}
      },
      "source": [
        "import tensorflow as tf\n",
        "from tensorflow import keras\n",
        "from tensorflow.keras import layers\n",
        "from tensorflow.keras import Sequential, Model\n",
        "from tensorflow.keras.preprocessing.sequence import pad_sequences\n",
        "import matplotlib.pyplot as plt\n",
        "import numpy as np"
      ],
      "execution_count": 27,
      "outputs": []
    },
    {
      "cell_type": "code",
      "metadata": {
        "id": "PEeTIqW4MqzE",
        "colab_type": "code",
        "colab": {}
      },
      "source": [
        "sentences = [['I', 'feel', 'hungry'],\n",
        "     ['tensorflow', 'is', 'very', 'difficult'],\n",
        "     ['tensorflow', 'is', 'a', 'framework', 'for', 'deep', 'learning'],\n",
        "     ['tensorflow', 'is', 'very', 'fast', 'changing']]\n",
        "pos = [['pronoun', 'verb', 'adjective'],\n",
        "     ['noun', 'verb', 'adverb', 'adjective'],\n",
        "     ['noun', 'verb', 'determiner', 'noun', 'preposition', 'adjective', 'noun'],\n",
        "     ['noun', 'verb', 'adverb', 'adjective', 'verb']]"
      ],
      "execution_count": 28,
      "outputs": []
    },
    {
      "cell_type": "code",
      "metadata": {
        "id": "qkLhKtOMMx9S",
        "colab_type": "code",
        "colab": {}
      },
      "source": [
        "# 단어 dict\n",
        "\n",
        "word_list = ['<PAD>'] + sorted(set(sum(sentences, [])))\n",
        "idx2word = {idx: word for idx, word in enumerate(word_list)}\n",
        "word2idx = {word: idx for idx, word in enumerate(word_list)}\n",
        "\n",
        "# 품사 dict\n",
        "\n",
        "pos_list = ['<PAD>'] + sorted(set(sum(pos, [])))\n",
        "idx2pos = {idx: pos for idx, pos in enumerate(pos_list)}\n",
        "pos2idx = {pos: idx for idx, pos in enumerate(pos_list)}"
      ],
      "execution_count": 29,
      "outputs": []
    },
    {
      "cell_type": "code",
      "metadata": {
        "id": "4FsVzcn_Njvi",
        "colab_type": "code",
        "colab": {}
      },
      "source": [
        "max_sequence = 10\n",
        "x_data = list(map(lambda sentence: [word2idx[token] for token in sentence], sentences))\n",
        "y_data = list(map(lambda sentence: [pos2idx[token] for token in sentence], pos))\n",
        "\n",
        "x_data = pad_sequences(x_data, max_sequence, padding='post')\n",
        "x_data_mask = ((x_data != 0) * 1).astype(np.float)\n",
        "x_data_len = list(map(len, sentences))\n",
        "\n",
        "y_data = pad_sequences(y_data, max_sequence, padding='post')"
      ],
      "execution_count": 30,
      "outputs": []
    },
    {
      "cell_type": "code",
      "metadata": {
        "id": "gyH55aZgOXLd",
        "colab_type": "code",
        "colab": {}
      },
      "source": [
        "num_classes = len(pos2idx)\n",
        "hidden_dim = [10]\n",
        "\n",
        "input_dim = len(word2idx)\n",
        "output_dim = len(word2idx)\n",
        "one_hot = np.eye(len(word2idx))"
      ],
      "execution_count": 31,
      "outputs": []
    },
    {
      "cell_type": "code",
      "metadata": {
        "id": "UM2qfQcFPmZ5",
        "colab_type": "code",
        "colab": {
          "base_uri": "https://localhost:8080/",
          "height": 265
        },
        "outputId": "e28c37de-71b1-4d95-b7b7-0019690600f2"
      },
      "source": [
        "model = Sequential()\n",
        "model.add(layers.Embedding(input_dim, output_dim,\n",
        "                           keras.initializers.Constant(one_hot),\n",
        "                           mask_zero=True, trainable=False,\n",
        "                           input_length=max_sequence))\n",
        "model.add(layers.SimpleRNN(hidden_dim[0], return_sequences=True))\n",
        "model.add(layers.TimeDistributed(layers.Dense(num_classes)))\n",
        "\n",
        "model.summary()"
      ],
      "execution_count": 32,
      "outputs": [
        {
          "output_type": "stream",
          "text": [
            "Model: \"sequential_2\"\n",
            "_________________________________________________________________\n",
            "Layer (type)                 Output Shape              Param #   \n",
            "=================================================================\n",
            "embedding_2 (Embedding)      (None, 10, 15)            225       \n",
            "_________________________________________________________________\n",
            "simple_rnn_7 (SimpleRNN)     (None, 10, 10)            260       \n",
            "_________________________________________________________________\n",
            "time_distributed_1 (TimeDist (None, 10, 8)             88        \n",
            "=================================================================\n",
            "Total params: 573\n",
            "Trainable params: 348\n",
            "Non-trainable params: 225\n",
            "_________________________________________________________________\n"
          ],
          "name": "stdout"
        }
      ]
    },
    {
      "cell_type": "code",
      "metadata": {
        "id": "n8iL_Op6QBfY",
        "colab_type": "code",
        "colab": {}
      },
      "source": [
        "def loss_fn(model, x, y, x_len, max_sequence):\n",
        "  masking = tf.sequence_mask(x_len, max_sequence, tf.float32)\n",
        "  valid_time_step = tf.cast(x_len, tf.float32)\n",
        "  sequence_loss = tf.losses.sparse_categorical_crossentropy(\n",
        "      y, model(x), True\n",
        "  ) * masking\n",
        "  sequence_loss = tf.reduce_sum(sequence_loss, -1) / valid_time_step\n",
        "  sequence_loss = tf.reduce_mean(sequence_loss)\n",
        "\n",
        "  return sequence_loss"
      ],
      "execution_count": 33,
      "outputs": []
    },
    {
      "cell_type": "code",
      "metadata": {
        "id": "pjLyZAj4QvxS",
        "colab_type": "code",
        "colab": {}
      },
      "source": [
        "lr = 0.1\n",
        "epochs = 30\n",
        "batch_size = 2\n",
        "opt = keras.optimizers.Adam(lr)"
      ],
      "execution_count": 34,
      "outputs": []
    },
    {
      "cell_type": "code",
      "metadata": {
        "id": "nQFbcCITQ1Af",
        "colab_type": "code",
        "colab": {}
      },
      "source": [
        "tr_dataset = tf.data.Dataset.from_tensor_slices((x_data, y_data, x_data_len))\n",
        "tr_dataset = tr_dataset.shuffle(4)\n",
        "tr_dataset = tr_dataset.batch(batch_size)"
      ],
      "execution_count": 35,
      "outputs": []
    },
    {
      "cell_type": "code",
      "metadata": {
        "id": "fN3UENwRQ_3e",
        "colab_type": "code",
        "colab": {
          "base_uri": "https://localhost:8080/",
          "height": 141
        },
        "outputId": "765cb014-6ef4-4594-c70f-ae76fc2fa206"
      },
      "source": [
        "tr_loss_hist = []\n",
        "\n",
        "for epoch in range(epochs+1):\n",
        "  avg_tr_loss = 0\n",
        "  tr_step = 0\n",
        "    \n",
        "  for x_mb, y_mb, x_mb_len in tr_dataset:\n",
        "    with tf.GradientTape() as tape:\n",
        "      tr_loss = loss_fn(model, x=x_mb, y=y_mb, x_len=x_mb_len, max_sequence=max_sequence)\n",
        "    grads = tape.gradient(target=tr_loss, sources=model.variables)\n",
        "    opt.apply_gradients(grads_and_vars=zip(grads, model.variables))\n",
        "    avg_tr_loss += tr_loss\n",
        "    tr_step += 1\n",
        "  else:\n",
        "    avg_tr_loss /= tr_step\n",
        "    tr_loss_hist.append(avg_tr_loss)\n",
        "\n",
        "  if epoch % 5 == 0:\n",
        "    print('epoch : {:3}, tr_loss : {:.3f}'.format(epoch, avg_tr_loss))"
      ],
      "execution_count": 36,
      "outputs": [
        {
          "output_type": "stream",
          "text": [
            "epoch :   0, tr_loss : 2.081\n",
            "epoch :   5, tr_loss : 0.082\n",
            "epoch :  10, tr_loss : 0.007\n",
            "epoch :  15, tr_loss : 0.002\n",
            "epoch :  20, tr_loss : 0.001\n",
            "epoch :  25, tr_loss : 0.001\n",
            "epoch :  30, tr_loss : 0.001\n"
          ],
          "name": "stdout"
        }
      ]
    },
    {
      "cell_type": "code",
      "metadata": {
        "id": "EG8luSHsQpCs",
        "colab_type": "code",
        "colab": {
          "base_uri": "https://localhost:8080/",
          "height": 282
        },
        "outputId": "bd951660-5a5c-4be9-dbe2-7aa00fb1610b"
      },
      "source": [
        "plt.plot(tr_loss_hist)"
      ],
      "execution_count": 37,
      "outputs": [
        {
          "output_type": "execute_result",
          "data": {
            "text/plain": [
              "[<matplotlib.lines.Line2D at 0x7f440496ee48>]"
            ]
          },
          "metadata": {
            "tags": []
          },
          "execution_count": 37
        },
        {
          "output_type": "display_data",
          "data": {
            "image/png": "[encoded data removed]",
            "text/plain": [
              "<Figure size 432x288 with 1 Axes>"
            ]
          },
          "metadata": {
            "tags": [],
            "needs_background": "light"
          }
        }
      ]
    },
    {
      "cell_type": "markdown",
      "metadata": {
        "id": "plsoah0DVDqJ",
        "colab_type": "text"
      },
      "source": [
        ""
      ]
    },
    {
      "cell_type": "markdown",
      "metadata": {
        "id": "xPWJKAm-VF_U",
        "colab_type": "text"
      },
      "source": [
        "## Many to Many bidirectional"
      ]
    },
    {
      "cell_type": "code",
      "metadata": {
        "id": "FA2uPr56YxiO",
        "colab_type": "code",
        "colab": {}
      },
      "source": [
        "import tensorflow as tf\n",
        "from tensorflow import keras\n",
        "from tensorflow.keras import layers\n",
        "from tensorflow.keras import Sequential, Model\n",
        "from tensorflow.keras.preprocessing.sequence import pad_sequences\n",
        "import tensorflow.keras.backend as K\n",
        "import matplotlib.pyplot as plt\n",
        "import numpy as np"
      ],
      "execution_count": 38,
      "outputs": []
    },
    {
      "cell_type": "code",
      "metadata": {
        "id": "mb-5zmCVZHuQ",
        "colab_type": "code",
        "colab": {}
      },
      "source": [
        "sentences = [['I', 'feel', 'hungry'],\n",
        "     ['tensorflow', 'is', 'very', 'difficult'],\n",
        "     ['tensorflow', 'is', 'a', 'framework', 'for', 'deep', 'learning'],\n",
        "     ['tensorflow', 'is', 'very', 'fast', 'changing']]\n",
        "pos = [['pronoun', 'verb', 'adjective'],\n",
        "     ['noun', 'verb', 'adverb', 'adjective'],\n",
        "     ['noun', 'verb', 'determiner', 'noun', 'preposition', 'adjective', 'noun'],\n",
        "     ['noun', 'verb', 'adverb', 'adjective', 'verb']]"
      ],
      "execution_count": 39,
      "outputs": []
    },
    {
      "cell_type": "code",
      "metadata": {
        "id": "eTqs3SNsZLWj",
        "colab_type": "code",
        "colab": {}
      },
      "source": [
        "# 단어 dict\n",
        "\n",
        "word_list = ['<PAD>'] + sorted(set(sum(sentences, [])))\n",
        "idx2word = {idx: word for idx, word in enumerate(word_list)}\n",
        "word2idx = {word: idx for idx, word in enumerate(word_list)}\n",
        "\n",
        "# 품사 dict\n",
        "\n",
        "pos_list = ['<PAD>'] + sorted(set(sum(pos, [])))\n",
        "idx2pos = {idx: pos for idx, pos in enumerate(pos_list)}\n",
        "pos2idx = {pos: idx for idx, pos in enumerate(pos_list)}"
      ],
      "execution_count": 40,
      "outputs": []
    },
    {
      "cell_type": "code",
      "metadata": {
        "id": "On_4hH1tZOPe",
        "colab_type": "code",
        "colab": {}
      },
      "source": [
        "max_sequence = 10\n",
        "x_data = list(map(lambda sentence: [word2idx[token] for token in sentence], sentences))\n",
        "y_data = list(map(lambda sentence: [pos2idx[token] for token in sentence], pos))\n",
        "\n",
        "x_data = pad_sequences(x_data, max_sequence, padding='post')\n",
        "x_data_mask = ((x_data != 0) * 1).astype(np.float)\n",
        "x_data_len = list(map(len, sentences))\n",
        "\n",
        "y_data = pad_sequences(y_data, max_sequence, padding='post')"
      ],
      "execution_count": 41,
      "outputs": []
    },
    {
      "cell_type": "code",
      "metadata": {
        "id": "xhu20c5QZSCx",
        "colab_type": "code",
        "colab": {}
      },
      "source": [
        "num_classes = len(pos2idx)\n",
        "hidden_dim = [10]\n",
        "\n",
        "input_dim = len(word2idx)\n",
        "output_dim = len(word2idx)\n",
        "one_hot = np.eye(len(word2idx))"
      ],
      "execution_count": 42,
      "outputs": []
    },
    {
      "cell_type": "code",
      "metadata": {
        "id": "V8mFvvRmZUWh",
        "colab_type": "code",
        "colab": {
          "base_uri": "https://localhost:8080/",
          "height": 336
        },
        "outputId": "6f614bb7-1da0-4dcd-af0f-4eda3a23e88a"
      },
      "source": [
        "input_tensor = layers.Input((max_sequence,))\n",
        "embeded = layers.Embedding(input_dim, output_dim,\n",
        "                           keras.initializers.Constant(one_hot),\n",
        "                           mask_zero=True, trainable=False,\n",
        "                           input_length=max_sequence)(input_tensor)\n",
        "\n",
        "last = layers.Bidirectional(\n",
        "    layers.SimpleRNN(hidden_dim[0], return_sequences=True)\n",
        ")(embeded)\n",
        "output = layers.TimeDistributed(layers.Dense(num_classes))(last)\n",
        "valid_time_step = K.sum(K.cast(output._keras_mask, tf.float32), -1)\n",
        "output = K.sum(output, -1)\n",
        "model = Model(input_tensor, output)\n",
        "\n",
        "model.compile(\n",
        "    keras.optimizers.Adam(0.1),\n",
        "    keras.losses.mae,\n",
        "    ['acc']\n",
        ")\n",
        "\n",
        "model.summary()"
      ],
      "execution_count": 48,
      "outputs": [
        {
          "output_type": "stream",
          "text": [
            "Model: \"functional_5\"\n",
            "_________________________________________________________________\n",
            "Layer (type)                 Output Shape              Param #   \n",
            "=================================================================\n",
            "input_3 (InputLayer)         [(None, 10)]              0         \n",
            "_________________________________________________________________\n",
            "embedding_5 (Embedding)      (None, 10, 15)            225       \n",
            "_________________________________________________________________\n",
            "bidirectional_2 (Bidirection (None, 10, 20)            520       \n",
            "_________________________________________________________________\n",
            "time_distributed_4 (TimeDist (None, 10, 8)             168       \n",
            "_________________________________________________________________\n",
            "tf_op_layer_Sum_5 (TensorFlo [(None, 10)]              0         \n",
            "=================================================================\n",
            "Total params: 913\n",
            "Trainable params: 688\n",
            "Non-trainable params: 225\n",
            "_________________________________________________________________\n"
          ],
          "name": "stdout"
        }
      ]
    },
    {
      "cell_type": "code",
      "metadata": {
        "id": "z_htKFizr5fq",
        "colab_type": "code",
        "colab": {}
      },
      "source": [
        "tr_dataset = tf.data.Dataset.from_tensor_slices((x_data, y_data))\n",
        "tr_dataset = tr_dataset.shuffle(4)\n",
        "tr_dataset = tr_dataset.batch(2)"
      ],
      "execution_count": 44,
      "outputs": []
    },
    {
      "cell_type": "code",
      "metadata": {
        "id": "DrsQMuGjspeE",
        "colab_type": "code",
        "colab": {
          "base_uri": "https://localhost:8080/",
          "height": 1000
        },
        "outputId": "ffc3f9d9-0efa-42e9-aefd-68f074f74985"
      },
      "source": [
        "(history) = model.fit(tr_dataset, epochs=30)"
      ],
      "execution_count": 49,
      "outputs": [
        {
          "output_type": "stream",
          "text": [
            "Epoch 1/30\n",
            "2/2 [==============================] - 0s 6ms/step - loss: 1.7128 - acc: 0.2500\n",
            "Epoch 2/30\n",
            "2/2 [==============================] - 0s 4ms/step - loss: 1.6714 - acc: 1.0000\n",
            "Epoch 3/30\n",
            "2/2 [==============================] - 0s 4ms/step - loss: 1.4658 - acc: 0.7500\n",
            "Epoch 4/30\n",
            "2/2 [==============================] - 0s 4ms/step - loss: 1.4807 - acc: 0.7500\n",
            "Epoch 5/30\n",
            "2/2 [==============================] - 0s 4ms/step - loss: 1.4150 - acc: 0.7500\n",
            "Epoch 6/30\n",
            "2/2 [==============================] - 0s 4ms/step - loss: 0.9571 - acc: 0.5000\n",
            "Epoch 7/30\n",
            "2/2 [==============================] - 0s 4ms/step - loss: 0.8341 - acc: 0.2500\n",
            "Epoch 8/30\n",
            "2/2 [==============================] - 0s 4ms/step - loss: 1.2994 - acc: 0.7500\n",
            "Epoch 9/30\n",
            "2/2 [==============================] - 0s 4ms/step - loss: 1.0393 - acc: 0.7500\n",
            "Epoch 10/30\n",
            "2/2 [==============================] - 0s 3ms/step - loss: 0.7033 - acc: 1.0000\n",
            "Epoch 11/30\n",
            "2/2 [==============================] - 0s 4ms/step - loss: 0.7558 - acc: 1.0000\n",
            "Epoch 12/30\n",
            "2/2 [==============================] - 0s 4ms/step - loss: 0.8205 - acc: 0.5000\n",
            "Epoch 13/30\n",
            "2/2 [==============================] - 0s 4ms/step - loss: 0.6368 - acc: 1.0000\n",
            "Epoch 14/30\n",
            "2/2 [==============================] - 0s 4ms/step - loss: 0.6520 - acc: 0.7500\n",
            "Epoch 15/30\n",
            "2/2 [==============================] - 0s 5ms/step - loss: 0.4556 - acc: 0.7500\n",
            "Epoch 16/30\n",
            "2/2 [==============================] - 0s 4ms/step - loss: 0.3991 - acc: 0.5000\n",
            "Epoch 17/30\n",
            "2/2 [==============================] - 0s 4ms/step - loss: 0.3956 - acc: 0.5000\n",
            "Epoch 18/30\n",
            "2/2 [==============================] - 0s 4ms/step - loss: 0.3850 - acc: 0.7500\n",
            "Epoch 19/30\n",
            "2/2 [==============================] - 0s 4ms/step - loss: 0.5401 - acc: 0.7500\n",
            "Epoch 20/30\n",
            "2/2 [==============================] - 0s 4ms/step - loss: 0.3953 - acc: 0.7500\n",
            "Epoch 21/30\n",
            "2/2 [==============================] - 0s 4ms/step - loss: 0.4129 - acc: 0.7500\n",
            "Epoch 22/30\n",
            "2/2 [==============================] - 0s 4ms/step - loss: 0.3975 - acc: 0.7500\n",
            "Epoch 23/30\n",
            "2/2 [==============================] - 0s 4ms/step - loss: 0.3170 - acc: 1.0000\n",
            "Epoch 24/30\n",
            "2/2 [==============================] - 0s 4ms/step - loss: 0.2091 - acc: 1.0000\n",
            "Epoch 25/30\n",
            "2/2 [==============================] - 0s 4ms/step - loss: 0.5339 - acc: 0.7500\n",
            "Epoch 26/30\n",
            "2/2 [==============================] - 0s 4ms/step - loss: 0.8118 - acc: 0.7500\n",
            "Epoch 27/30\n",
            "2/2 [==============================] - 0s 4ms/step - loss: 0.5580 - acc: 0.7500\n",
            "Epoch 28/30\n",
            "2/2 [==============================] - 0s 4ms/step - loss: 0.5096 - acc: 0.7500\n",
            "Epoch 29/30\n",
            "2/2 [==============================] - 0s 7ms/step - loss: 0.4819 - acc: 0.7500\n",
            "Epoch 30/30\n",
            "2/2 [==============================] - 0s 4ms/step - loss: 0.8001 - acc: 1.0000\n"
          ],
          "name": "stdout"
        }
      ]
    },
    {
      "cell_type": "markdown",
      "metadata": {
        "id": "76Gxmhm0Lj1s",
        "colab_type": "text"
      },
      "source": [
        "완벽하지 않아보인다.. 원래 valid time step 으로 마지막에 reduce_sum을 하고 나눠야하는데, 어떻게 하는지 모르겠다."
      ]
    },
    {
      "cell_type": "markdown",
      "metadata": {
        "id": "L-PPgU4LMHr6",
        "colab_type": "text"
      },
      "source": [
        "## Seq2Seq"
      ]
    },
    {
      "cell_type": "markdown",
      "metadata": {
        "id": "1R5BgLTfMSBm",
        "colab_type": "text"
      },
      "source": [
        "Seq2Seq는 다른 RNN과는 달리 시퀀스의 입력이 모두 끝나고, 결과가 나오게 된다.\n",
        "\n",
        "인코더와 디코더로 나뉜다."
      ]
    }
  ]
}