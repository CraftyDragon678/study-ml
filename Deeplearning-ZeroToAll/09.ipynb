{
  "nbformat": 4,
  "nbformat_minor": 0,
  "metadata": {
    "colab": {
      "name": "09",
      "provenance": []
    },
    "kernelspec": {
      "name": "python3",
      "display_name": "Python 3"
    }
  },
  "cells": [
    {
      "cell_type": "markdown",
      "metadata": {
        "id": "_tdVym4RXF2b",
        "colab_type": "text"
      },
      "source": [
        "> [Deep](https://youtu.be/GYecDQQwTdI?list=PLQ28Nx3M4Jrguyuwg4xe9d9t2XE639e5C)\n",
        "\n",
        "# Xor prob\n",
        "\n",
        "코드가 조금 더러워요.."
      ]
    },
    {
      "cell_type": "code",
      "metadata": {
        "id": "2ML_2c_EW-kE",
        "colab_type": "code",
        "colab": {
          "base_uri": "https://localhost:8080/",
          "height": 187
        },
        "outputId": "7104aab8-bc60-481b-c2d6-ec20ac886206"
      },
      "source": [
        "import numpy as np\n",
        "import tensorflow as tf\n",
        "\n",
        "w1 = np.array([5, 5])\n",
        "b1 = -8\n",
        "w2 = np.array([-7, -7])\n",
        "b2 = 3\n",
        "w3 = np.array([-11, -11])\n",
        "b3 = 6\n",
        "\n",
        "x = np.array([[0, 0], [0, 1], [1, 0], [1, 1]])\n",
        "a, b = np.matmul(x, w1) + b1, np.matmul(x, w2) + b2\n",
        "c = np.array([a, b])\n",
        "c = c.swapaxes(0, 1)\n",
        "print(c)\n",
        "c = tf.sigmoid(c.astype(np.float32))\n",
        "print(c)\n",
        "\n",
        "result = np.matmul(c, w3) + b3\n",
        "\n",
        "result = tf.sigmoid(result)\n",
        "\n",
        "print(tf.cast(result >= 0.5, tf.float32))"
      ],
      "execution_count": 63,
      "outputs": [
        {
          "output_type": "stream",
          "text": [
            "[[ -8   3]\n",
            " [ -3  -4]\n",
            " [ -3  -4]\n",
            " [  2 -11]]\n",
            "tf.Tensor(\n",
            "[[3.3542514e-04 9.5257413e-01]\n",
            " [4.7425866e-02 1.7986238e-02]\n",
            " [4.7425866e-02 1.7986238e-02]\n",
            " [8.8079709e-01 1.6701701e-05]], shape=(4, 2), dtype=float32)\n",
            "tf.Tensor([0. 1. 1. 0.], shape=(4,), dtype=float32)\n"
          ],
          "name": "stdout"
        }
      ]
    },
    {
      "cell_type": "markdown",
      "metadata": {
        "id": "vGBY3W9ncITT",
        "colab_type": "text"
      },
      "source": [
        "무튼 대수적으로 가능\n",
        "\n",
        "이런 W와 b는 많을 것이다아\n",
        "\n",
        "코드를 매트릭스 써서 좀더 깔끔하게"
      ]
    },
    {
      "cell_type": "code",
      "metadata": {
        "id": "f6UnJ107cQmL",
        "colab_type": "code",
        "colab": {
          "base_uri": "https://localhost:8080/",
          "height": 85
        },
        "outputId": "05ffc4ba-5c44-4f86-8394-ad53d2caf232"
      },
      "source": [
        "import tensorflow as tf\n",
        "import numpy as np\n",
        "\n",
        "w1 = np.array([\n",
        "  [5, -7],\n",
        "  [5, -7]\n",
        "], dtype=np.float32)\n",
        "b1 = np.array([-8, 3], dtype=np.float32)\n",
        "\n",
        "w2 = np.array([[-11], [-11]], dtype=np.float32)\n",
        "b2 = 6.\n",
        "\n",
        "x = np.array([\n",
        "  [0, 0],\n",
        "  [0, 1],\n",
        "  [1, 0],\n",
        "  [1, 1],\n",
        "], dtype=np.float32)\n",
        "\n",
        "l1 = tf.sigmoid(tf.matmul(x, w1) + b1)\n",
        "l2 = tf.sigmoid(tf.matmul(l1, w2) + b2)\n",
        "\n",
        "print(tf.cast(l2 > 0.5, tf.int32).numpy())"
      ],
      "execution_count": 64,
      "outputs": [
        {
          "output_type": "stream",
          "text": [
            "[[0]\n",
            " [1]\n",
            " [1]\n",
            " [0]]\n"
          ],
          "name": "stdout"
        }
      ]
    },
    {
      "cell_type": "markdown",
      "metadata": {
        "id": "2lTxoc5ddrJc",
        "colab_type": "text"
      },
      "source": [
        "매우 깔끔!\n",
        "\n",
        "그럼 이걸 어떻게 학습 시킬까..?\n",
        "\n",
        "-> Gradient Descent\n",
        "\n",
        "합성함수를 미분하는 것과 같다.\n",
        "\n",
        "cost함수를 weight에 따라 미분하면 된다.\n",
        "\n",
        "미분 지옥"
      ]
    },
    {
      "cell_type": "markdown",
      "metadata": {
        "id": "bN6BQZdTwJUz",
        "colab_type": "text"
      },
      "source": [
        "# LAB\n",
        "\n",
        "## training"
      ]
    },
    {
      "cell_type": "code",
      "metadata": {
        "id": "zxSN6JdjwNGu",
        "colab_type": "code",
        "colab": {}
      },
      "source": [
        "import numpy as np\n",
        "import tensorflow as tf\n",
        "\n",
        "x_data = [[0, 0],\n",
        "          [0, 1],\n",
        "          [1, 0],\n",
        "          [1, 1]]\n",
        "y_data = [[0],\n",
        "          [1],\n",
        "          [1],\n",
        "          [0]]"
      ],
      "execution_count": 65,
      "outputs": []
    },
    {
      "cell_type": "code",
      "metadata": {
        "id": "BOKdiLuowsYN",
        "colab_type": "code",
        "colab": {}
      },
      "source": [
        "dataset = tf.data.Dataset.from_tensor_slices((x_data, y_data)).batch(len(x_data))\n",
        "\n",
        "def preprocess_data(features, labels):\n",
        "  features = tf.cast(features, tf.float32)\n",
        "  labels = tf.cast(labels, tf.float32)\n",
        "  return features, labels"
      ],
      "execution_count": 66,
      "outputs": []
    },
    {
      "cell_type": "code",
      "metadata": {
        "id": "t0_b2ndiw2-s",
        "colab_type": "code",
        "colab": {}
      },
      "source": [
        "W1 = tf.Variable(tf.random.normal([2, 1]))\n",
        "b1 = tf.Variable(tf.random.normal([1]))\n",
        "\n",
        "W2 = tf.Variable(tf.random.normal([2, 1]))\n",
        "b2 = tf.Variable(tf.random.normal([1]))\n",
        "\n",
        "W3 = tf.Variable(tf.random.normal([2, 1]))\n",
        "b3 = tf.Variable(tf.random.normal([1]))"
      ],
      "execution_count": 67,
      "outputs": []
    },
    {
      "cell_type": "code",
      "metadata": {
        "id": "eouIA_MFxFpx",
        "colab_type": "code",
        "colab": {}
      },
      "source": [
        "def neural_net(features):\n",
        "  layer1 = tf.sigmoid(tf.matmul(features, W1) + b1)\n",
        "  layer2 = tf.sigmoid(tf.matmul(features, W2) + b2)\n",
        "  layer3 = tf.concat([layer1, layer2], -1)\n",
        "  layer3 = tf.reshape(layer3, [-1, 2])\n",
        "\n",
        "  hypothesis = tf.sigmoid(tf.matmul(layer3, W3) + b3)\n",
        "  return hypothesis\n",
        "\n",
        "def loss_fn(hypothesis, labels):\n",
        "  cost = -(tf.reduce_mean(labels * tf.math.log(hypothesis)\n",
        "    + (1 - labels) * tf.math.log(1 - hypothesis)))\n",
        "  return cost\n",
        "\n",
        "optimizer = tf.optimizers.SGD()\n",
        "\n",
        "def accuracy_fn(hypothesis, labels):\n",
        "  predicted = tf.cast(hypothesis >= 0.5, tf.float32)\n",
        "  accuracy = tf.reduce_mean(tf.cast(tf.equal(predicted, hypothesis), tf.float32))\n",
        "  return accuracy\n",
        "\n",
        "def grad(hypothesis, features, labels):\n",
        "  with tf.GradientTape() as tape:\n",
        "    loss_value = loss_fn(neural_net(features), labels)\n",
        "  return tape.gradient(loss_value, [W1, W2, W3, b1, b2, b3]), loss_value"
      ],
      "execution_count": 74,
      "outputs": []
    },
    {
      "cell_type": "code",
      "metadata": {
        "id": "qsKQl8o9xFgl",
        "colab_type": "code",
        "colab": {
          "base_uri": "https://localhost:8080/",
          "height": 204
        },
        "outputId": "73ead427-bcca-4785-ee10-b2a945f69225"
      },
      "source": [
        "EPOCHS = 50000\n",
        "\n",
        "for step in range(EPOCHS + 1):\n",
        "  for features, labels in dataset:\n",
        "    features, labels = preprocess_data(features, labels)\n",
        "    grads, loss = grad(None, features, labels)\n",
        "    optimizer.apply_gradients(zip(grads, [W1, W2, W3, b1, b2, b3]))\n",
        "    if step % 5000 == 0:\n",
        "      print(\"Iter : {:5}, Loss {:.4f}\".format(step, loss))"
      ],
      "execution_count": 75,
      "outputs": [
        {
          "output_type": "stream",
          "text": [
            "Iter :     0, Loss 0.7253\n",
            "Iter :  5000, Loss 0.6856\n",
            "Iter : 10000, Loss 0.6698\n",
            "Iter : 15000, Loss 0.6329\n",
            "Iter : 20000, Loss 0.5658\n",
            "Iter : 25000, Loss 0.4867\n",
            "Iter : 30000, Loss 0.3522\n",
            "Iter : 35000, Loss 0.2031\n",
            "Iter : 40000, Loss 0.1218\n",
            "Iter : 45000, Loss 0.0823\n",
            "Iter : 50000, Loss 0.0609\n"
          ],
          "name": "stdout"
        }
      ]
    },
    {
      "cell_type": "markdown",
      "metadata": {
        "id": "jns1c5HLds9L",
        "colab_type": "text"
      },
      "source": [
        "## Tensorboard\n",
        "\n",
        "각종 변수 값, graph flow등을 확인 할 수 있다."
      ]
    }
  ]
}