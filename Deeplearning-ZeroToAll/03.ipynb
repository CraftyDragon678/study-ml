{
 "cells": [
  {
   "cell_type": "markdown",
   "metadata": {
    "colab_type": "text",
    "id": "nGvIFpZH8eUE"
   },
   "source": [
    "# Lec\n",
    "\n",
    "\n",
    "|x|y|\n",
    "|-|-|\n",
    "|1|1|\n",
    "|2|2|\n",
    "|3|3|\n",
    "\n",
    "이러한 데이터가 있을 때 단순화 시킨 cost 함수에 맞춰 계산한 W(가중치)에 따른 예측값은 다음과 같다.\n",
    "\n",
    "W = 0, cost(W) = 4.67\n",
    "$\n",
    "\\frac 1 3 ((0 \\times 1 - 1)^2 + (0 \\times 2 - 2)^2 + (0 \\times 3 - 3)^2))\n",
    "$\n",
    "\n",
    "W = 1, cost(W) = 0\n",
    "$\n",
    "\\frac 1 3 ((1 \\times 1 - 1)^2 + (1 \\times 2 - 2)^2 + (1 \\times 3 - 3)^2))\n",
    "$\n",
    "\n",
    "W = 2, cost(W) = 4.67\n",
    "$\n",
    "\\frac 1 3 ((2 \\times 1 - 1)^2 + (2 \\times 2 - 2)^2 + (2 \\times 3 - 3)^2))\n",
    "$\n",
    "\n",
    "W = 3, cost(W) = 18.67\n",
    "$\n",
    "\\frac 1 3 ((3 \\times 1 - 1)^2 + (3 \\times 2 - 2)^2 + (3 \\times 3 - 3)^2))\n",
    "$\n",
    "\n",
    "이 cost를 W를 가로축으로 해서 나타내면 다음과 같다."
   ]
  },
  {
   "cell_type": "code",
   "execution_count": 1,
   "metadata": {
    "colab": {
     "base_uri": "https://localhost:8080/",
     "height": 282
    },
    "colab_type": "code",
    "id": "LGeRr4M7gqMX",
    "outputId": "6b9d82da-4218-479a-8a41-4777c4501b84"
   },
   "outputs": [
    {
     "data": {
      "text/plain": [
       "<matplotlib.patches.FancyArrow at 0x7ff0bf502898>"
      ]
     },
     "execution_count": 1,
     "metadata": {
      "tags": []
     },
     "output_type": "execute_result"
    },
    {
     "data": {
      "image/png": "[encoded data removed]",
      "text/plain": [
       "<Figure size 432x288 with 1 Axes>"
      ]
     },
     "metadata": {
      "needs_background": "light",
      "tags": []
     },
     "output_type": "display_data"
    }
   ],
   "source": [
    "import matplotlib.pyplot as plt\n",
    "plt.plot([0, 1, 2, 3], [4.67, 0, 4.67, 18.67], 'o')\n",
    "plt.arrow(0, -10, 0, 28, head_width=0.05, head_length=1, fc='k')\n",
    "plt.arrow(-10, 0, 13, 0, head_width=0.5, head_length=.1, fc='k')"
   ]
  },
  {
   "cell_type": "code",
   "execution_count": 2,
   "metadata": {
    "colab": {
     "base_uri": "https://localhost:8080/",
     "height": 296
    },
    "colab_type": "code",
    "id": "_s1slS0a8tnB",
    "outputId": "0601e020-5163-4ae0-e3aa-1e1f839e1229"
   },
   "outputs": [
    {
     "data": {
      "text/plain": [
       "Text(0, 0.5, 'cost')"
      ]
     },
     "execution_count": 2,
     "metadata": {
      "tags": []
     },
     "output_type": "execute_result"
    },
    {
     "data": {
      "image/png": "[encoded data removed]",
      "text/plain": [
       "<Figure size 432x288 with 1 Axes>"
      ]
     },
     "metadata": {
      "needs_background": "light",
      "tags": []
     },
     "output_type": "display_data"
    }
   ],
   "source": [
    "import numpy as np\n",
    "\n",
    "x_data = np.array([1, 2, 3])\n",
    "y_data = np.array([1, 2, 3])\n",
    "xs = []\n",
    "ys = []\n",
    "for W in np.arange(-3, 5, 0.01):\n",
    "    xs.append(W)\n",
    "    ys.append(np.mean(np.square(W * x_data - y_data)))\n",
    "plt.plot(xs, ys)\n",
    "plt.xlabel(\"W\")\n",
    "plt.ylabel(\"cost\")"
   ]
  },
  {
   "cell_type": "markdown",
   "metadata": {
    "colab_type": "text",
    "id": "HmkPa8KDDeh7"
   },
   "source": [
    "cost가 가장 작은 점을 찾아야한다.\n",
    "\n",
    "눈으로는 쉽게 찾을 수 있지만, 기계는 어렵다.\n",
    "\n",
    "이때 사용되는 것이 Gradient descent algorithm이다.\n",
    "\n",
    "Gradient: 경사\n",
    "descent: 하강\n",
    "\n",
    "변수(Weight)가 여러 개여도 사용 가능\n",
    "\n",
    "\n",
    "### 어떻게?\n",
    "cost가 줄어들 수 있는 방향으로 W와 b 값을 바꾼다.\n",
    "-> 기울기\n",
    "\n",
    "cost가 최저점(local minimum)에 도달할 때 까지 반복\n",
    "\n",
    "gradient는 미분을 통해 구한다.\n",
    "\n",
    "### 미분\n",
    "\n",
    "$\n",
    "cost(W, b) = \\frac 1 m \\sum_{i=1}^m (H(x_i) - y_i)^2\n",
    "$\n",
    "을\n",
    "$\n",
    "cost(W, b) = \\frac 1 {2m} \\sum_{i=1}^m (H(x_i) - y_i)^2\n",
    "$\n",
    "로 바꾼다.\n",
    "\n",
    "알파: 러닝레이트\n",
    "$\n",
    "W := W - \\alpha \\frac \\partial {\\partial W} \\frac 1 {2m} \\sum_{i=1}^m (W(x_i) - y_i)^2\n",
    "$\n",
    "$\n",
    "W := W - \\alpha \\frac \\partial {\\partial W} \\frac 1 {2m} \\sum_{i=1}^m ((Wx_i)^2 - 2Wx_iy_i - {y_i}^2)\n",
    "$\n",
    "$\n",
    "W := W - \\alpha \\frac 1 {2m} \\sum_{i=1}^m (2W(x_i)^2 - 2x_iy_i)\n",
    "$\n",
    "$\n",
    "W := W - \\alpha \\frac 1 {2m} \\sum_{i=1}^m 2(Wx_i - y_i)x_i\n",
    "$\n",
    "$\n",
    "W := W - \\alpha \\frac 1 m \\sum_{i=1}^m (Wx_i - y_i)x_i\n",
    "$\n",
    "<- Gradient descent\n",
    "\n",
    "\n",
    "하지만 local minimun이 여러개 존재할 때는 사용할 수 없다.\n",
    "Convex한 함수에서만 사용할 수 있다."
   ]
  },
  {
   "cell_type": "code",
   "execution_count": 3,
   "metadata": {
    "colab": {
     "base_uri": "https://localhost:8080/",
     "height": 265
    },
    "colab_type": "code",
    "id": "IaOp0UcxJAsw",
    "outputId": "021ab532-56aa-44dc-8e29-34d05ea8967b"
   },
   "outputs": [
    {
     "data": {
      "text/plain": [
       "<mpl_toolkits.mplot3d.art3d.Poly3DCollection at 0x7ff0befbdd30>"
      ]
     },
     "execution_count": 3,
     "metadata": {
      "tags": []
     },
     "output_type": "execute_result"
    },
    {
     "data": {
      "image/png": "[encoded data removed]",
      "text/plain": [
       "<Figure size 432x288 with 1 Axes>"
      ]
     },
     "metadata": {
      "needs_background": "light",
      "tags": []
     },
     "output_type": "display_data"
    }
   ],
   "source": [
    "from matplotlib import cm\n",
    "fig = plt.figure()\n",
    "ax = fig.gca(projection='3d')\n",
    "\n",
    "x = np.arange(-4, 4, 0.1)\n",
    "y = np.arange(-4, 4, 0.1)\n",
    "x, y = np.meshgrid(x, y)\n",
    "z = x**2 + 0.3 * x * y + y**2\n",
    "ax.plot_surface(x, y, z, cmap=cm.rainbow)"
   ]
  },
  {
   "cell_type": "markdown",
   "metadata": {
    "colab_type": "text",
    "id": "tB8Mz1Y5JDAR"
   },
   "source": [
    "# LAB\n",
    "\n",
    "코스트 함수를 직접, 텐서플로에서 구현"
   ]
  },
  {
   "cell_type": "code",
   "execution_count": 4,
   "metadata": {
    "colab": {
     "base_uri": "https://localhost:8080/",
     "height": 272
    },
    "colab_type": "code",
    "id": "oXuGtublJluU",
    "outputId": "d15d3056-bbd9-4752-a9d9-0dabdc4d72b3"
   },
   "outputs": [
    {
     "name": "stdout",
     "output_type": "stream",
     "text": [
      "-3.000 |   74.66667\n",
      "-2.429 |   54.85714\n",
      "-1.857 |   38.09524\n",
      "-1.286 |   24.38095\n",
      "-0.714 |   13.71429\n",
      "-0.143 |    6.09524\n",
      " 0.429 |    1.52381\n",
      " 1.000 |    0.00000\n",
      " 1.571 |    1.52381\n",
      " 2.143 |    6.09524\n",
      " 2.714 |   13.71429\n",
      " 3.286 |   24.38095\n",
      " 3.857 |   38.09524\n",
      " 4.429 |   54.85714\n",
      " 5.000 |   74.66667\n"
     ]
    }
   ],
   "source": [
    "X = np.array([1, 2, 3])\n",
    "Y = np.array([1, 2, 3])\n",
    "\n",
    "def cost_func(W, X, Y):\n",
    "  c = 0\n",
    "  for i in range(len(X)):\n",
    "    c += (W * X[i] - Y[i]) ** 2\n",
    "  return c / len(X)\n",
    "\n",
    "for feed_W in np.linspace(-3, 5, 15):\n",
    "  curr_cost = cost_func(feed_W, X, Y)\n",
    "  print(\"{:6.3f} | {:10.5f}\".format(feed_W, curr_cost))"
   ]
  },
  {
   "cell_type": "code",
   "execution_count": 6,
   "metadata": {
    "colab": {
     "base_uri": "https://localhost:8080/",
     "height": 537
    },
    "colab_type": "code",
    "id": "LaultLzoKL3M",
    "outputId": "0fa83ba1-87c3-4c5a-9b5f-ee0697f96969"
   },
   "outputs": [
    {
     "name": "stdout",
     "output_type": "stream",
     "text": [
      "-3.000 |   74.66667\n",
      "-2.429 |   54.85714\n",
      "-1.857 |   38.09524\n",
      "-1.286 |   24.38095\n",
      "-0.714 |   13.71429\n",
      "-0.143 |    6.09524\n",
      " 0.429 |    1.52381\n",
      " 1.000 |    0.00000\n",
      " 1.571 |    1.52381\n",
      " 2.143 |    6.09524\n",
      " 2.714 |   13.71429\n",
      " 3.286 |   24.38095\n",
      " 3.857 |   38.09524\n",
      " 4.429 |   54.85714\n",
      " 5.000 |   74.66667\n"
     ]
    },
    {
     "data": {
      "text/plain": [
       "[<matplotlib.lines.Line2D at 0x7ff07dc5c390>]"
      ]
     },
     "execution_count": 6,
     "metadata": {
      "tags": []
     },
     "output_type": "execute_result"
    },
    {
     "data": {
      "image/png": "[encoded data removed]",
      "text/plain": [
       "<Figure size 432x288 with 1 Axes>"
      ]
     },
     "metadata": {
      "needs_background": "light",
      "tags": []
     },
     "output_type": "display_data"
    }
   ],
   "source": [
    "import tensorflow as tf\n",
    "def cost_func(W, X, Y):\n",
    "  hypothesis = X * W\n",
    "  return tf.reduce_mean(tf.square(hypothesis - Y))\n",
    "\n",
    "W_values = np.linspace(-3, 5, 15)\n",
    "cost_values = []\n",
    "\n",
    "for feed_W in W_values:\n",
    "  curr_cost = cost_func(feed_W, X, Y)\n",
    "  cost_values.append(curr_cost)\n",
    "  print(\"{:6.3f} | {:10.5f}\".format(feed_W, curr_cost))\n",
    "\n",
    "plt.plot(W_values, cost_values)"
   ]
  },
  {
   "cell_type": "markdown",
   "metadata": {
    "colab_type": "text",
    "id": "mKuGdFHlK5kD"
   },
   "source": [
    "## Gradient descent"
   ]
  },
  {
   "cell_type": "code",
   "execution_count": 23,
   "metadata": {
    "colab": {
     "base_uri": "https://localhost:8080/",
     "height": 374
    },
    "colab_type": "code",
    "id": "3eK-ql4BK85Q",
    "outputId": "2e9c9d07-98f9-4b24-ae51-7ea2909a7383"
   },
   "outputs": [
    {
     "name": "stdout",
     "output_type": "stream",
     "text": [
      "0 2.9066668\n",
      "10 2.182286\n",
      "20 1.7331121\n",
      "30 1.4545883\n",
      "40 1.2818812\n",
      "50 1.1747888\n",
      "60 1.1083832\n",
      "70 1.0672063\n",
      "80 1.0416734\n",
      "90 1.0258409\n",
      "100 1.0160232\n",
      "110 1.0099355\n",
      "120 1.0061606\n",
      "130 1.0038201\n",
      "140 1.0023687\n",
      "150 1.0014688\n",
      "160 1.0009108\n",
      "170 1.0005647\n",
      "180 1.00035\n",
      "190 1.000217\n",
      "200 1.0001345\n"
     ]
    }
   ],
   "source": [
    "X = np.array([1., 2., 3.], dtype=np.float32)\n",
    "Y = np.array([1., 2., 3.], dtype=np.float32)\n",
    "W = tf.Variable(3.)\n",
    "\n",
    "alpha = 0.01\n",
    "\n",
    "for step in range(200+1):\n",
    "  gradient = tf.reduce_mean((W * X - Y) * X)\n",
    "  descent = W - gradient * alpha\n",
    "  W.assign(descent)\n",
    "  if step % 10 == 0:\n",
    "    print(step, W.numpy())"
   ]
  },
  {
   "cell_type": "code",
   "execution_count": 25,
   "metadata": {
    "colab": {
     "base_uri": "https://localhost:8080/",
     "height": 544
    },
    "colab_type": "code",
    "id": "PBiZ8irvMa5b",
    "outputId": "3a19ba57-a6f5-469e-80d9-dc90864dc353"
   },
   "outputs": [
    {
     "name": "stdout",
     "output_type": "stream",
     "text": [
      "    0 | 34194.3750 | -80.605370\n",
      "   10 | 13147.7139 | -49.601868\n",
      "   20 |  5055.2891 | -30.377214\n",
      "   30 |  1943.7555 | -18.456388\n",
      "   40 |   747.3727 | -11.064519\n",
      "   50 |   287.3643 |  -6.480967\n",
      "   60 |   110.4913 |  -3.638798\n",
      "   70 |    42.4838 |  -1.876427\n",
      "   80 |    16.3350 |  -0.783615\n",
      "   90 |     6.2808 |  -0.105984\n",
      "  100 |     2.4150 |   0.314201\n",
      "  110 |     0.9286 |   0.574750\n",
      "  120 |     0.3570 |   0.736311\n",
      "  130 |     0.1373 |   0.836492\n",
      "  140 |     0.0528 |   0.898612\n",
      "  150 |     0.0203 |   0.937131\n",
      "  160 |     0.0078 |   0.961016\n",
      "  170 |     0.0030 |   0.975827\n",
      "  180 |     0.0012 |   0.985011\n",
      "  190 |     0.0004 |   0.990706\n",
      "  200 |     0.0002 |   0.994237\n",
      "  210 |     0.0001 |   0.996426\n",
      "  220 |     0.0000 |   0.997784\n",
      "  230 |     0.0000 |   0.998626\n",
      "  240 |     0.0000 |   0.999148\n",
      "  250 |     0.0000 |   0.999472\n",
      "  260 |     0.0000 |   0.999672\n",
      "  270 |     0.0000 |   0.999797\n",
      "  280 |     0.0000 |   0.999874\n",
      "  290 |     0.0000 |   0.999922\n",
      "  300 |     0.0000 |   0.999952\n"
     ]
    }
   ],
   "source": [
    "x_data = [1., 2., 3., 4.]\n",
    "y_data = [1., 3., 5., 7.]\n",
    "\n",
    "W = tf.Variable(tf.random.normal([1], -100., 100.))\n",
    "\n",
    "for step in range(300+1):\n",
    "  hypothesis = W * X\n",
    "  cost = tf.reduce_mean(tf.square(hypothesis - Y))\n",
    "\n",
    "  alpha = 0.01\n",
    "  gradient = tf.reduce_mean((W * X - Y) * X)\n",
    "  descent = W - alpha * gradient\n",
    "  W.assign(descent)\n",
    "\n",
    "  if step % 10 == 0:\n",
    "    print(\"{:5} | {:10.4f} | {:10.6f}\".format(\n",
    "        step, cost.numpy(), W.numpy()[0]\n",
    "    ))"
   ]
  },
  {
   "cell_type": "code",
   "execution_count": 30,
   "metadata": {
    "colab": {
     "base_uri": "https://localhost:8080/",
     "height": 1000
    },
    "colab_type": "code",
    "id": "7XrLfmylNULx",
    "outputId": "063c3c88-db50-4be8-fea8-a7e24a68fb5f"
   },
   "outputs": [
    {
     "name": "stdout",
     "output_type": "stream",
     "text": [
      "Model: \"sequential_4\"\n",
      "_________________________________________________________________\n",
      "Layer (type)                 Output Shape              Param #   \n",
      "=================================================================\n",
      "dense_3 (Dense)              (None, 1)                 2         \n",
      "=================================================================\n",
      "Total params: 2\n",
      "Trainable params: 2\n",
      "Non-trainable params: 0\n",
      "_________________________________________________________________\n",
      "Epoch 1/100\n",
      "1/1 [==============================] - 0s 1ms/step - loss: 1.0617\n",
      "Epoch 2/100\n",
      "1/1 [==============================] - 0s 991us/step - loss: 0.7977\n",
      "Epoch 3/100\n",
      "1/1 [==============================] - 0s 999us/step - loss: 0.6141\n",
      "Epoch 4/100\n",
      "1/1 [==============================] - 0s 926us/step - loss: 0.4864\n",
      "Epoch 5/100\n",
      "1/1 [==============================] - 0s 971us/step - loss: 0.3974\n",
      "Epoch 6/100\n",
      "1/1 [==============================] - 0s 954us/step - loss: 0.3353\n",
      "Epoch 7/100\n",
      "1/1 [==============================] - 0s 2ms/step - loss: 0.2919\n",
      "Epoch 8/100\n",
      "1/1 [==============================] - 0s 940us/step - loss: 0.2614\n",
      "Epoch 9/100\n",
      "1/1 [==============================] - 0s 1ms/step - loss: 0.2399\n",
      "Epoch 10/100\n",
      "1/1 [==============================] - 0s 1ms/step - loss: 0.2246\n",
      "Epoch 11/100\n",
      "1/1 [==============================] - 0s 2ms/step - loss: 0.2137\n",
      "Epoch 12/100\n",
      "1/1 [==============================] - 0s 2ms/step - loss: 0.2057\n",
      "Epoch 13/100\n",
      "1/1 [==============================] - 0s 849us/step - loss: 0.1999\n",
      "Epoch 14/100\n",
      "1/1 [==============================] - 0s 916us/step - loss: 0.1955\n",
      "Epoch 15/100\n",
      "1/1 [==============================] - 0s 1ms/step - loss: 0.1921\n",
      "Epoch 16/100\n",
      "1/1 [==============================] - 0s 4ms/step - loss: 0.1894\n",
      "Epoch 17/100\n",
      "1/1 [==============================] - 0s 930us/step - loss: 0.1872\n",
      "Epoch 18/100\n",
      "1/1 [==============================] - 0s 997us/step - loss: 0.1853\n",
      "Epoch 19/100\n",
      "1/1 [==============================] - 0s 770us/step - loss: 0.1837\n",
      "Epoch 20/100\n",
      "1/1 [==============================] - 0s 834us/step - loss: 0.1822\n",
      "Epoch 21/100\n",
      "1/1 [==============================] - 0s 1ms/step - loss: 0.1809\n",
      "Epoch 22/100\n",
      "1/1 [==============================] - 0s 1ms/step - loss: 0.1796\n",
      "Epoch 23/100\n",
      "1/1 [==============================] - 0s 1ms/step - loss: 0.1784\n",
      "Epoch 24/100\n",
      "1/1 [==============================] - 0s 5ms/step - loss: 0.1773\n",
      "Epoch 25/100\n",
      "1/1 [==============================] - 0s 968us/step - loss: 0.1762\n",
      "Epoch 26/100\n",
      "1/1 [==============================] - 0s 883us/step - loss: 0.1751\n",
      "Epoch 27/100\n",
      "1/1 [==============================] - 0s 877us/step - loss: 0.1740\n",
      "Epoch 28/100\n",
      "1/1 [==============================] - 0s 3ms/step - loss: 0.1729\n",
      "Epoch 29/100\n",
      "1/1 [==============================] - 0s 1ms/step - loss: 0.1719\n",
      "Epoch 30/100\n",
      "1/1 [==============================] - 0s 1ms/step - loss: 0.1709\n",
      "Epoch 31/100\n",
      "1/1 [==============================] - 0s 2ms/step - loss: 0.1698\n",
      "Epoch 32/100\n",
      "1/1 [==============================] - 0s 961us/step - loss: 0.1688\n",
      "Epoch 33/100\n",
      "1/1 [==============================] - 0s 2ms/step - loss: 0.1678\n",
      "Epoch 34/100\n",
      "1/1 [==============================] - 0s 3ms/step - loss: 0.1668\n",
      "Epoch 35/100\n",
      "1/1 [==============================] - 0s 897us/step - loss: 0.1658\n",
      "Epoch 36/100\n",
      "1/1 [==============================] - 0s 1ms/step - loss: 0.1648\n",
      "Epoch 37/100\n",
      "1/1 [==============================] - 0s 945us/step - loss: 0.1638\n",
      "Epoch 38/100\n",
      "1/1 [==============================] - 0s 2ms/step - loss: 0.1628\n",
      "Epoch 39/100\n",
      "1/1 [==============================] - 0s 6ms/step - loss: 0.1619\n",
      "Epoch 40/100\n",
      "1/1 [==============================] - 0s 919us/step - loss: 0.1609\n",
      "Epoch 41/100\n",
      "1/1 [==============================] - 0s 2ms/step - loss: 0.1599\n",
      "Epoch 42/100\n",
      "1/1 [==============================] - 0s 927us/step - loss: 0.1590\n",
      "Epoch 43/100\n",
      "1/1 [==============================] - 0s 875us/step - loss: 0.1580\n",
      "Epoch 44/100\n",
      "1/1 [==============================] - 0s 888us/step - loss: 0.1571\n",
      "Epoch 45/100\n",
      "1/1 [==============================] - 0s 993us/step - loss: 0.1561\n",
      "Epoch 46/100\n",
      "1/1 [==============================] - 0s 980us/step - loss: 0.1552\n",
      "Epoch 47/100\n",
      "1/1 [==============================] - 0s 2ms/step - loss: 0.1543\n",
      "Epoch 48/100\n",
      "1/1 [==============================] - 0s 3ms/step - loss: 0.1534\n",
      "Epoch 49/100\n",
      "1/1 [==============================] - 0s 809us/step - loss: 0.1524\n",
      "Epoch 50/100\n",
      "1/1 [==============================] - 0s 1ms/step - loss: 0.1515\n",
      "Epoch 51/100\n",
      "1/1 [==============================] - 0s 2ms/step - loss: 0.1506\n",
      "Epoch 52/100\n",
      "1/1 [==============================] - 0s 782us/step - loss: 0.1497\n",
      "Epoch 53/100\n",
      "1/1 [==============================] - 0s 870us/step - loss: 0.1488\n",
      "Epoch 54/100\n",
      "1/1 [==============================] - 0s 1ms/step - loss: 0.1479\n",
      "Epoch 55/100\n",
      "1/1 [==============================] - 0s 934us/step - loss: 0.1470\n",
      "Epoch 56/100\n",
      "1/1 [==============================] - 0s 1ms/step - loss: 0.1462\n",
      "Epoch 57/100\n",
      "1/1 [==============================] - 0s 940us/step - loss: 0.1453\n",
      "Epoch 58/100\n",
      "1/1 [==============================] - 0s 1ms/step - loss: 0.1444\n",
      "Epoch 59/100\n",
      "1/1 [==============================] - 0s 802us/step - loss: 0.1436\n",
      "Epoch 60/100\n",
      "1/1 [==============================] - 0s 1ms/step - loss: 0.1427\n",
      "Epoch 61/100\n",
      "1/1 [==============================] - 0s 1ms/step - loss: 0.1418\n",
      "Epoch 62/100\n",
      "1/1 [==============================] - 0s 2ms/step - loss: 0.1410\n",
      "Epoch 63/100\n",
      "1/1 [==============================] - 0s 801us/step - loss: 0.1402\n",
      "Epoch 64/100\n",
      "1/1 [==============================] - 0s 868us/step - loss: 0.1393\n",
      "Epoch 65/100\n",
      "1/1 [==============================] - 0s 1ms/step - loss: 0.1385\n",
      "Epoch 66/100\n",
      "1/1 [==============================] - 0s 2ms/step - loss: 0.1377\n",
      "Epoch 67/100\n",
      "1/1 [==============================] - 0s 4ms/step - loss: 0.1368\n",
      "Epoch 68/100\n",
      "1/1 [==============================] - 0s 866us/step - loss: 0.1360\n",
      "Epoch 69/100\n",
      "1/1 [==============================] - 0s 1ms/step - loss: 0.1352\n",
      "Epoch 70/100\n",
      "1/1 [==============================] - 0s 829us/step - loss: 0.1344\n",
      "Epoch 71/100\n",
      "1/1 [==============================] - 0s 857us/step - loss: 0.1336\n",
      "Epoch 72/100\n",
      "1/1 [==============================] - 0s 1ms/step - loss: 0.1328\n",
      "Epoch 73/100\n",
      "1/1 [==============================] - 0s 791us/step - loss: 0.1320\n",
      "Epoch 74/100\n",
      "1/1 [==============================] - 0s 1ms/step - loss: 0.1312\n",
      "Epoch 75/100\n",
      "1/1 [==============================] - 0s 1ms/step - loss: 0.1304\n",
      "Epoch 76/100\n",
      "1/1 [==============================] - 0s 818us/step - loss: 0.1296\n",
      "Epoch 77/100\n",
      "1/1 [==============================] - 0s 908us/step - loss: 0.1289\n",
      "Epoch 78/100\n",
      "1/1 [==============================] - 0s 854us/step - loss: 0.1281\n",
      "Epoch 79/100\n",
      "1/1 [==============================] - 0s 779us/step - loss: 0.1273\n",
      "Epoch 80/100\n",
      "1/1 [==============================] - 0s 771us/step - loss: 0.1266\n",
      "Epoch 81/100\n",
      "1/1 [==============================] - 0s 854us/step - loss: 0.1258\n",
      "Epoch 82/100\n",
      "1/1 [==============================] - 0s 1ms/step - loss: 0.1251\n",
      "Epoch 83/100\n",
      "1/1 [==============================] - 0s 890us/step - loss: 0.1243\n",
      "Epoch 84/100\n",
      "1/1 [==============================] - 0s 1ms/step - loss: 0.1236\n",
      "Epoch 85/100\n",
      "1/1 [==============================] - 0s 852us/step - loss: 0.1228\n",
      "Epoch 86/100\n",
      "1/1 [==============================] - 0s 849us/step - loss: 0.1221\n",
      "Epoch 87/100\n",
      "1/1 [==============================] - 0s 926us/step - loss: 0.1214\n",
      "Epoch 88/100\n",
      "1/1 [==============================] - 0s 842us/step - loss: 0.1206\n",
      "Epoch 89/100\n",
      "1/1 [==============================] - 0s 1ms/step - loss: 0.1199\n",
      "Epoch 90/100\n",
      "1/1 [==============================] - 0s 915us/step - loss: 0.1192\n",
      "Epoch 91/100\n",
      "1/1 [==============================] - 0s 931us/step - loss: 0.1185\n",
      "Epoch 92/100\n",
      "1/1 [==============================] - 0s 932us/step - loss: 0.1178\n",
      "Epoch 93/100\n",
      "1/1 [==============================] - 0s 922us/step - loss: 0.1171\n",
      "Epoch 94/100\n",
      "1/1 [==============================] - 0s 860us/step - loss: 0.1164\n",
      "Epoch 95/100\n",
      "1/1 [==============================] - 0s 1ms/step - loss: 0.1157\n",
      "Epoch 96/100\n",
      "1/1 [==============================] - 0s 3ms/step - loss: 0.1150\n",
      "Epoch 97/100\n",
      "1/1 [==============================] - 0s 1ms/step - loss: 0.1143\n",
      "Epoch 98/100\n",
      "1/1 [==============================] - 0s 928us/step - loss: 0.1136\n",
      "Epoch 99/100\n",
      "1/1 [==============================] - 0s 1ms/step - loss: 0.1129\n",
      "Epoch 100/100\n",
      "1/1 [==============================] - 0s 958us/step - loss: 0.1123\n",
      "[[-3.427298 ]\n",
      " [-2.7053251]]\n"
     ]
    },
    {
     "data": {
      "text/plain": [
       "Text(0.5, 0, 'epoch')"
      ]
     },
     "execution_count": 30,
     "metadata": {
      "tags": []
     },
     "output_type": "execute_result"
    },
    {
     "data": {
      "image/png": "[encoded data removed]",
      "text/plain": [
       "<Figure size 432x288 with 1 Axes>"
      ]
     },
     "metadata": {
      "needs_background": "light",
      "tags": []
     },
     "output_type": "display_data"
    }
   ],
   "source": [
    "# Keras Version\n",
    "\n",
    "import numpy as np\n",
    "from tensorflow import keras\n",
    "import matplotlib.pyplot as plt\n",
    "\n",
    "x_train = [1, 2, 3, 4]\n",
    "y_train = [0, -1, -2, -3]\n",
    "\n",
    "model = keras.Sequential()\n",
    "model.add(keras.layers.Dense(1, input_dim=1))\n",
    "\n",
    "sgd = keras.optimizers.SGD()\n",
    "model.compile(loss='mse', optimizer=sgd)\n",
    "\n",
    "model.summary()\n",
    "\n",
    "history = model.fit(x_train, y_train, epochs=100)\n",
    "\n",
    "y_predict = model.predict([5, 4])\n",
    "print(y_predict)\n",
    "\n",
    "plt.plot(history.history['loss'])\n",
    "plt.ylabel('cost')\n",
    "plt.xlabel('epoch')"
   ]
  }
 ],
 "metadata": {
  "colab": {
   "name": "03",
   "provenance": []
  },
  "kernelspec": {
   "display_name": "Python 3",
   "name": "python3"
  }
 },
 "nbformat": 4,
 "nbformat_minor": 0
}
