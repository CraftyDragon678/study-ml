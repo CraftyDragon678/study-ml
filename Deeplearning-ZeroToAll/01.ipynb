{
 "cells": [
  {
   "cell_type": "markdown",
   "metadata": {
    "colab_type": "text",
    "id": "jt359pULTweo"
   },
   "source": [
    "> [기본적인 Machine Learning의 용어와 개념 설명](https://youtu.be/qPMeuL2LIqY?list=PLQ28Nx3M4Jrguyuwg4xe9d9t2XE639e5C)\n",
    "\n",
    "# Machine Learning\n",
    "\n",
    "## ML이란\n",
    "\n",
    "정확하게 프로그래밍하는 것이 아니라 입력과 출력을 주고서 중간 단계를 컴퓨터가 스스로 찾아가게 하는 것\n",
    "\n",
    "스팸 필터링, 자율 주행과 같은 조건이 매우 많은 곳에서 쓰인다.\n",
    "\n",
    "> Machine leaning: \"Field of study that gives computers the ability to learn without being explicitly programmed\" Arthur Samuel (1959)\n",
    "\n",
    "\n",
    "* Supervised learning\n",
    "  - labeled training set\n",
    "* Unsupervised learning\n",
    "  - unlabeled data\n",
    "    - 뉴스 분류\n",
    "    - 단어 분류\n",
    "* Reinforcement learning\n",
    "\n",
    "\n",
    "## Supervised learning\n",
    "\n",
    "* 기말 점수를 공부 시간 등에 따라 예상\n",
    "  - regression\n",
    "* 합격/불합격 여부를 공부 시간 등에 따라 예상\n",
    "  - binary classification\n",
    "* 등급을 공부 시간 등에 따라 예상\n",
    "  - multi-label classification\n",
    "\n"
   ]
  }
 ],
 "metadata": {
  "colab": {
   "name": "lec 01",
   "provenance": []
  },
  "kernelspec": {
   "display_name": "Python 3",
   "name": "python3"
  }
 },
 "nbformat": 4,
 "nbformat_minor": 0
}
