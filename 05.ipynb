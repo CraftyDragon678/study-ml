{
  "nbformat": 4,
  "nbformat_minor": 0,
  "metadata": {
    "colab": {
      "name": "05",
      "provenance": []
    },
    "kernelspec": {
      "name": "python3",
      "display_name": "Python 3"
    }
  },
  "cells": [
    {
      "cell_type": "markdown",
      "metadata": {
        "id": "4fjPz5mh8DnQ",
        "colab_type": "text"
      },
      "source": [
        "> [Logistic Regression](https://youtu.be/XnHqv4PC0-M?list=PLQ28Nx3M4Jrguyuwg4xe9d9t2XE639e5C)\n",
        "\n",
        "# Lec\n",
        "\n",
        "## Logistic Regression\n",
        "\n",
        "* Logistic Regression?\n",
        "  - Classification\n",
        "  - Logistic vs Linear\n",
        "* Solving\n",
        "  - Hpothesis Representation\n",
        "  - Sigmoid/Logistic Function\n",
        "  - Decision Boundary\n",
        "  - Cost Function\n",
        "  - Optimizer (Gradient Descent)\n",
        "* Summary\n",
        "\n",
        "## Classification\n",
        "\n",
        "* Exam: **PASS** or **FAIL\n",
        "* Spam: **Ham** or **Spam**\n",
        "* Face: **Real** or **Fake**"
      ]
    },
    {
      "cell_type": "code",
      "metadata": {
        "id": "fj27Qy9O9A8M",
        "colab_type": "code",
        "colab": {
          "base_uri": "https://localhost:8080/",
          "height": 282
        },
        "outputId": "c8eab38a-ba79-4bbe-d345-948d457d9ea5"
      },
      "source": [
        "import matplotlib.pyplot as plt\n",
        "import numpy as np\n",
        "\n",
        "data = np.array([\n",
        "  [1, 2, 0],\n",
        "  [2 ,3, 0],\n",
        "  [3, 1, 0],\n",
        "  [4, 3, 1],\n",
        "  [5, 3, 1],\n",
        "  [6, 2, 1],\n",
        "])\n",
        "\n",
        "yes = np.array(list(map(lambda x: x[0:2], filter(lambda x: x[2], data))))\n",
        "no  = np.array(list(map(lambda x: x[0:2], filter(lambda x: x[2] == 0, data))))\n",
        "\n",
        "plt.plot(yes[:, 0], yes[:, 1], 'bo')\n",
        "plt.plot(no[:, 0], no[:, 1], 'ro')"
      ],
      "execution_count": null,
      "outputs": [
        {
          "output_type": "execute_result",
          "data": {
            "text/plain": [
              "[<matplotlib.lines.Line2D at 0x7f99398532b0>]"
            ]
          },
          "metadata": {
            "tags": []
          },
          "execution_count": 1
        },
        {
          "output_type": "display_data",
          "data": {
            "image/png": "[encoded data removed]",
            "text/plain": [
              "<Figure size 432x288 with 1 Axes>"
            ]
          },
          "metadata": {
            "tags": [],
            "needs_background": "light"
          }
        }
      ]
    },
    {
      "cell_type": "markdown",
      "metadata": {
        "id": "A4TjDS-A-8Ga",
        "colab_type": "text"
      },
      "source": [
        "## Logistic vs Linear\n",
        "\n",
        "Logistic에서는 위와 같은 점을 구분하는 선을 구하는 것,\n",
        "\n",
        "Linear는 점들을 가장 잘 대표하는 선을 구하는 것.\n",
        "\n",
        "* Logistic\n",
        "  - 구분 되는 값, 셀 수 있는 값\n",
        "  - 신발 크기, 직원 수\n",
        "* Linear\n",
        "  - 연속적인 값\n",
        "  - 시간, 무게"
      ]
    },
    {
      "cell_type": "markdown",
      "metadata": {
        "id": "4LFpgol2_gc4",
        "colab_type": "text"
      },
      "source": [
        "## Hypothesis\n",
        "\n",
        "Test => Pass/Fail"
      ]
    },
    {
      "cell_type": "code",
      "metadata": {
        "id": "kW5Fw9ntAkz9",
        "colab_type": "code",
        "colab": {
          "base_uri": "https://localhost:8080/",
          "height": 282
        },
        "outputId": "b7b30d0a-236c-4efd-9a4e-cd09ff6ae9f1"
      },
      "source": [
        "ax = plt.axes()\n",
        "\n",
        "ax.plot([i for i in range(1, 4)], [0 for i in range(1, 4)], 'r^', label='fail')\n",
        "ax.plot([i for i in range(4, 8)], [1 for i in range(4, 8)], 'bs', label='pass')\n",
        "\n",
        "plt.plot([1, 7], [0, 1], \":\")\n",
        "plt.legend()"
      ],
      "execution_count": null,
      "outputs": [
        {
          "output_type": "execute_result",
          "data": {
            "text/plain": [
              "<matplotlib.legend.Legend at 0x7f99304f4908>"
            ]
          },
          "metadata": {
            "tags": []
          },
          "execution_count": 13
        },
        {
          "output_type": "display_data",
          "data": {
            "image/png": "[encoded data removed]",
            "text/plain": [
              "<Figure size 432x288 with 1 Axes>"
            ]
          },
          "metadata": {
            "tags": [],
            "needs_background": "light"
          }
        }
      ]
    },
    {
      "cell_type": "markdown",
      "metadata": {
        "id": "Nf1yUVvOCV4M",
        "colab_type": "text"
      },
      "source": [
        "## Decision Boundary\n",
        "\n",
        "이렇게 만든 선을 가지고 0.5를 기준으로\n",
        "그것보다 크면 1, 작으면 0을 내보낸다.\n",
        "\n",
        "## Limit\n",
        "\n",
        "이러한 선으로는 완벽하게 나타낼 수가 없다.\n",
        "\n",
        "다시 말하면 구분은 가능하다.\n",
        "하지만 Cost를 구하면 결과 값이 잘 나옴에도 불구하고 여전히 실제 데이터와는 차이가 많이 나게 된다.\n",
        "\n",
        "그래서 어떠한 지점을 기준으로 꺾이는 모양이 필요하다.\n",
        "\n",
        "그것이 Logistic, Sigmoid 함수이다.\n",
        "\n",
        "## Sigmoid\n",
        "\n",
        "S자 처럼 생긴, 0~1 사이의 값을 돌려주는 함수이다.\n",
        "\n",
        "$$\n",
        "g(z) = \\frac 1 {(1+e^{-z})}\n",
        "$$"
      ]
    },
    {
      "cell_type": "code",
      "metadata": {
        "id": "rcy7rUwiE055",
        "colab_type": "code",
        "colab": {
          "base_uri": "https://localhost:8080/",
          "height": 265
        },
        "outputId": "92eb23c1-52b7-4734-bb77-570d05400c17"
      },
      "source": [
        "g = lambda z: 1 / (1 + np.exp(-z))\n",
        "\n",
        "x = np.linspace(-5, 5, 100)\n",
        "y = list(map(g, x))\n",
        "plt.plot(x, y)\n",
        "plt.grid()"
      ],
      "execution_count": null,
      "outputs": [
        {
          "output_type": "display_data",
          "data": {
            "image/png": "[encoded data removed]",
            "text/plain": [
              "<Figure size 432x288 with 1 Axes>"
            ]
          },
          "metadata": {
            "tags": [],
            "needs_background": "light"
          }
        }
      ]
    },
    {
      "cell_type": "markdown",
      "metadata": {
        "id": "yw5iCEkhFnME",
        "colab_type": "text"
      },
      "source": [
        "위 z값에 linear regression의 결과를 넣어준다.\n",
        "\n",
        "## Cost Function\n",
        "\n",
        "Linear regression과 동일한 cost함수를 사용하면 다음과 같다."
      ]
    },
    {
      "cell_type": "code",
      "metadata": {
        "id": "CEwKYIqAFw-s",
        "colab_type": "code",
        "colab": {
          "base_uri": "https://localhost:8080/",
          "height": 296
        },
        "outputId": "df098c7c-1155-499b-cf11-4dc3c02f43f1"
      },
      "source": [
        "data = np.array([\n",
        "  [1, 0],\n",
        "  [2, 0],\n",
        "  [3, 0],\n",
        "  [4, 1],\n",
        "  [5, 1],\n",
        "  [6, 1],\n",
        "  [7, 1],\n",
        "])\n",
        "\n",
        "x_data = data[:,0]\n",
        "y_data = data[:,1]\n",
        "\n",
        "hypothesis = lambda w, x: w * x\n",
        "logistic_hypothesis = lambda w, x: 1 / (1 + np.exp(-hypothesis(w, x)))\n",
        "xs = []\n",
        "ys = []\n",
        "\n",
        "for W in np.arange(-10, 10, 0.01):\n",
        "  xs.append(W)\n",
        "  ys.append(np.mean(np.square(logistic_hypothesis(W, x_data) - y_data)))\n",
        "plt.plot(xs, ys)\n",
        "plt.xlabel(\"W\")\n",
        "plt.ylabel(\"cost\")"
      ],
      "execution_count": null,
      "outputs": [
        {
          "output_type": "execute_result",
          "data": {
            "text/plain": [
              "Text(0, 0.5, 'cost')"
            ]
          },
          "metadata": {
            "tags": []
          },
          "execution_count": 36
        },
        {
          "output_type": "display_data",
          "data": {
            "image/png": "[encoded data removed]",
            "text/plain": [
              "<Figure size 432x288 with 1 Axes>"
            ]
          },
          "metadata": {
            "tags": [],
            "needs_background": "light"
          }
        }
      ]
    },
    {
      "cell_type": "markdown",
      "metadata": {
        "id": "KeIfI41RIZe4",
        "colab_type": "text"
      },
      "source": [
        "여기서 볼 수 있듯이 global minimum으로 올 수 없는 초기 W값이 존재한다. => Convex한 곡선이 아니다.\n",
        "\n",
        "cost에서 log를 사용해서, cost를 필요에 따라 기하 급수적으로 늘리고 0으로 만들 수 있다."
      ]
    },
    {
      "cell_type": "code",
      "metadata": {
        "id": "shjVj0QBI0iS",
        "colab_type": "code",
        "colab": {
          "base_uri": "https://localhost:8080/",
          "height": 350
        },
        "outputId": "f54ef9c4-4dea-49be-edc6-e51c0131ab54"
      },
      "source": [
        "data = np.array([\n",
        "  [1, 0],\n",
        "  [2, 0],\n",
        "  [3, 0],\n",
        "  [4, 1],\n",
        "  [5, 1],\n",
        "  [6, 1],\n",
        "  [7, 1],\n",
        "])\n",
        "\n",
        "x_data = data[:,0]\n",
        "y_data = data[:,1]\n",
        "\n",
        "hypothesis = lambda w, x: w * x\n",
        "logistic_hypothesis = lambda w, x: 1 / (1 + np.exp(-hypothesis(w, x)))\n",
        "xs = []\n",
        "ys = []\n",
        "\n",
        "for W in np.arange(-10, 10, 0.01):\n",
        "  xs.append(W)\n",
        "  h = logistic_hypothesis(W, x_data)\n",
        "  ys.append(np.mean(-y_data * np.log(h) - (1 - y_data) * np.log(1 - h)))\n",
        "plt.plot(xs, ys)\n",
        "plt.xlabel(\"W\")\n",
        "plt.ylabel(\"cost\")"
      ],
      "execution_count": null,
      "outputs": [
        {
          "output_type": "stream",
          "text": [
            "/usr/local/lib/python3.6/dist-packages/ipykernel_launcher.py:22: RuntimeWarning: divide by zero encountered in log\n",
            "/usr/local/lib/python3.6/dist-packages/ipykernel_launcher.py:22: RuntimeWarning: invalid value encountered in multiply\n"
          ],
          "name": "stderr"
        },
        {
          "output_type": "execute_result",
          "data": {
            "text/plain": [
              "Text(0, 0.5, 'cost')"
            ]
          },
          "metadata": {
            "tags": []
          },
          "execution_count": 45
        },
        {
          "output_type": "display_data",
          "data": {
            "image/png": "[encoded data removed]",
            "text/plain": [
              "<Figure size 432x288 with 1 Axes>"
            ]
          },
          "metadata": {
            "tags": [],
            "needs_background": "light"
          }
        }
      ]
    },
    {
      "cell_type": "markdown",
      "metadata": {
        "id": "m8LvhRYIJfqQ",
        "colab_type": "text"
      },
      "source": [
        "좀 나은 모양이 나왔다."
      ]
    },
    {
      "cell_type": "markdown",
      "metadata": {
        "id": "6Mjp2wYtK0aP",
        "colab_type": "text"
      },
      "source": [
        "# LAB\n",
        "\n",
        "## Optimization"
      ]
    },
    {
      "cell_type": "code",
      "metadata": {
        "id": "5JUa1LVfK4s7",
        "colab_type": "code",
        "colab": {
          "base_uri": "https://localhost:8080/",
          "height": 884
        },
        "outputId": "f2306a60-0454-48ab-c7de-4c418ab6656c"
      },
      "source": [
        "import tensorflow as tf\n",
        "\n",
        "data = np.array([\n",
        "  [1, 2, 0],\n",
        "  [2 ,3, 0],\n",
        "  [3, 1, 0],\n",
        "  [4, 3, 1],\n",
        "  [5, 3, 1],\n",
        "  [6, 2, 1],\n",
        "], dtype=np.float32)\n",
        "\n",
        "X = data[:, 0:-1]\n",
        "Y = data[:, -1]\n",
        "\n",
        "W = tf.Variable(tf.random.normal([x_data.shape[1], 1]))\n",
        "b = tf.Variable(tf.random.normal([1]))\n",
        "\n",
        "lr = 0.005\n",
        "\n",
        "for i in range(10000+1):\n",
        "  with tf.GradientTape() as tape:\n",
        "    hypothesis = tf.sigmoid(tf.matmul(X, W) + b)\n",
        "    cost = -tf.reduce_mean(Y * tf.math.log(hypothesis) + (1 - Y) * tf.math.log(1 - hypothesis))\n",
        "  W_grad, b_grad = tape.gradient(cost, [W, b])\n",
        "\n",
        "  W.assign_sub(W_grad * lr)\n",
        "  b.assign_sub(b_grad * lr)\n",
        "\n",
        "  if i % 200 == 0:\n",
        "    print(\"{:5} | {:12.4f}\".format(i, cost.numpy(), W_grad.numpy()))"
      ],
      "execution_count": null,
      "outputs": [
        {
          "output_type": "stream",
          "text": [
            "    0 |       0.9762\n",
            "  200 |       0.7066\n",
            "  400 |       0.7024\n",
            "  600 |       0.6999\n",
            "  800 |       0.6984\n",
            " 1000 |       0.6975\n",
            " 1200 |       0.6969\n",
            " 1400 |       0.6966\n",
            " 1600 |       0.6963\n",
            " 1800 |       0.6961\n",
            " 2000 |       0.6960\n",
            " 2200 |       0.6959\n",
            " 2400 |       0.6958\n",
            " 2600 |       0.6957\n",
            " 2800 |       0.6956\n",
            " 3000 |       0.6955\n",
            " 3200 |       0.6954\n",
            " 3400 |       0.6954\n",
            " 3600 |       0.6953\n",
            " 3800 |       0.6952\n",
            " 4000 |       0.6951\n",
            " 4200 |       0.6951\n",
            " 4400 |       0.6950\n",
            " 4600 |       0.6949\n",
            " 4800 |       0.6949\n",
            " 5000 |       0.6948\n",
            " 5200 |       0.6948\n",
            " 5400 |       0.6947\n",
            " 5600 |       0.6947\n",
            " 5800 |       0.6946\n",
            " 6000 |       0.6946\n",
            " 6200 |       0.6945\n",
            " 6400 |       0.6945\n",
            " 6600 |       0.6944\n",
            " 6800 |       0.6944\n",
            " 7000 |       0.6943\n",
            " 7200 |       0.6943\n",
            " 7400 |       0.6943\n",
            " 7600 |       0.6942\n",
            " 7800 |       0.6942\n",
            " 8000 |       0.6942\n",
            " 8200 |       0.6941\n",
            " 8400 |       0.6941\n",
            " 8600 |       0.6941\n",
            " 8800 |       0.6940\n",
            " 9000 |       0.6940\n",
            " 9200 |       0.6940\n",
            " 9400 |       0.6939\n",
            " 9600 |       0.6939\n",
            " 9800 |       0.6939\n",
            "10000 |       0.6939\n"
          ],
          "name": "stdout"
        }
      ]
    },
    {
      "cell_type": "markdown",
      "metadata": {
        "id": "eTpTHVlTQPm5",
        "colab_type": "text"
      },
      "source": [
        "## Keras version"
      ]
    },
    {
      "cell_type": "code",
      "metadata": {
        "id": "yxFpQpxOQKGi",
        "colab_type": "code",
        "colab": {
          "base_uri": "https://localhost:8080/",
          "height": 452
        },
        "outputId": "a2d32677-9f62-49e2-e0ab-01644da04075"
      },
      "source": [
        "from tensorflow import keras\n",
        "\n",
        "data = np.array([\n",
        "  [1, 2, 0],\n",
        "  [2 ,3, 0],\n",
        "  [3, 1, 0],\n",
        "  [4, 3, 1],\n",
        "  [5, 3, 1],\n",
        "  [6, 2, 1],\n",
        "], dtype=np.float32)\n",
        "\n",
        "X = data[:, 0:-1]\n",
        "Y = data[:, -1]\n",
        "\n",
        "model = keras.Sequential()\n",
        "model.add(keras.layers.Dense(1, 'sigmoid', input_dim=X.shape[1]))\n",
        "\n",
        "# binary_crossentropy 함수를 썼을 때 결과가 더 잘 나온다고는 하는데,,, 잘 모르겠음\n",
        "model.compile(loss='binary_crossentropy',\n",
        "            optimizer=keras.optimizers.SGD(0.1), metrics=['accuracy'])\n",
        "model.summary()\n",
        "\n",
        "history = model.fit(X, Y, epochs=2000, verbose=0)\n",
        "plt.plot(history.history['loss'])\n",
        "plt.plot(history.history['accuracy'])"
      ],
      "execution_count": 84,
      "outputs": [
        {
          "output_type": "stream",
          "text": [
            "Model: \"sequential_11\"\n",
            "_________________________________________________________________\n",
            "Layer (type)                 Output Shape              Param #   \n",
            "=================================================================\n",
            "dense_11 (Dense)             (None, 1)                 3         \n",
            "=================================================================\n",
            "Total params: 3\n",
            "Trainable params: 3\n",
            "Non-trainable params: 0\n",
            "_________________________________________________________________\n"
          ],
          "name": "stdout"
        },
        {
          "output_type": "execute_result",
          "data": {
            "text/plain": [
              "[<matplotlib.lines.Line2D at 0x7f98f13c7320>]"
            ]
          },
          "metadata": {
            "tags": []
          },
          "execution_count": 84
        },
        {
          "output_type": "display_data",
          "data": {
            "image/png": "[encoded data removed]",
            "text/plain": [
              "<Figure size 432x288 with 1 Axes>"
            ]
          },
          "metadata": {
            "tags": [],
            "needs_background": "light"
          }
        }
      ]
    },
    {
      "cell_type": "markdown",
      "metadata": {
        "id": "qOjfKYp8S5vy",
        "colab_type": "text"
      },
      "source": [
        "## with diabetes data"
      ]
    },
    {
      "cell_type": "code",
      "metadata": {
        "id": "yIWuqDc5TaeY",
        "colab_type": "code",
        "colab": {
          "base_uri": "https://localhost:8080/",
          "height": 452
        },
        "outputId": "7f951801-1c00-4708-989d-9be7a6997cff"
      },
      "source": [
        "from tensorflow import keras\n",
        "import numpy as np\n",
        "import matplotlib.pyplot as plt\n",
        "\n",
        "data = np.loadtxt(\"./data-03-diabetes.csv\", delimiter=\",\", dtype=np.float32)\n",
        "X = data[:, 0:-1]\n",
        "Y = data[:, -1]\n",
        "\n",
        "model = keras.Sequential()\n",
        "model.add(keras.layers.Dense(1, 'sigmoid', input_dim=X.shape[1]))\n",
        "\n",
        "model.compile(keras.optimizers.SGD(0.01), 'binary_crossentropy', ['accuracy'])\n",
        "model.summary()\n",
        "\n",
        "history = model.fit(X, Y, epochs=2000, verbose=0)\n",
        "\n",
        "plt.plot(history.history['loss'])\n",
        "plt.plot(history.history['accuracy'])"
      ],
      "execution_count": 87,
      "outputs": [
        {
          "output_type": "stream",
          "text": [
            "Model: \"sequential_14\"\n",
            "_________________________________________________________________\n",
            "Layer (type)                 Output Shape              Param #   \n",
            "=================================================================\n",
            "dense_14 (Dense)             (None, 1)                 9         \n",
            "=================================================================\n",
            "Total params: 9\n",
            "Trainable params: 9\n",
            "Non-trainable params: 0\n",
            "_________________________________________________________________\n"
          ],
          "name": "stdout"
        },
        {
          "output_type": "execute_result",
          "data": {
            "text/plain": [
              "[<matplotlib.lines.Line2D at 0x7f98efdb3940>]"
            ]
          },
          "metadata": {
            "tags": []
          },
          "execution_count": 87
        },
        {
          "output_type": "display_data",
          "data": {
            "image/png": "[encoded data removed]",
            "text/plain": [
              "<Figure size 432x288 with 1 Axes>"
            ]
          },
          "metadata": {
            "tags": [],
            "needs_background": "light"
          }
        }
      ]
    }
  ]
}