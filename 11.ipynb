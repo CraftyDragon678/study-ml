{
  "nbformat": 4,
  "nbformat_minor": 0,
  "metadata": {
    "colab": {
      "name": "11",
      "provenance": []
    },
    "kernelspec": {
      "name": "python3",
      "display_name": "Python 3"
    }
  },
  "cells": [
    {
      "cell_type": "markdown",
      "metadata": {
        "id": "P2Lev-AVyrDS",
        "colab_type": "text"
      },
      "source": [
        "# CNN\n",
        "\n",
        "Convolution Nerual Network\n",
        "\n",
        "고양이 실험 처럼 이미지가 주어지면 부분 부분 작게 나누어서 생각하는 방법\n",
        "\n",
        "-> mnist 99%!\n",
        "\n",
        "filter라는 개념을 적용\n",
        "\n",
        "전체적인 플로우는 Conv, Relu, Conv, Relu, Pool, Conv ..., FC => hypothesis\n",
        "\n",
        "# pad\n",
        "\n",
        "(N - F) / stride + 1\n",
        "\n",
        "7x7 입력에 3x3필터를 적용하면 5x5 출력이 나온다.\n",
        "또한 똑같이 7x7입력에 3x3필터를 적용하는데 3칸씩 띄워서 만들면 하나가 모자란다.\n",
        "\n",
        "그래서 보통 zero pad를 가장자리에 붙인다.\n",
        "\n",
        "입력과 출력의 shape가 같도록 만듦\n",
        "패딩 개수는 (F - 1) / 2\n",
        "\n",
        "# Pooling\n",
        "간단하게 sampling(resize) 하는 과정이라고 보면 됨\n",
        "레이어에서 하나씩 뽑아 크기를 줄임\n",
        "\n",
        "가장 많이 사용하는 것이 maxPooling\n",
        "\n",
        "여기에서도 필터 개념 등장\n",
        "\n",
        "ex)\n",
        "4x4로 된 한 레이어를 2x2필터로 2칸씩\n",
        "\n",
        "|||||\n",
        "|-|-|-|-|\n",
        "|1|1|2|4|\n",
        "|5|6|7|8|\n",
        "|3|2|1|0|\n",
        "|1|2|3|4|\n",
        "\n",
        "이런 이미지가 있을 때 2x2씩 보아 가장 큰 것 가져옴\n",
        "\n",
        "|||\n",
        "|-|-|\n",
        "|6|8|\n",
        "|3|4|\n",
        "\n",
        "# Fully Conntected Layer (FC layer)\n",
        "\n",
        "`keras.layers.Dense`\n",
        "이미 많이 써봤다"
      ]
    }
  ]
}