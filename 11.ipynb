{
  "nbformat": 4,
  "nbformat_minor": 0,
  "metadata": {
    "colab": {
      "name": "11",
      "provenance": [],
      "collapsed_sections": []
    },
    "kernelspec": {
      "name": "python3",
      "display_name": "Python 3"
    }
  },
  "cells": [
    {
      "cell_type": "markdown",
      "metadata": {
        "id": "P2Lev-AVyrDS",
        "colab_type": "text"
      },
      "source": [
        "# CNN\n",
        "\n",
        "Convolution Nerual Network\n",
        "\n",
        "고양이 실험 처럼 이미지가 주어지면 부분 부분 작게 나누어서 생각하는 방법\n",
        "\n",
        "-> mnist 99%!\n",
        "\n",
        "filter라는 개념을 적용\n",
        "\n",
        "전체적인 플로우는 Conv, Relu, Conv, Relu, Pool, Conv ..., FC => hypothesis\n",
        "\n",
        "filter 개수에 따라 출력의 channel수가 결정 됨\n",
        "\n",
        "4-D tensor 데이터가 왔다갔다...\n",
        "(batch, height, width, channel)\n",
        "\n",
        "`keras.layers.Conv2D`\n",
        "stride가 2D로 이뤄져서 2D\n",
        "\n",
        "# pad\n",
        "\n",
        "(N - F) / stride + 1\n",
        "\n",
        "7x7 입력에 3x3필터를 적용하면 5x5 출력이 나온다.\n",
        "또한 똑같이 7x7입력에 3x3필터를 적용하는데 3칸씩 띄워서 만들면 하나가 모자란다.\n",
        "\n",
        "레이어 깊게 쌓는데 지장 -> 그래서 보통 zero pad를 가장자리에 붙인다.\n",
        "\n",
        "입력과 출력의 shape가 같도록 만듦\n",
        "패딩 개수는 (F - 1) / 2\n",
        "\n",
        "# Pooling\n",
        "간단하게 sampling(resize) 하는 과정이라고 보면 됨\n",
        "레이어에서 하나씩 뽑아 크기를 줄임\n",
        "\n",
        "가장 많이 사용하는 것이 maxPooling. Average Pooling도 있다고 한다.\n",
        "\n",
        "`keras.layers.MaxPool2D`\n",
        "\n",
        "여기에서도 필터 개념 등장\n",
        "\n",
        "ex)\n",
        "4x4로 된 한 레이어를 2x2필터로 2칸씩\n",
        "\n",
        "|||||\n",
        "|-|-|-|-|\n",
        "|1|1|2|4|\n",
        "|5|6|7|8|\n",
        "|3|2|1|0|\n",
        "|1|2|3|4|\n",
        "\n",
        "이런 이미지가 있을 때 2x2씩 보아 가장 큰 것 가져옴\n",
        "\n",
        "|||\n",
        "|-|-|\n",
        "|6|8|\n",
        "|3|4|\n",
        "\n",
        "# Fully Conntected Layer (FC layer)\n",
        "\n",
        "`keras.layers.Dense`\n",
        "이미 많이 써봤다"
      ]
    },
    {
      "cell_type": "markdown",
      "metadata": {
        "id": "OFK-DF0mnm-F",
        "colab_type": "text"
      },
      "source": [
        "# `keras.layers.Conv2D`\n",
        "\n",
        "```py\n",
        "__init__(\n",
        "  filters,  # filter의 수\n",
        "  kernel_size,  # filter의 크기 (tuple/list, integer)\n",
        "  strides=(1, 1),  # stride 건너뜀 (tuple/list, integer)\n",
        "  padding='valid',  # valid: 패딩 없음, same: Input, Output shape가 같도록 (대소구분X)\n",
        "  data_format=None,  # channels_last, channels_first. (batch, height, width, channel), (batch, channel, height, width)\n",
        "  dilation_rate=(1, 1),\n",
        "  activation=None,\n",
        "  use_bias=True,\n",
        "  kernel_initializer='glorot_uniform',\n",
        "  bias_initializer='zeros',\n",
        "  kernel_regularizer=None,\n",
        "  bias_regularizer=None,\n",
        "  activity_regularizer=None,\n",
        "  kernel_constraint=None,\n",
        "  bias_constraint=None,\n",
        "  **kwargs\n",
        ")\n",
        "```\n",
        "\n",
        "커널(weight)를 수동으로 줄 경우, shape를 다음과 같은 형태로 준다.\n",
        "(height, width, in_channel, out_channel)\n",
        "\n",
        "in_channel: 말 그대로 channel. 진짜 이미지가 들어왔을 경우, rgb, gray scale등이 되겠찌??"
      ]
    },
    {
      "cell_type": "code",
      "metadata": {
        "id": "Pcj_c4LYsEeN",
        "colab_type": "code",
        "colab": {}
      },
      "source": [
        "import tensorflow as tf\n",
        "from tensorflow import keras\n",
        "import matplotlib.pyplot as plt\n",
        "import numpy as np"
      ],
      "execution_count": 1,
      "outputs": []
    },
    {
      "cell_type": "code",
      "metadata": {
        "id": "q0oZ2T_LsK-i",
        "colab_type": "code",
        "colab": {
          "base_uri": "https://localhost:8080/",
          "height": 286
        },
        "outputId": "fc933147-55f7-41bb-a49b-0bbb41a3daa2"
      },
      "source": [
        "image = tf.constant([[[[1], [2], [3]],\n",
        "                      [[4], [5], [6]],\n",
        "                      [[7], [8], [9]]]], dtype=tf.float32)\n",
        "\n",
        "plt.imshow(image.numpy().reshape(3, 3), cmap='gray')\n",
        "print(\"image.shape\", image.shape)"
      ],
      "execution_count": 2,
      "outputs": [
        {
          "output_type": "stream",
          "text": [
            "image.shape (1, 3, 3, 1)\n"
          ],
          "name": "stdout"
        },
        {
          "output_type": "display_data",
          "data": {
            "image/png": "[encoded data removed]",
            "text/plain": [
              "<Figure size 432x288 with 1 Axes>"
            ]
          },
          "metadata": {
            "tags": [],
            "needs_background": "light"
          }
        }
      ]
    },
    {
      "cell_type": "code",
      "metadata": {
        "id": "9BIgfpTdtAME",
        "colab_type": "code",
        "colab": {
          "base_uri": "https://localhost:8080/",
          "height": 34
        },
        "outputId": "673ce62c-53bd-4401-b4f1-852deb39bb05"
      },
      "source": [
        "weight = np.array([[ [[1.]], [[1.]] ],\n",
        "                   [ [[1.]], [[1.]] ]\n",
        "                  ])\n",
        "print(\"weight.shape\", weight.shape)"
      ],
      "execution_count": 3,
      "outputs": [
        {
          "output_type": "stream",
          "text": [
            "weight.shape (2, 2, 1, 1)\n"
          ],
          "name": "stdout"
        }
      ]
    },
    {
      "cell_type": "code",
      "metadata": {
        "id": "3HUaHO3TV8KK",
        "colab_type": "code",
        "colab": {
          "base_uri": "https://localhost:8080/",
          "height": 320
        },
        "outputId": "b9dbabbd-7b7f-472a-8771-452487a27ff0"
      },
      "source": [
        "weight_init = tf.initializers.constant(weight)\n",
        "conv2d = keras.layers.Conv2D(filters=1, kernel_size=2, padding='valid',\n",
        "                             kernel_initializer=weight_init)(image)\n",
        "plt.imshow(conv2d.numpy().reshape(2, 2), cmap=\"gray\")\n",
        "print(\"conv2d.shape\", conv2d.shape)\n",
        "print(conv2d.numpy().reshape(2, 2))"
      ],
      "execution_count": 4,
      "outputs": [
        {
          "output_type": "stream",
          "text": [
            "conv2d.shape (1, 2, 2, 1)\n",
            "[[12. 16.]\n",
            " [24. 28.]]\n"
          ],
          "name": "stdout"
        },
        {
          "output_type": "display_data",
          "data": {
            "image/png": "[encoded data removed]",
            "text/plain": [
              "<Figure size 432x288 with 1 Axes>"
            ]
          },
          "metadata": {
            "tags": [],
            "needs_background": "light"
          }
        }
      ]
    },
    {
      "cell_type": "markdown",
      "metadata": {
        "id": "5afYICHrXGcj",
        "colab_type": "text"
      },
      "source": [
        "일력과 출력의 width, height가 같게..?"
      ]
    },
    {
      "cell_type": "code",
      "metadata": {
        "id": "FSN6b3SNXMWe",
        "colab_type": "code",
        "colab": {
          "base_uri": "https://localhost:8080/",
          "height": 337
        },
        "outputId": "d6e837ee-8188-45da-a528-e7bcb68c1b4f"
      },
      "source": [
        "conv2d = keras.layers.Conv2D(filters=1, kernel_size=2, padding='same',\n",
        "                             kernel_initializer=weight_init)(image)\n",
        "plt.imshow(conv2d.numpy().reshape(3, 3), cmap=\"gray\")\n",
        "print(\"conv2d.shape\", conv2d.shape)\n",
        "print(conv2d.numpy().reshape(3, 3))"
      ],
      "execution_count": 5,
      "outputs": [
        {
          "output_type": "stream",
          "text": [
            "conv2d.shape (1, 3, 3, 1)\n",
            "[[12. 16.  9.]\n",
            " [24. 28. 15.]\n",
            " [15. 17.  9.]]\n"
          ],
          "name": "stdout"
        },
        {
          "output_type": "display_data",
          "data": {
            "image/png": "[encoded data removed]",
            "text/plain": [
              "<Figure size 432x288 with 1 Axes>"
            ]
          },
          "metadata": {
            "tags": [],
            "needs_background": "light"
          }
        }
      ]
    },
    {
      "cell_type": "markdown",
      "metadata": {
        "id": "WUTsVRJUYKjr",
        "colab_type": "text"
      },
      "source": [
        "필터를 여러개 써보쟈!"
      ]
    },
    {
      "cell_type": "code",
      "metadata": {
        "id": "1P0f-8YhXORR",
        "colab_type": "code",
        "colab": {
          "base_uri": "https://localhost:8080/",
          "height": 51
        },
        "outputId": "8d529007-83f5-4d7d-d415-fb3ed0317615"
      },
      "source": [
        "weight = np.array([[ [[1., 10., -1.]], [[1., 10., -1.]] ],\n",
        "                   [ [[1., 10., -1.]], [[1., 10., -1.]] ]\n",
        "                  ])\n",
        "print(\"weight.shape\", weight.shape)\n",
        "\n",
        "weight_init = tf.initializers.constant(weight)\n",
        "conv2d = keras.layers.Conv2D(filters=3, kernel_size=2, padding='same',\n",
        "                             kernel_initializer=weight_init)(image)\n",
        "print(\"conv2d.shape\", conv2d.shape)"
      ],
      "execution_count": 6,
      "outputs": [
        {
          "output_type": "stream",
          "text": [
            "weight.shape (2, 2, 1, 3)\n",
            "conv2d.shape (1, 3, 3, 3)\n"
          ],
          "name": "stdout"
        }
      ]
    },
    {
      "cell_type": "markdown",
      "metadata": {
        "id": "BqQaIVc4b2GZ",
        "colab_type": "text"
      },
      "source": [
        "# `keras.layers.MaxPool2D`\n",
        "```py\n",
        "__init__(\n",
        "  pool_size=(2, 2),\n",
        "  strides=None,\n",
        "  padding='valid',\n",
        "  data_format=None,\n",
        "  **kwargs\n",
        ")\n",
        "```"
      ]
    },
    {
      "cell_type": "code",
      "metadata": {
        "id": "fiGUcPYwY3rX",
        "colab_type": "code",
        "colab": {
          "base_uri": "https://localhost:8080/",
          "height": 51
        },
        "outputId": "c7370c33-f52c-4e68-c038-6bd32ebfb817"
      },
      "source": [
        "image = tf.constant([[[[4], [3]],\n",
        "                     [[2], [1]]]], dtype=tf.float32)\n",
        "pool = keras.layers.MaxPool2D()(image)\n",
        "print(\"pool.shape\", pool.shape)\n",
        "print(pool.numpy())"
      ],
      "execution_count": 7,
      "outputs": [
        {
          "output_type": "stream",
          "text": [
            "pool.shape (1, 1, 1, 1)\n",
            "[[[[4.]]]]\n"
          ],
          "name": "stdout"
        }
      ]
    },
    {
      "cell_type": "code",
      "metadata": {
        "id": "h_p6KyzRdT2z",
        "colab_type": "code",
        "colab": {
          "base_uri": "https://localhost:8080/",
          "height": 119
        },
        "outputId": "e0dbdd88-241f-4781-b6eb-edf1e2787b84"
      },
      "source": [
        "image = tf.constant([[[[4], [3]],\n",
        "                     [[2], [1]]]], dtype=tf.float32)\n",
        "pool = keras.layers.MaxPool2D(strides=1, padding=\"same\")(image)\n",
        "print(\"pool.shape\", pool.shape)\n",
        "print(pool.numpy())"
      ],
      "execution_count": 8,
      "outputs": [
        {
          "output_type": "stream",
          "text": [
            "pool.shape (1, 2, 2, 1)\n",
            "[[[[4.]\n",
            "   [3.]]\n",
            "\n",
            "  [[2.]\n",
            "   [1.]]]]\n"
          ],
          "name": "stdout"
        }
      ]
    },
    {
      "cell_type": "markdown",
      "metadata": {
        "id": "BR7eGXgAr7v7",
        "colab_type": "text"
      },
      "source": [
        "# MNIST"
      ]
    },
    {
      "cell_type": "code",
      "metadata": {
        "id": "3e757x4-sJ58",
        "colab_type": "code",
        "colab": {
          "base_uri": "https://localhost:8080/",
          "height": 51
        },
        "outputId": "b99b257e-0949-4e07-bdae-da431ace60f5"
      },
      "source": [
        "(train_data, train_labels), (test_data, test_labels) = keras.datasets.mnist.load_data()"
      ],
      "execution_count": 9,
      "outputs": [
        {
          "output_type": "stream",
          "text": [
            "Downloading data from https://storage.googleapis.com/tensorflow/tf-keras-datasets/mnist.npz\n",
            "11493376/11490434 [==============================] - 0s 0us/step\n"
          ],
          "name": "stdout"
        }
      ]
    },
    {
      "cell_type": "code",
      "metadata": {
        "id": "7GJNeM90sRxc",
        "colab_type": "code",
        "colab": {}
      },
      "source": [
        "train_data = train_data.astype(np.float32) / 255.\n",
        "test_data = test_data.astype(np.float32) / 255."
      ],
      "execution_count": 10,
      "outputs": []
    },
    {
      "cell_type": "code",
      "metadata": {
        "id": "jTurC7NvsboU",
        "colab_type": "code",
        "colab": {
          "base_uri": "https://localhost:8080/",
          "height": 282
        },
        "outputId": "765358ce-03a3-4e88-aa33-785aaadb19e3"
      },
      "source": [
        "img = train_data[0]\n",
        "plt.imshow(img, cmap='gray')"
      ],
      "execution_count": 11,
      "outputs": [
        {
          "output_type": "execute_result",
          "data": {
            "text/plain": [
              "<matplotlib.image.AxesImage at 0x7f31f870c1d0>"
            ]
          },
          "metadata": {
            "tags": []
          },
          "execution_count": 11
        },
        {
          "output_type": "display_data",
          "data": {
            "image/png": "[encoded data removed]",
            "text/plain": [
              "<Figure size 432x288 with 1 Axes>"
            ]
          },
          "metadata": {
            "tags": [],
            "needs_background": "light"
          }
        }
      ]
    },
    {
      "cell_type": "code",
      "metadata": {
        "id": "J3V-sqZSsn5d",
        "colab_type": "code",
        "colab": {}
      },
      "source": [
        "img = img.reshape(-1, 28, 28, 1)\n",
        "img = tf.convert_to_tensor(img)"
      ],
      "execution_count": 12,
      "outputs": []
    },
    {
      "cell_type": "code",
      "metadata": {
        "id": "DftwPwjGs1-W",
        "colab_type": "code",
        "colab": {
          "base_uri": "https://localhost:8080/",
          "height": 34
        },
        "outputId": "6b353cf3-de7b-4930-cfc1-46eb412a2505"
      },
      "source": [
        "weight_init = tf.initializers.RandomNormal(stddev=0.01)\n",
        "conv2d = keras.layers.Conv2D(5, 3, 2, 'same', kernel_initializer=weight_init)\n",
        "conv2d = conv2d(img)\n",
        "print(conv2d.shape)"
      ],
      "execution_count": 13,
      "outputs": [
        {
          "output_type": "stream",
          "text": [
            "(1, 14, 14, 5)\n"
          ],
          "name": "stdout"
        }
      ]
    },
    {
      "cell_type": "code",
      "metadata": {
        "id": "vH6CfHjytPif",
        "colab_type": "code",
        "colab": {}
      },
      "source": [
        "feature_maps = np.swapaxes(conv2d, 0, 3)  # batch, channel"
      ],
      "execution_count": 14,
      "outputs": []
    },
    {
      "cell_type": "code",
      "metadata": {
        "id": "L61sv35mtvpv",
        "colab_type": "code",
        "colab": {
          "base_uri": "https://localhost:8080/",
          "height": 108
        },
        "outputId": "b3f737f1-ddd0-4c1d-9264-b378b806db13"
      },
      "source": [
        "for i, feature_map in enumerate(feature_maps):\n",
        "  plt.subplot(1, 5, i+1)\n",
        "  plt.imshow(feature_map.reshape(14, 14), cmap='gray')"
      ],
      "execution_count": 15,
      "outputs": [
        {
          "output_type": "display_data",
          "data": {
            "image/png": "[encoded data removed]",
            "text/plain": [
              "<Figure size 432x288 with 5 Axes>"
            ]
          },
          "metadata": {
            "tags": [],
            "needs_background": "light"
          }
        }
      ]
    },
    {
      "cell_type": "code",
      "metadata": {
        "id": "1z9qeh6cuKJw",
        "colab_type": "code",
        "colab": {
          "base_uri": "https://localhost:8080/",
          "height": 34
        },
        "outputId": "cb457d5a-f1dc-4ac0-af23-1f454ea4b3ac"
      },
      "source": [
        "pool = keras.layers.MaxPool2D(2, 2, 'same')(conv2d)\n",
        "print(pool.shape)"
      ],
      "execution_count": 16,
      "outputs": [
        {
          "output_type": "stream",
          "text": [
            "(1, 7, 7, 5)\n"
          ],
          "name": "stdout"
        }
      ]
    },
    {
      "cell_type": "code",
      "metadata": {
        "id": "phA-Lc6fuUaB",
        "colab_type": "code",
        "colab": {}
      },
      "source": [
        "feature_maps = np.swapaxes(pool, 0, 3)"
      ],
      "execution_count": 17,
      "outputs": []
    },
    {
      "cell_type": "code",
      "metadata": {
        "id": "pDMR1t8quY6o",
        "colab_type": "code",
        "colab": {
          "base_uri": "https://localhost:8080/",
          "height": 106
        },
        "outputId": "6765d10d-a65c-4362-b365-02e39f08cd9b"
      },
      "source": [
        "for i, feature_map in enumerate(feature_maps):\n",
        "  plt.subplot(1, 5, i+1)\n",
        "  plt.imshow(feature_map.reshape(7, 7), cmap='gray')"
      ],
      "execution_count": 18,
      "outputs": [
        {
          "output_type": "display_data",
          "data": {
            "image/png": "[encoded data removed]",
            "text/plain": [
              "<Figure size 432x288 with 5 Axes>"
            ]
          },
          "metadata": {
            "tags": [],
            "needs_background": "light"
          }
        }
      ]
    },
    {
      "cell_type": "markdown",
      "metadata": {
        "id": "AaXobci1whio",
        "colab_type": "text"
      },
      "source": [
        "# NN in keras\n",
        "\n",
        "1. Set hyper parameters (lr, epochs, batch size)\n",
        "2. Make data pipelining (`tf.data`)\n",
        "3. Build NN model (`keras.Sequential`)\n",
        "4. define loss function `crossentropy`\n",
        "5. Calculate gradient `tf.GradientTape`\n",
        "6. Optimizer (Adam)\n",
        "7. define a metric for model's performance (accuracy)\n",
        "8. make checkpoint (save weight)\n",
        "9. train and validate"
      ]
    },
    {
      "cell_type": "markdown",
      "metadata": {
        "id": "is_o5oqHxjYH",
        "colab_type": "text"
      },
      "source": [
        "## outline\n",
        "```\n",
        "conv (32, 3, 1, 'same')\n",
        "max pool (2, 2, 'same')\n",
        "conv (32, 3, 1, 'same')\n",
        "max pool (2, 2, 'same')\n",
        "conv (32, 3, 1, 'same')\n",
        "max pool (2, 2, 'same')\n",
        "FC (256)\n",
        "FC (10)\n",
        "```"
      ]
    },
    {
      "cell_type": "markdown",
      "metadata": {
        "id": "Cd6OSn62yUlp",
        "colab_type": "text"
      },
      "source": [
        "### import library"
      ]
    },
    {
      "cell_type": "code",
      "metadata": {
        "id": "st9H7uraxgrv",
        "colab_type": "code",
        "colab": {}
      },
      "source": [
        "import tensorflow as tf\n",
        "from tensorflow import keras\n",
        "from tensorflow.keras.utils import to_categorical\n",
        "import numpy as np\n",
        "import matplotlib.pyplot as plt\n",
        "import os"
      ],
      "execution_count": 19,
      "outputs": []
    },
    {
      "cell_type": "markdown",
      "metadata": {
        "id": "-TqNhlGEyfC1",
        "colab_type": "text"
      },
      "source": [
        "### set hyper parameter"
      ]
    },
    {
      "cell_type": "code",
      "metadata": {
        "id": "YPBYsreQyeUp",
        "colab_type": "code",
        "colab": {}
      },
      "source": [
        "lr = 0.001\n",
        "epochs = 15\n",
        "batch_size = 100\n",
        "\n",
        "cur_dir = os.getcwd()\n",
        "ckpt_dir_name = 'checkpoints'\n",
        "model_dir_name = 'mnist_cnn_seq'\n",
        "\n",
        "checkpoint_dir = os.path.join(cur_dir, ckpt_dir_name, model_dir_name)\n",
        "os.makedirs(checkpoint_dir, exist_ok=True)\n",
        "\n",
        "checkpoint_prefix = os.path.join(ckpt_dir_name, model_dir_name)"
      ],
      "execution_count": 20,
      "outputs": []
    },
    {
      "cell_type": "markdown",
      "metadata": {
        "id": "Q5XsYoF_y37I",
        "colab_type": "text"
      },
      "source": [
        "### Make data pipelining"
      ]
    },
    {
      "cell_type": "code",
      "metadata": {
        "id": "n1huw8MJy6XQ",
        "colab_type": "code",
        "colab": {}
      },
      "source": [
        "mnist = keras.datasets.mnist\n",
        "\n",
        "(train_images, train_labels), (test_images, test_labels) = mnist.load_data()\n",
        "\n",
        "train_images = train_images.astype(np.float32) / 255.\n",
        "test_images = test_images.astype(np.float32) / 255.\n",
        "\n",
        "# channel dim\n",
        "train_images = np.expand_dims(train_images, -1)\n",
        "test_images = np.expand_dims(test_images, -1)\n",
        "\n",
        "# one hot\n",
        "train_labels = to_categorical(train_labels, 10)\n",
        "test_labels = to_categorical(test_labels, 10)\n",
        "\n",
        "train_dataset = tf.data.Dataset.from_tensor_slices(\n",
        "    (train_images, train_labels)).shuffle(100000).batch(batch_size)\n",
        "test_dataset = tf.data.Dataset.from_tensor_slices(\n",
        "    (test_images, test_labels)).batch(batch_size)"
      ],
      "execution_count": 21,
      "outputs": []
    },
    {
      "cell_type": "markdown",
      "metadata": {
        "id": "b4QvJNNJ09Wf",
        "colab_type": "text"
      },
      "source": [
        "### Build model"
      ]
    },
    {
      "cell_type": "code",
      "metadata": {
        "id": "K-Zrsx7Rzzve",
        "colab_type": "code",
        "colab": {
          "base_uri": "https://localhost:8080/",
          "height": 493
        },
        "outputId": "ae47ef80-82c9-4734-95f6-682ac8e5f0dc"
      },
      "source": [
        "model = keras.Sequential([\n",
        "  keras.layers.Input((28, 28, 1)),\n",
        "  keras.layers.Conv2D(32, 3, 1, 'same', activation=tf.nn.relu),\n",
        "  keras.layers.MaxPool2D(2, 2, 'same'),\n",
        "  keras.layers.Conv2D(64, 3, 1, 'same', activation=tf.nn.relu),\n",
        "  keras.layers.MaxPool2D(2, 2, 'same'),\n",
        "  keras.layers.Conv2D(128, 3, 1, 'same', activation=tf.nn.relu),\n",
        "  keras.layers.MaxPool2D(2, 2, 'same'),\n",
        "  keras.layers.Flatten(),\n",
        "  keras.layers.Dense(256, activation=tf.nn.relu),\n",
        "  keras.layers.Dropout(0.4),\n",
        "  keras.layers.Dense(10)\n",
        "])\n",
        "model.summary()"
      ],
      "execution_count": 22,
      "outputs": [
        {
          "output_type": "stream",
          "text": [
            "Model: \"sequential\"\n",
            "_________________________________________________________________\n",
            "Layer (type)                 Output Shape              Param #   \n",
            "=================================================================\n",
            "conv2d_4 (Conv2D)            (None, 28, 28, 32)        320       \n",
            "_________________________________________________________________\n",
            "max_pooling2d_3 (MaxPooling2 (None, 14, 14, 32)        0         \n",
            "_________________________________________________________________\n",
            "conv2d_5 (Conv2D)            (None, 14, 14, 64)        18496     \n",
            "_________________________________________________________________\n",
            "max_pooling2d_4 (MaxPooling2 (None, 7, 7, 64)          0         \n",
            "_________________________________________________________________\n",
            "conv2d_6 (Conv2D)            (None, 7, 7, 128)         73856     \n",
            "_________________________________________________________________\n",
            "max_pooling2d_5 (MaxPooling2 (None, 4, 4, 128)         0         \n",
            "_________________________________________________________________\n",
            "flatten (Flatten)            (None, 2048)              0         \n",
            "_________________________________________________________________\n",
            "dense (Dense)                (None, 256)               524544    \n",
            "_________________________________________________________________\n",
            "dropout (Dropout)            (None, 256)               0         \n",
            "_________________________________________________________________\n",
            "dense_1 (Dense)              (None, 10)                2570      \n",
            "=================================================================\n",
            "Total params: 619,786\n",
            "Trainable params: 619,786\n",
            "Non-trainable params: 0\n",
            "_________________________________________________________________\n"
          ],
          "name": "stdout"
        }
      ]
    },
    {
      "cell_type": "markdown",
      "metadata": {
        "id": "k8xFqOSw1EmX",
        "colab_type": "text"
      },
      "source": [
        "## define loss function, calc gradient"
      ]
    },
    {
      "cell_type": "code",
      "metadata": {
        "id": "xh1QWwsH0inq",
        "colab_type": "code",
        "colab": {}
      },
      "source": [
        "def loss_fn(model, images, labels):\n",
        "  logits = model(images, training=True)\n",
        "  loss = tf.nn.softmax_cross_entropy_with_logits(labels, logits)\n",
        "  return loss\n",
        "\n",
        "def grad(model, images, labels):\n",
        "  with tf.GradientTape() as tape:\n",
        "    loss = loss_fn(model, images, labels)\n",
        "  return tape.gradient(loss, model.variables)"
      ],
      "execution_count": 23,
      "outputs": []
    },
    {
      "cell_type": "markdown",
      "metadata": {
        "id": "NqriYlQD1GXI",
        "colab_type": "text"
      },
      "source": [
        "## optimizer, metric, checkpoint"
      ]
    },
    {
      "cell_type": "code",
      "metadata": {
        "id": "PGJPfn0o1Jb3",
        "colab_type": "code",
        "colab": {}
      },
      "source": [
        "optimizer = keras.optimizers.Adam(lr)\n",
        "\n",
        "def evaluate(model, images, labels):\n",
        "  logits = model(images, training=False)\n",
        "  correct_prediction = tf.equal(tf.argmax(logits, 1), tf.argmax(labels, 1))\n",
        "  accuracy = tf.reduce_mean(tf.cast(correct_prediction, tf.float32))\n",
        "  return accuracy"
      ],
      "execution_count": 24,
      "outputs": []
    },
    {
      "cell_type": "markdown",
      "metadata": {
        "id": "6V8zB4jE1vW6",
        "colab_type": "text"
      },
      "source": [
        "## train, validate"
      ]
    },
    {
      "cell_type": "code",
      "metadata": {
        "id": "z-sQCA881u_z",
        "colab_type": "code",
        "colab": {
          "base_uri": "https://localhost:8080/",
          "height": 272
        },
        "outputId": "dc601857-2244-421c-eacf-3b6c1b409a57"
      },
      "source": [
        "for epoch in range(epochs):\n",
        "  avg_loss = 0.\n",
        "  avg_train_acc = 0.\n",
        "  avg_test_acc = 0.\n",
        "  train_step = 0\n",
        "  test_step = 0\n",
        "\n",
        "  for images, labels in train_dataset:\n",
        "    grads = grad(model, images, labels)\n",
        "    optimizer.apply_gradients(zip(grads, model.variables))\n",
        "    loss = loss_fn(model, images, labels)\n",
        "    acc = evaluate(model, images, labels)\n",
        "    avg_loss = avg_loss + loss\n",
        "    avg_train_acc += acc\n",
        "    train_step += 1\n",
        "  avg_loss /= train_step\n",
        "  avg_train_acc /= train_step\n",
        "\n",
        "  for images, labels in test_dataset:\n",
        "    acc = evaluate(model, images, labels)\n",
        "    avg_test_acc += acc\n",
        "    test_step += 1\n",
        "  avg_test_acc /= test_step\n",
        "\n",
        "  print(\"Epoch: {}, loss: {:.8f}, train accuracy = {:.4f}, test accuracy = {:.4f}\".format(\n",
        "      epoch + 1, tf.reduce_mean(avg_loss),\n",
        "      avg_train_acc, avg_test_acc\n",
        "  ))"
      ],
      "execution_count": 25,
      "outputs": [
        {
          "output_type": "stream",
          "text": [
            "Epoch: 1, loss: 0.18296154, train accuracy = 0.9564, test accuracy = 0.9876\n",
            "Epoch: 2, loss: 0.04544106, train accuracy = 0.9901, test accuracy = 0.9886\n",
            "Epoch: 3, loss: 0.03094572, train accuracy = 0.9933, test accuracy = 0.9917\n",
            "Epoch: 4, loss: 0.02328113, train accuracy = 0.9956, test accuracy = 0.9911\n",
            "Epoch: 5, loss: 0.01904086, train accuracy = 0.9963, test accuracy = 0.9923\n",
            "Epoch: 6, loss: 0.01605161, train accuracy = 0.9971, test accuracy = 0.9935\n",
            "Epoch: 7, loss: 0.01260001, train accuracy = 0.9980, test accuracy = 0.9912\n",
            "Epoch: 8, loss: 0.01136134, train accuracy = 0.9982, test accuracy = 0.9933\n",
            "Epoch: 9, loss: 0.00965962, train accuracy = 0.9987, test accuracy = 0.9935\n",
            "Epoch: 10, loss: 0.00782943, train accuracy = 0.9990, test accuracy = 0.9933\n",
            "Epoch: 11, loss: 0.00773769, train accuracy = 0.9989, test accuracy = 0.9910\n",
            "Epoch: 12, loss: 0.00734708, train accuracy = 0.9991, test accuracy = 0.9927\n",
            "Epoch: 13, loss: 0.00588251, train accuracy = 0.9993, test accuracy = 0.9937\n",
            "Epoch: 14, loss: 0.00489128, train accuracy = 0.9994, test accuracy = 0.9926\n",
            "Epoch: 15, loss: 0.00471086, train accuracy = 0.9996, test accuracy = 0.9923\n"
          ],
          "name": "stdout"
        }
      ]
    },
    {
      "cell_type": "markdown",
      "metadata": {
        "id": "wxWSHYiXgjJo",
        "colab_type": "text"
      },
      "source": [
        "# keras.Sequential 의 한계\n",
        "\n",
        "multi input, output모델을 자유롭게 짤 수 없음\n",
        "Inception, Redidual Connectios"
      ]
    },
    {
      "cell_type": "code",
      "metadata": {
        "id": "Eo0taU7ng3AW",
        "colab_type": "code",
        "colab": {}
      },
      "source": [
        "def create_model():\n",
        "  inputs = keras.Input((28, 28, 1))\n",
        "  conv1 = keras.layers.Conv2D(32, 3, 'same', activation=tf.nn.relu)(inputs)\n",
        "  pool1 = keras.layers.MaxPool2D(padding='same')(conv1)\n",
        "  conv2 = keras.layers.Conv2D(32, 3, 'same', activation=tf.nn.relu)(pool1)\n",
        "  pool2 = keras.layers.MaxPool2D(padding='same')(conv2)\n",
        "  conv3 = keras.layers.Conv2D(32, 3, 'same', activation=tf.nn.relu)(pool2)\n",
        "  pool3 = keras.layers.MaxPool2D(padding='same')(conv3)\n",
        "\n",
        "  pool3_flat = keras.layers.Flatten(pool3)\n",
        "  dense4 = keras.layers.Dense(256, activation=tf.nn.relu)(pool3_flat)\n",
        "  drop4 = keras.layers.Dropout(0.4)(dense4)\n",
        "  logits = keras.layers.Dense(10)(drop4)\n",
        "  return keras.Model(inputs, logits)"
      ],
      "execution_count": null,
      "outputs": []
    },
    {
      "cell_type": "markdown",
      "metadata": {
        "id": "XjHRVjAGivQJ",
        "colab_type": "text"
      },
      "source": [
        "residual Block"
      ]
    },
    {
      "cell_type": "code",
      "metadata": {
        "id": "kzdty1i7i52w",
        "colab_type": "code",
        "colab": {}
      },
      "source": [
        "inputs = keras.Input((28, 28, 256))\n",
        "conv1 = keras.layers.Conv2D(64, 1, 'same', activation=keras.layers.ReLU())(inputs)\n",
        "conv2 = keras.layers.Conv2D(64, 3, 'same', activation=keras.layers.ReLU())(conv1)\n",
        "conv3 = keras.layers.Conv2D(256, 1, 'same', activation=keras.layers.ReLU())(conv2)\n",
        "add3 = keras.layers.add([conv3, inputs])\n",
        "\n",
        "relu3 = keras.layers.ReLU()(add3)\n",
        "model = keras.Model(inputs, relu3)"
      ],
      "execution_count": null,
      "outputs": []
    },
    {
      "cell_type": "markdown",
      "metadata": {
        "id": "04dGjNJrjndA",
        "colab_type": "text"
      },
      "source": [
        "# 모델을 클래스로\n",
        "\n",
        "-> fully-customizable model\n",
        "\n",
        "개인적으로 추가하고 싶은 동작들을 만들 수 있다.\n",
        "\n",
        "keras.Model 상속\n",
        "`__init__`메소드에 속성들을 설정하고\n",
        "`call`메소드에 레이어를 쌓는다."
      ]
    },
    {
      "cell_type": "code",
      "metadata": {
        "id": "G_A5dm33j2aT",
        "colab_type": "code",
        "colab": {}
      },
      "source": [
        "class MyModel(keras.Model):\n",
        "  def __init__(self):\n",
        "    super(MyModel, self).__init__()\n",
        "    self.conv1 = keras.layers.Conv2D(32, 3, 'same', activation=tf.nn.relu)\n",
        "    self.pool1 = keras.layers.MaxPool2D(padding='same')\n",
        "    self.conv2 = keras.layers.Conv2D(64, 3, 'same', activation=tf.nn.relu)\n",
        "    self.pool2 = keras.layers.MaxPool2D(padding='same')\n",
        "    self.conv3 = keras.layers.Conv2D(128, 3, 'same', activation=tf.nn.relu)\n",
        "    self.pool3 = keras.layers.MaxPool2D(padding='same')\n",
        "    \n",
        "    self.pool3_flat = keras.layers.Flatten()\n",
        "    self.dense4 = keras.layers.Dense(256, activation=tf.nn.relu)\n",
        "    self.drop = keras.layers.Dropout(0.4)\n",
        "    self.dense5 = keras.layers.Dense(10)\n",
        "  def call(self, inputs, training=False):\n",
        "    net = self.conv1(inputs)\n",
        "    net = self.pool1(net)\n",
        "    net = self.conv2(net)\n",
        "    net = self.pool2(net)\n",
        "    net = self.conv3(net)\n",
        "    net = self.pool3(net)\n",
        "    net = self.pool3_flat(net)\n",
        "    net = self.dense4(net)\n",
        "    net = self.drop4(net)\n",
        "    net = self.dense5(net)\n",
        "    return net"
      ],
      "execution_count": null,
      "outputs": []
    },
    {
      "cell_type": "markdown",
      "metadata": {
        "id": "_ex_znMElADH",
        "colab_type": "text"
      },
      "source": [
        "# CNN에서 앙상블 사용하기"
      ]
    },
    {
      "cell_type": "code",
      "metadata": {
        "id": "5KCmXz9EomP8",
        "colab_type": "code",
        "colab": {}
      },
      "source": [
        "models = []\n",
        "num_models = 3\n",
        "for m in range(num_models)\n",
        "  models.append(MyModel())\n",
        "\n",
        "def evaluate(models, images, labels):\n",
        "  predictions = tf.zeros_like(labels)\n",
        "  for model in models:\n",
        "    logits = model(images, training=False)\n",
        "    predictions += logits\n",
        "  correct_prediction = tf.equal(tf.argmax(predictions, 1), tf.argmax(labels, 1))\n",
        "  accuracy = tf.reduce_mean(tf.cast(correct_prediction, tf.float32))\n",
        "  return accuracy"
      ],
      "execution_count": null,
      "outputs": []
    }
  ]
}