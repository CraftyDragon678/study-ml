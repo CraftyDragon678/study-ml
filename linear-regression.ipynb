{
 "cells": [
  {
   "cell_type": "code",
   "execution_count": 9,
   "metadata": {},
   "outputs": [],
   "source": [
    "import tensorflow as tf\n",
    "import tensorflow.keras as keras\n",
    "import numpy as np"
   ]
  },
  {
   "cell_type": "code",
   "execution_count": 3,
   "metadata": {},
   "outputs": [
    {
     "data": {
      "text/plain": [
       "'2.2.0'"
      ]
     },
     "execution_count": 3,
     "metadata": {},
     "output_type": "execute_result"
    }
   ],
   "source": [
    "tf.__version__"
   ]
  },
  {
   "cell_type": "code",
   "execution_count": 5,
   "metadata": {},
   "outputs": [],
   "source": [
    "x = [1, 2, 3]\n",
    "y = [1, 2, 3]"
   ]
  },
  {
   "cell_type": "code",
   "execution_count": 7,
   "metadata": {},
   "outputs": [],
   "source": [
    "W = tf.Variable(4)\n",
    "b = tf.Variable(0)"
   ]
  },
  {
   "cell_type": "code",
   "execution_count": 8,
   "metadata": {},
   "outputs": [],
   "source": [
    "hypothesis = W * x + b\n"
   ]
  },
  {
   "cell_type": "code",
   "execution_count": 10,
   "metadata": {},
   "outputs": [],
   "source": [
    "optimizer = keras.optimizers.Adam(learning_rate=0.01)"
   ]
  },
  {
   "cell_type": "code",
   "execution_count": null,
   "metadata": {},
   "outputs": [],
   "source": [
    "with tf.GradientTape() as tape:\n",
    "    cost = tf.reduce_mean(tf.square(hypothesis - y))\n"
   ]
  },
  {
   "cell_type": "code",
   "execution_count": null,
   "metadata": {},
   "outputs": [],
   "source": []
  },
  {
   "cell_type": "code",
   "execution_count": null,
   "metadata": {},
   "outputs": [],
   "source": []
  },
  {
   "cell_type": "code",
   "execution_count": null,
   "metadata": {},
   "outputs": [],
   "source": []
  },
  {
   "cell_type": "code",
   "execution_count": null,
   "metadata": {},
   "outputs": [],
   "source": []
  },
  {
   "cell_type": "code",
   "execution_count": null,
   "metadata": {},
   "outputs": [],
   "source": []
  },
  {
   "cell_type": "code",
   "execution_count": 17,
   "metadata": {},
   "outputs": [],
   "source": [
    "import matplotlib.pyplot as plt\n",
    "num_points = 1000\n",
    "vectors_set = []\n",
    "for i in range(num_points):\n",
    "         x1= np.random.normal(0.0, 0.55)\n",
    "         y1= x1 * 0.1 + 0.3 + np.random.normal(0.0, 0.03)\n",
    "         vectors_set.append([x1, y1])\n",
    "\n",
    "x_data = [v[0] for v in vectors_set]\n",
    "y_data = [v[1] for v in vectors_set]"
   ]
  },
  {
   "cell_type": "code",
   "execution_count": 43,
   "metadata": {},
   "outputs": [
    {
     "data": {
      "text/plain": [
       "[<matplotlib.lines.Line2D at 0x7f19c0693490>]"
      ]
     },
     "execution_count": 43,
     "metadata": {},
     "output_type": "execute_result"
    },
    {
     "data": {
      "image/png": "[encoded data removed]",
      "text/plain": [
       "<Figure size 432x288 with 1 Axes>"
      ]
     },
     "metadata": {
      "needs_background": "light"
     },
     "output_type": "display_data"
    }
   ],
   "source": [
    "plt.plot(x_data, y_data, 'o')"
   ]
  },
  {
   "cell_type": "code",
   "execution_count": 54,
   "metadata": {},
   "outputs": [
    {
     "name": "stdout",
     "output_type": "stream",
     "text": [
      "Model: \"sequential_2\"\n",
      "_________________________________________________________________\n",
      "Layer (type)                 Output Shape              Param #   \n",
      "=================================================================\n",
      "dense_2 (Dense)              (None, 3)                 6         \n",
      "=================================================================\n",
      "Total params: 6\n",
      "Trainable params: 6\n",
      "Non-trainable params: 0\n",
      "_________________________________________________________________\n",
      "Epoch 1/200\n",
      "32/32 [==============================] - 0s 3ms/step - loss: 0.0818\n",
      "Epoch 2/200\n",
      "32/32 [==============================] - 0s 3ms/step - loss: 0.0164\n",
      "Epoch 3/200\n",
      "32/32 [==============================] - 0s 3ms/step - loss: 0.0050\n",
      "Epoch 4/200\n",
      "32/32 [==============================] - 0s 3ms/step - loss: 0.0020\n",
      "Epoch 5/200\n",
      "32/32 [==============================] - 0s 3ms/step - loss: 0.0012\n",
      "Epoch 6/200\n",
      "32/32 [==============================] - 0s 4ms/step - loss: 9.5724e-04\n",
      "Epoch 7/200\n",
      "32/32 [==============================] - 0s 3ms/step - loss: 8.9061e-04\n",
      "Epoch 8/200\n",
      "32/32 [==============================] - 0s 3ms/step - loss: 8.7328e-04\n",
      "Epoch 9/200\n",
      "32/32 [==============================] - 0s 3ms/step - loss: 8.6739e-04\n",
      "Epoch 10/200\n",
      "32/32 [==============================] - 0s 5ms/step - loss: 8.6626e-04\n",
      "Epoch 11/200\n",
      "32/32 [==============================] - 0s 6ms/step - loss: 8.6582e-04\n",
      "Epoch 12/200\n",
      "32/32 [==============================] - 0s 5ms/step - loss: 8.6579e-04\n",
      "Epoch 13/200\n",
      "32/32 [==============================] - 0s 4ms/step - loss: 8.6550e-04\n",
      "Epoch 14/200\n",
      "32/32 [==============================] - 0s 3ms/step - loss: 8.6545e-04\n",
      "Epoch 15/200\n",
      "32/32 [==============================] - 0s 3ms/step - loss: 8.6613e-04\n",
      "Epoch 16/200\n",
      "32/32 [==============================] - 0s 3ms/step - loss: 8.6494e-04\n",
      "Epoch 17/200\n",
      "32/32 [==============================] - 0s 3ms/step - loss: 8.6496e-04\n",
      "Epoch 18/200\n",
      "32/32 [==============================] - 0s 3ms/step - loss: 8.6547e-04\n",
      "Epoch 19/200\n",
      "32/32 [==============================] - 0s 3ms/step - loss: 8.6620e-04\n",
      "Epoch 20/200\n",
      "32/32 [==============================] - 0s 5ms/step - loss: 8.6547e-04\n",
      "Epoch 21/200\n",
      "32/32 [==============================] - 0s 3ms/step - loss: 8.6638e-04\n",
      "Epoch 22/200\n",
      "32/32 [==============================] - 0s 3ms/step - loss: 8.6518e-04\n",
      "Epoch 23/200\n",
      "32/32 [==============================] - 0s 3ms/step - loss: 8.6657e-04\n",
      "Epoch 24/200\n",
      "32/32 [==============================] - 0s 3ms/step - loss: 8.6596e-04\n",
      "Epoch 25/200\n",
      "32/32 [==============================] - 0s 3ms/step - loss: 8.6542e-04\n",
      "Epoch 26/200\n",
      "32/32 [==============================] - 0s 3ms/step - loss: 8.6593e-04\n",
      "Epoch 27/200\n",
      "32/32 [==============================] - 0s 3ms/step - loss: 8.6562e-04\n",
      "Epoch 28/200\n",
      "32/32 [==============================] - 0s 3ms/step - loss: 8.6560e-04\n",
      "Epoch 29/200\n",
      "32/32 [==============================] - 0s 3ms/step - loss: 8.6591e-04\n",
      "Epoch 30/200\n",
      "32/32 [==============================] - 0s 4ms/step - loss: 8.6602e-04\n",
      "Epoch 31/200\n",
      "32/32 [==============================] - 0s 3ms/step - loss: 8.6493e-04\n",
      "Epoch 32/200\n",
      "32/32 [==============================] - 0s 3ms/step - loss: 8.6531e-04\n",
      "Epoch 33/200\n",
      "32/32 [==============================] - 0s 3ms/step - loss: 8.6567e-04\n",
      "Epoch 34/200\n",
      "32/32 [==============================] - 0s 3ms/step - loss: 8.6585e-04\n",
      "Epoch 35/200\n",
      "32/32 [==============================] - 0s 3ms/step - loss: 8.6482e-04\n",
      "Epoch 36/200\n",
      "32/32 [==============================] - 0s 3ms/step - loss: 8.6649e-04\n",
      "Epoch 37/200\n",
      "32/32 [==============================] - 0s 3ms/step - loss: 8.6459e-04\n",
      "Epoch 38/200\n",
      "32/32 [==============================] - 0s 3ms/step - loss: 8.6630e-04\n",
      "Epoch 39/200\n",
      "32/32 [==============================] - 0s 3ms/step - loss: 8.6436e-04\n",
      "Epoch 40/200\n",
      "32/32 [==============================] - 0s 4ms/step - loss: 8.6606e-04\n",
      "Epoch 41/200\n",
      "32/32 [==============================] - 0s 5ms/step - loss: 8.6612e-04\n",
      "Epoch 42/200\n",
      "32/32 [==============================] - 0s 4ms/step - loss: 8.6467e-04\n",
      "Epoch 43/200\n",
      "32/32 [==============================] - 0s 4ms/step - loss: 8.6506e-04\n",
      "Epoch 44/200\n",
      "32/32 [==============================] - 0s 4ms/step - loss: 8.6539e-04\n",
      "Epoch 45/200\n",
      "32/32 [==============================] - 0s 5ms/step - loss: 8.6561e-04\n",
      "Epoch 46/200\n",
      "32/32 [==============================] - 0s 3ms/step - loss: 8.6524e-04\n",
      "Epoch 47/200\n",
      "32/32 [==============================] - 0s 3ms/step - loss: 8.6539e-04\n",
      "Epoch 48/200\n",
      "32/32 [==============================] - 0s 3ms/step - loss: 8.6625e-04\n",
      "Epoch 49/200\n",
      "32/32 [==============================] - 0s 3ms/step - loss: 8.6570e-04\n",
      "Epoch 50/200\n",
      "32/32 [==============================] - 0s 3ms/step - loss: 8.6553e-04\n",
      "Epoch 51/200\n",
      "32/32 [==============================] - 0s 2ms/step - loss: 8.6514e-04\n",
      "Epoch 52/200\n",
      "32/32 [==============================] - 0s 3ms/step - loss: 8.6504e-04\n",
      "Epoch 53/200\n",
      "32/32 [==============================] - 0s 3ms/step - loss: 8.6474e-04\n",
      "Epoch 54/200\n",
      "32/32 [==============================] - 0s 3ms/step - loss: 8.6636e-04\n",
      "Epoch 55/200\n",
      "32/32 [==============================] - 0s 3ms/step - loss: 8.6627e-04\n",
      "Epoch 56/200\n",
      "32/32 [==============================] - 0s 3ms/step - loss: 8.6581e-04\n",
      "Epoch 57/200\n",
      "32/32 [==============================] - 0s 4ms/step - loss: 8.6594e-04\n",
      "Epoch 58/200\n",
      "32/32 [==============================] - 0s 5ms/step - loss: 8.6541e-04\n",
      "Epoch 59/200\n",
      "32/32 [==============================] - 0s 5ms/step - loss: 8.6490e-04\n",
      "Epoch 60/200\n",
      "32/32 [==============================] - 0s 3ms/step - loss: 8.6525e-04\n",
      "Epoch 61/200\n",
      "32/32 [==============================] - 0s 4ms/step - loss: 8.6631e-04\n",
      "Epoch 62/200\n",
      "32/32 [==============================] - 0s 3ms/step - loss: 8.6586e-04\n",
      "Epoch 63/200\n",
      "32/32 [==============================] - 0s 3ms/step - loss: 8.6448e-04\n",
      "Epoch 64/200\n",
      "32/32 [==============================] - 0s 4ms/step - loss: 8.6494e-04\n",
      "Epoch 65/200\n",
      "32/32 [==============================] - 0s 3ms/step - loss: 8.6593e-04\n",
      "Epoch 66/200\n",
      "32/32 [==============================] - 0s 3ms/step - loss: 8.6426e-04\n",
      "Epoch 67/200\n",
      "32/32 [==============================] - 0s 3ms/step - loss: 8.6604e-04\n",
      "Epoch 68/200\n",
      "32/32 [==============================] - 0s 3ms/step - loss: 8.6495e-04\n",
      "Epoch 69/200\n",
      "32/32 [==============================] - 0s 3ms/step - loss: 8.6586e-04\n",
      "Epoch 70/200\n",
      "32/32 [==============================] - 0s 3ms/step - loss: 8.6697e-04\n",
      "Epoch 71/200\n",
      "32/32 [==============================] - 0s 3ms/step - loss: 8.6549e-04\n",
      "Epoch 72/200\n",
      "32/32 [==============================] - 0s 3ms/step - loss: 8.6651e-04\n",
      "Epoch 73/200\n",
      "32/32 [==============================] - 0s 3ms/step - loss: 8.6534e-04\n",
      "Epoch 74/200\n",
      "32/32 [==============================] - 0s 3ms/step - loss: 8.6516e-04\n",
      "Epoch 75/200\n",
      "32/32 [==============================] - 0s 3ms/step - loss: 8.6623e-04\n",
      "Epoch 76/200\n",
      "32/32 [==============================] - 0s 3ms/step - loss: 8.6543e-04\n",
      "Epoch 77/200\n",
      "32/32 [==============================] - 0s 3ms/step - loss: 8.6585e-04\n",
      "Epoch 78/200\n",
      "32/32 [==============================] - 0s 3ms/step - loss: 8.6626e-04\n",
      "Epoch 79/200\n",
      "32/32 [==============================] - 0s 3ms/step - loss: 8.6526e-04\n",
      "Epoch 80/200\n",
      "32/32 [==============================] - 0s 3ms/step - loss: 8.6610e-04\n",
      "Epoch 81/200\n",
      "32/32 [==============================] - 0s 4ms/step - loss: 8.6623e-04\n",
      "Epoch 82/200\n",
      "32/32 [==============================] - 0s 3ms/step - loss: 8.6641e-04\n",
      "Epoch 83/200\n",
      "32/32 [==============================] - 0s 3ms/step - loss: 8.6573e-04\n",
      "Epoch 84/200\n",
      "32/32 [==============================] - 0s 3ms/step - loss: 8.6566e-04\n",
      "Epoch 85/200\n",
      "32/32 [==============================] - 0s 3ms/step - loss: 8.6558e-04\n",
      "Epoch 86/200\n",
      "32/32 [==============================] - 0s 3ms/step - loss: 8.6610e-04\n",
      "Epoch 87/200\n",
      "32/32 [==============================] - 0s 3ms/step - loss: 8.6515e-04\n",
      "Epoch 88/200\n",
      "32/32 [==============================] - 0s 3ms/step - loss: 8.6510e-04\n",
      "Epoch 89/200\n",
      "32/32 [==============================] - 0s 3ms/step - loss: 8.6498e-04\n",
      "Epoch 90/200\n",
      "32/32 [==============================] - 0s 3ms/step - loss: 8.6516e-04\n",
      "Epoch 91/200\n",
      "32/32 [==============================] - 0s 3ms/step - loss: 8.6483e-04\n",
      "Epoch 92/200\n"
     ]
    },
    {
     "name": "stdout",
     "output_type": "stream",
     "text": [
      "32/32 [==============================] - 0s 3ms/step - loss: 8.6529e-04\n",
      "Epoch 93/200\n",
      "32/32 [==============================] - 0s 3ms/step - loss: 8.6563e-04\n",
      "Epoch 94/200\n",
      "32/32 [==============================] - 0s 3ms/step - loss: 8.6544e-04\n",
      "Epoch 95/200\n",
      "32/32 [==============================] - 0s 3ms/step - loss: 8.6557e-04\n",
      "Epoch 96/200\n",
      "32/32 [==============================] - 0s 3ms/step - loss: 8.6429e-04\n",
      "Epoch 97/200\n",
      "32/32 [==============================] - 0s 3ms/step - loss: 8.6562e-04\n",
      "Epoch 98/200\n",
      "32/32 [==============================] - 0s 3ms/step - loss: 8.6510e-04\n",
      "Epoch 99/200\n",
      "32/32 [==============================] - 0s 3ms/step - loss: 8.6525e-04\n",
      "Epoch 100/200\n",
      "32/32 [==============================] - 0s 3ms/step - loss: 8.6517e-04\n",
      "Epoch 101/200\n",
      "32/32 [==============================] - 0s 3ms/step - loss: 8.6485e-04\n",
      "Epoch 102/200\n",
      "32/32 [==============================] - 0s 3ms/step - loss: 8.6536e-04\n",
      "Epoch 103/200\n",
      "32/32 [==============================] - 0s 3ms/step - loss: 8.6625e-04\n",
      "Epoch 104/200\n",
      "32/32 [==============================] - 0s 3ms/step - loss: 8.6521e-04\n",
      "Epoch 105/200\n",
      "32/32 [==============================] - 0s 3ms/step - loss: 8.6635e-04\n",
      "Epoch 106/200\n",
      "32/32 [==============================] - 0s 3ms/step - loss: 8.6551e-04\n",
      "Epoch 107/200\n",
      "32/32 [==============================] - 0s 3ms/step - loss: 8.6597e-04\n",
      "Epoch 108/200\n",
      "32/32 [==============================] - 0s 3ms/step - loss: 8.6354e-04\n",
      "Epoch 109/200\n",
      "32/32 [==============================] - 0s 3ms/step - loss: 8.6546e-04\n",
      "Epoch 110/200\n",
      "32/32 [==============================] - 0s 3ms/step - loss: 8.6548e-04\n",
      "Epoch 111/200\n",
      "32/32 [==============================] - 0s 3ms/step - loss: 8.6525e-04\n",
      "Epoch 112/200\n",
      "32/32 [==============================] - 0s 3ms/step - loss: 8.6546e-04\n",
      "Epoch 113/200\n",
      "32/32 [==============================] - 0s 3ms/step - loss: 8.6744e-04\n",
      "Epoch 114/200\n",
      "32/32 [==============================] - 0s 3ms/step - loss: 8.6605e-04\n",
      "Epoch 115/200\n",
      "32/32 [==============================] - 0s 3ms/step - loss: 8.6606e-04\n",
      "Epoch 116/200\n",
      "32/32 [==============================] - 0s 3ms/step - loss: 8.6667e-04\n",
      "Epoch 117/200\n",
      "32/32 [==============================] - 0s 3ms/step - loss: 8.6568e-04\n",
      "Epoch 118/200\n",
      "32/32 [==============================] - 0s 3ms/step - loss: 8.6570e-04\n",
      "Epoch 119/200\n",
      "32/32 [==============================] - 0s 3ms/step - loss: 8.6555e-04\n",
      "Epoch 120/200\n",
      "32/32 [==============================] - 0s 3ms/step - loss: 8.6567e-04\n",
      "Epoch 121/200\n",
      "32/32 [==============================] - 0s 3ms/step - loss: 8.6508e-04\n",
      "Epoch 122/200\n",
      "32/32 [==============================] - 0s 3ms/step - loss: 8.6495e-04\n",
      "Epoch 123/200\n",
      "32/32 [==============================] - 0s 3ms/step - loss: 8.6492e-04\n",
      "Epoch 124/200\n",
      "32/32 [==============================] - 0s 3ms/step - loss: 8.6628e-04\n",
      "Epoch 125/200\n",
      "32/32 [==============================] - 0s 3ms/step - loss: 8.6627e-04\n",
      "Epoch 126/200\n",
      "32/32 [==============================] - 0s 3ms/step - loss: 8.6449e-04\n",
      "Epoch 127/200\n",
      "32/32 [==============================] - 0s 4ms/step - loss: 8.6595e-04\n",
      "Epoch 128/200\n",
      "32/32 [==============================] - 0s 3ms/step - loss: 8.6485e-04\n",
      "Epoch 129/200\n",
      "32/32 [==============================] - 0s 3ms/step - loss: 8.6655e-04\n",
      "Epoch 130/200\n",
      "32/32 [==============================] - 0s 3ms/step - loss: 8.6664e-04\n",
      "Epoch 131/200\n",
      "32/32 [==============================] - 0s 3ms/step - loss: 8.6534e-04\n",
      "Epoch 132/200\n",
      "32/32 [==============================] - 0s 3ms/step - loss: 8.6527e-04\n",
      "Epoch 133/200\n",
      "32/32 [==============================] - 0s 3ms/step - loss: 8.6515e-04\n",
      "Epoch 134/200\n",
      "32/32 [==============================] - 0s 4ms/step - loss: 8.6442e-04\n",
      "Epoch 135/200\n",
      "32/32 [==============================] - 0s 4ms/step - loss: 8.6555e-04\n",
      "Epoch 136/200\n",
      "32/32 [==============================] - 0s 3ms/step - loss: 8.6596e-04\n",
      "Epoch 137/200\n",
      "32/32 [==============================] - 0s 4ms/step - loss: 8.6540e-04\n",
      "Epoch 138/200\n",
      "32/32 [==============================] - 0s 2ms/step - loss: 8.6437e-04\n",
      "Epoch 139/200\n",
      "32/32 [==============================] - 0s 3ms/step - loss: 8.6648e-04\n",
      "Epoch 140/200\n",
      "32/32 [==============================] - 0s 3ms/step - loss: 8.6546e-04\n",
      "Epoch 141/200\n",
      "32/32 [==============================] - 0s 3ms/step - loss: 8.6531e-04\n",
      "Epoch 142/200\n",
      "32/32 [==============================] - 0s 3ms/step - loss: 8.6713e-04\n",
      "Epoch 143/200\n",
      "32/32 [==============================] - 0s 3ms/step - loss: 8.6642e-04\n",
      "Epoch 144/200\n",
      "32/32 [==============================] - 0s 3ms/step - loss: 8.6500e-04\n",
      "Epoch 145/200\n",
      "32/32 [==============================] - 0s 3ms/step - loss: 8.6581e-04\n",
      "Epoch 146/200\n",
      "32/32 [==============================] - 0s 3ms/step - loss: 8.6518e-04\n",
      "Epoch 147/200\n",
      "32/32 [==============================] - 0s 3ms/step - loss: 8.6618e-04\n",
      "Epoch 148/200\n",
      "32/32 [==============================] - 0s 3ms/step - loss: 8.6583e-04\n",
      "Epoch 149/200\n",
      "32/32 [==============================] - 0s 3ms/step - loss: 8.6573e-04\n",
      "Epoch 150/200\n",
      "32/32 [==============================] - 0s 3ms/step - loss: 8.6558e-04\n",
      "Epoch 151/200\n",
      "32/32 [==============================] - 0s 3ms/step - loss: 8.6579e-04\n",
      "Epoch 152/200\n",
      "32/32 [==============================] - 0s 3ms/step - loss: 8.6357e-04\n",
      "Epoch 153/200\n",
      "32/32 [==============================] - 0s 3ms/step - loss: 8.6736e-04\n",
      "Epoch 154/200\n",
      "32/32 [==============================] - 0s 3ms/step - loss: 8.6576e-04\n",
      "Epoch 155/200\n",
      "32/32 [==============================] - 0s 3ms/step - loss: 8.6537e-04\n",
      "Epoch 156/200\n",
      "32/32 [==============================] - 0s 3ms/step - loss: 8.6554e-04\n",
      "Epoch 157/200\n",
      "32/32 [==============================] - 0s 3ms/step - loss: 8.6570e-04\n",
      "Epoch 158/200\n",
      "32/32 [==============================] - 0s 3ms/step - loss: 8.6593e-04\n",
      "Epoch 159/200\n",
      "32/32 [==============================] - 0s 6ms/step - loss: 8.6660e-04\n",
      "Epoch 160/200\n",
      "32/32 [==============================] - 0s 6ms/step - loss: 8.6612e-04\n",
      "Epoch 161/200\n",
      "32/32 [==============================] - 0s 6ms/step - loss: 8.6459e-04\n",
      "Epoch 162/200\n",
      "32/32 [==============================] - 0s 4ms/step - loss: 8.6700e-04\n",
      "Epoch 163/200\n",
      "32/32 [==============================] - 0s 3ms/step - loss: 8.6564e-04\n",
      "Epoch 164/200\n",
      "32/32 [==============================] - 0s 3ms/step - loss: 8.6625e-04\n",
      "Epoch 165/200\n",
      "32/32 [==============================] - 0s 5ms/step - loss: 8.6535e-04\n",
      "Epoch 166/200\n",
      "32/32 [==============================] - 0s 5ms/step - loss: 8.6618e-04\n",
      "Epoch 167/200\n",
      "32/32 [==============================] - 0s 4ms/step - loss: 8.6546e-04\n",
      "Epoch 168/200\n",
      "32/32 [==============================] - 0s 3ms/step - loss: 8.6606e-04\n",
      "Epoch 169/200\n",
      "32/32 [==============================] - 0s 3ms/step - loss: 8.6538e-04\n",
      "Epoch 170/200\n",
      "32/32 [==============================] - 0s 3ms/step - loss: 8.6572e-04\n",
      "Epoch 171/200\n",
      "32/32 [==============================] - 0s 3ms/step - loss: 8.6495e-04\n",
      "Epoch 172/200\n",
      "32/32 [==============================] - 0s 3ms/step - loss: 8.6655e-04\n",
      "Epoch 173/200\n",
      "32/32 [==============================] - 0s 3ms/step - loss: 8.6572e-04\n",
      "Epoch 174/200\n",
      "32/32 [==============================] - 0s 3ms/step - loss: 8.6568e-04\n",
      "Epoch 175/200\n",
      "32/32 [==============================] - 0s 3ms/step - loss: 8.6579e-04\n",
      "Epoch 176/200\n",
      "32/32 [==============================] - 0s 3ms/step - loss: 8.6588e-04\n",
      "Epoch 177/200\n",
      "32/32 [==============================] - 0s 3ms/step - loss: 8.6520e-04\n",
      "Epoch 178/200\n",
      "32/32 [==============================] - 0s 3ms/step - loss: 8.6601e-04\n",
      "Epoch 179/200\n",
      "32/32 [==============================] - 0s 3ms/step - loss: 8.6554e-04\n",
      "Epoch 180/200\n",
      "32/32 [==============================] - 0s 3ms/step - loss: 8.6476e-04\n",
      "Epoch 181/200\n",
      "32/32 [==============================] - 0s 3ms/step - loss: 8.6583e-04\n",
      "Epoch 182/200\n",
      "32/32 [==============================] - 0s 3ms/step - loss: 8.6427e-04\n",
      "Epoch 183/200\n",
      "32/32 [==============================] - 0s 3ms/step - loss: 8.6550e-04\n",
      "Epoch 184/200\n",
      "32/32 [==============================] - 0s 3ms/step - loss: 8.6485e-04\n",
      "Epoch 185/200\n",
      "32/32 [==============================] - 0s 4ms/step - loss: 8.6523e-04\n",
      "Epoch 186/200\n",
      "32/32 [==============================] - 0s 4ms/step - loss: 8.6576e-04\n",
      "Epoch 187/200\n"
     ]
    },
    {
     "name": "stdout",
     "output_type": "stream",
     "text": [
      "32/32 [==============================] - 0s 4ms/step - loss: 8.6522e-04\n",
      "Epoch 188/200\n",
      "32/32 [==============================] - 0s 4ms/step - loss: 8.6544e-04\n",
      "Epoch 189/200\n",
      "32/32 [==============================] - 0s 5ms/step - loss: 8.6570e-04\n",
      "Epoch 190/200\n",
      "32/32 [==============================] - 0s 3ms/step - loss: 8.6545e-04\n",
      "Epoch 191/200\n",
      "32/32 [==============================] - 0s 3ms/step - loss: 8.6452e-04\n",
      "Epoch 192/200\n",
      "32/32 [==============================] - 0s 3ms/step - loss: 8.6556e-04\n",
      "Epoch 193/200\n",
      "32/32 [==============================] - 0s 3ms/step - loss: 8.6602e-04\n",
      "Epoch 194/200\n",
      "32/32 [==============================] - 0s 3ms/step - loss: 8.6661e-04\n",
      "Epoch 195/200\n",
      "32/32 [==============================] - 0s 5ms/step - loss: 8.6607e-04\n",
      "Epoch 196/200\n",
      "32/32 [==============================] - 0s 5ms/step - loss: 8.6585e-04\n",
      "Epoch 197/200\n",
      "32/32 [==============================] - 0s 3ms/step - loss: 8.6550e-04\n",
      "Epoch 198/200\n",
      "32/32 [==============================] - 0s 3ms/step - loss: 8.6528e-04\n",
      "Epoch 199/200\n",
      "32/32 [==============================] - 0s 3ms/step - loss: 8.6529e-04\n",
      "Epoch 200/200\n",
      "32/32 [==============================] - 0s 3ms/step - loss: 8.6618e-04\n"
     ]
    },
    {
     "data": {
      "text/plain": [
       "<tensorflow.python.keras.callbacks.History at 0x7f19881efad0>"
      ]
     },
     "execution_count": 54,
     "metadata": {},
     "output_type": "execute_result"
    }
   ],
   "source": [
    "model = keras.Sequential()\n",
    "model.add(keras.layers.Dense(units=3, input_dim=1))\n",
    "model.compile(loss='mse', optimizer=keras.optimizers.SGD(lr=0.1))\n",
    "model.summary()\n",
    "model.fit(x_data, y_data, epochs=200)"
   ]
  },
  {
   "cell_type": "code",
   "execution_count": 55,
   "metadata": {},
   "outputs": [
    {
     "data": {
      "text/plain": [
       "[array([[0.10340012, 0.10340012, 0.10340012]], dtype=float32),\n",
       " array([0.30074102, 0.30074102, 0.30074102], dtype=float32)]"
      ]
     },
     "execution_count": 55,
     "metadata": {},
     "output_type": "execute_result"
    }
   ],
   "source": [
    "model.layers[0].get_weights()"
   ]
  },
  {
   "cell_type": "code",
   "execution_count": 58,
   "metadata": {},
   "outputs": [
    {
     "data": {
      "text/plain": [
       "array([[0.14564084, 0.14564084, 0.14564084],\n",
       "       [0.45584118, 0.45584118, 0.45584118]], dtype=float32)"
      ]
     },
     "execution_count": 58,
     "metadata": {},
     "output_type": "execute_result"
    },
    {
     "data": {
      "image/png": "[encoded data removed]",
      "text/plain": [
       "<Figure size 432x288 with 1 Axes>"
      ]
     },
     "metadata": {
      "needs_background": "light"
     },
     "output_type": "display_data"
    }
   ],
   "source": [
    "plt.plot(x_data, y_data, 'o')\n",
    "\n",
    "plt.plot([-1.5, 1.5], model.predict([-1.5, 1.5]))"
   ]
  },
  {
   "cell_type": "code",
   "execution_count": null,
   "metadata": {},
   "outputs": [],
   "source": []
  }
 ],
 "metadata": {
  "kernelspec": {
   "display_name": "Python 3",
   "language": "python",
   "name": "python3"
  },
  "language_info": {
   "codemirror_mode": {
    "name": "ipython",
    "version": 3
   },
   "file_extension": ".py",
   "mimetype": "text/x-python",
   "name": "python",
   "nbconvert_exporter": "python",
   "pygments_lexer": "ipython3",
   "version": "3.7.7"
  }
 },
 "nbformat": 4,
 "nbformat_minor": 4
}
