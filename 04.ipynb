{
  "nbformat": 4,
  "nbformat_minor": 0,
  "metadata": {
    "colab": {
      "name": "04",
      "provenance": []
    },
    "kernelspec": {
      "name": "python3",
      "display_name": "Python 3"
    },
    "accelerator": "TPU"
  },
  "cells": [
    {
      "cell_type": "markdown",
      "metadata": {
        "id": "JS_4QyHDjCNK",
        "colab_type": "text"
      },
      "source": [
        "> [Multi variable linear regression](https://youtu.be/9l1YHo-pbf8?list=PLQ28Nx3M4Jrguyuwg4xe9d9t2XE639e5C)\n",
        "\n",
        "# Lec\n",
        "\n",
        "regression using many inputs\n",
        "\n",
        "x1|x2|x3|y\n",
        "--|--|--|--\n",
        "73|80|75|152\n",
        "93|88|93|185\n",
        "89|91|90|180\n",
        "96|98|100|196\n",
        "73|66|70|142\n",
        "\n",
        "\n",
        "## hypothesis\n",
        "$\n",
        "H(x_1, x_2, x_3, ..., x_n) = w_1x_1 + w_2x_2 + w_3x_3 + ... + w_nx_n + b\n",
        "$\n",
        "\n",
        "=> using dot product\n",
        "\n",
        "$$\n",
        "\\begin{pmatrix}x_1 & x_2 & x_3\\end{pmatrix}\n",
        "\\cdot\n",
        "\\begin{pmatrix}y_1 \\\\ y_2 \\\\ y_3\\end{pmatrix}\n",
        "=\n",
        "\\begin{pmatrix}x_1y_1 + x_2y_2 + x_3y_3\\end{pmatrix}\n",
        "$$\n",
        "\n",
        "$$\n",
        "H(X) = XW\n",
        "$$\n",
        "\n",
        "### many x instance\n",
        "\n",
        "$$\n",
        "\\begin{pmatrix}\n",
        "x_{11} & x_{12} & x_{13} \\\\\n",
        "x_{21} & x_{22} & x_{23} \\\\\n",
        "x_{31} & x_{32} & x_{33} \\\\\n",
        "x_{41} & x_{42} & x_{43} \\\\\n",
        "x_{51} & x_{52} & x_{53}\n",
        "\\end{pmatrix}\n",
        "\\cdot\n",
        "\\begin{pmatrix}\n",
        "w_1 \\\\ w_2 \\\\ w_3\n",
        "\\end{pmatrix}\n",
        "=\n",
        "\\begin{pmatrix}\n",
        "x_{11} & x_{12} & x_{13} \\\\\n",
        "x_{21} & x_{22} & x_{23} \\\\\n",
        "x_{31} & x_{32} & x_{33} \\\\\n",
        "x_{41} & x_{42} & x_{43} \\\\\n",
        "x_{51} & x_{52} & x_{53}\n",
        "\\end{pmatrix}\n",
        "$$\n",
        "\n",
        "$$\n",
        "[5, 3] \\cdot [3, 1] = [5, 1]\n",
        "$$\n",
        "\n",
        "\n",
        "$$\n",
        "[n, 3] \\cdot [3, 1] = [n, 1]\n",
        "$$\n",
        "\n",
        "# LAB\n",
        "\n",
        "## make hypothesis"
      ]
    },
    {
      "cell_type": "code",
      "metadata": {
        "id": "hr4ep9MU0KHS",
        "colab_type": "code",
        "colab": {
          "base_uri": "https://localhost:8080/",
          "height": 374
        },
        "outputId": "d88bff98-9ada-4d9d-9808-b1f2fe0a58e3"
      },
      "source": [
        "import tensorflow as tf\n",
        "\n",
        "# data and label\n",
        "x1 = [73., 93., 89., 96., 73.]\n",
        "x2 = [80., 88., 91., 98., 66.]\n",
        "x3 = [75., 93., 90., 100., 70.]\n",
        "Y = [152., 185., 180., 196., 142.]\n",
        "\n",
        "# weights\n",
        "w1 = tf.Variable(tf.random.normal([1]))\n",
        "w2 = tf.Variable(tf.random.normal([1]))\n",
        "w3 = tf.Variable(tf.random.normal([1]))\n",
        "b  = tf.Variable(tf.random.normal([1]))\n",
        "\n",
        "lr = 0.000001\n",
        "\n",
        "for i in range(1000+1):\n",
        "  with tf.GradientTape() as tape:\n",
        "    hypothesis = w1 * x1 + w2 * x2 + w3 * x3 + b\n",
        "    cost = tf.reduce_mean(tf.square(hypothesis - Y))\n",
        "  w1_grad, w2_grad, w3_grad, b_grad = tape.gradient(cost, [w1, w2, w3, b])\n",
        "\n",
        "  w1.assign_sub(lr * w1_grad)\n",
        "  w2.assign_sub(lr * w2_grad)\n",
        "  w3.assign_sub(lr * w3_grad)\n",
        "  b.assign_sub(lr * b_grad)\n",
        "\n",
        "  if i % 50 == 0:\n",
        "    print(\"{:5} | {:12.4f}\".format(i, cost.numpy()))"
      ],
      "execution_count": null,
      "outputs": [
        {
          "output_type": "stream",
          "text": [
            "    0 |  178116.9531\n",
            "   50 |    1979.4769\n",
            "  100 |      25.0426\n",
            "  150 |       3.3510\n",
            "  200 |       3.1050\n",
            "  250 |       3.0970\n",
            "  300 |       3.0916\n",
            "  350 |       3.0863\n",
            "  400 |       3.0810\n",
            "  450 |       3.0757\n",
            "  500 |       3.0704\n",
            "  550 |       3.0651\n",
            "  600 |       3.0599\n",
            "  650 |       3.0546\n",
            "  700 |       3.0494\n",
            "  750 |       3.0442\n",
            "  800 |       3.0390\n",
            "  850 |       3.0338\n",
            "  900 |       3.0286\n",
            "  950 |       3.0235\n",
            " 1000 |       3.0183\n"
          ],
          "name": "stdout"
        }
      ]
    },
    {
      "cell_type": "markdown",
      "metadata": {
        "id": "SfPiXAXr2GBw",
        "colab_type": "text"
      },
      "source": [
        "## using matrix"
      ]
    },
    {
      "cell_type": "code",
      "metadata": {
        "id": "Lga5tMg32Lyu",
        "colab_type": "code",
        "colab": {
          "base_uri": "https://localhost:8080/",
          "height": 374
        },
        "outputId": "002025ed-16b8-47c3-a22e-56aa2781ab97"
      },
      "source": [
        "import numpy as np\n",
        "\n",
        "data = np.array([\n",
        "    [73., 80., 75., 152.],\n",
        "    [93., 88., 93., 185.],\n",
        "    [89., 91., 90., 180.],\n",
        "    [96., 98., 100., 196.],\n",
        "    [73., 66., 70., 142.],\n",
        "], dtype=np.float32)\n",
        "\n",
        "X = data[:, :-1]\n",
        "y = data[:, [-1]]\n",
        "\n",
        "W = tf.Variable(tf.random.normal([3, 1]))\n",
        "b = tf.Variable(tf.random.normal([1]))\n",
        "\n",
        "def predict(X):\n",
        "  return tf.matmul(X, W) + b\n",
        "\n",
        "lr = 0.000001\n",
        "\n",
        "for i in range(2000+1):\n",
        "  with tf.GradientTape() as tape:\n",
        "    cost = tf.reduce_mean((tf.square(predict(X) - y)))\n",
        "  W_grad, b_grad = tape.gradient(cost, [W, b])\n",
        "\n",
        "  W.assign_sub(lr * W_grad)\n",
        "  b.assign_sub(lr * b_grad)\n",
        "\n",
        "  if i % 100 == 0:\n",
        "    print(\"{:5} | {:10.4f}\".format(i, cost.numpy()))"
      ],
      "execution_count": null,
      "outputs": [
        {
          "output_type": "stream",
          "text": [
            "    0 |   184.1738\n",
            "  100 |     0.9645\n",
            "  200 |     0.9380\n",
            "  300 |     0.9341\n",
            "  400 |     0.9302\n",
            "  500 |     0.9264\n",
            "  600 |     0.9226\n",
            "  700 |     0.9188\n",
            "  800 |     0.9150\n",
            "  900 |     0.9113\n",
            " 1000 |     0.9076\n",
            " 1100 |     0.9038\n",
            " 1200 |     0.9001\n",
            " 1300 |     0.8964\n",
            " 1400 |     0.8928\n",
            " 1500 |     0.8891\n",
            " 1600 |     0.8855\n",
            " 1700 |     0.8819\n",
            " 1800 |     0.8783\n",
            " 1900 |     0.8747\n",
            " 2000 |     0.8712\n"
          ],
          "name": "stdout"
        }
      ]
    },
    {
      "cell_type": "markdown",
      "metadata": {
        "id": "-1y2lDTZ5AX4",
        "colab_type": "text"
      },
      "source": [
        "## keras version"
      ]
    },
    {
      "cell_type": "code",
      "metadata": {
        "id": "mH8CwgrH5CXG",
        "colab_type": "code",
        "colab": {
          "base_uri": "https://localhost:8080/"
        },
        "outputId": "965b90df-dcf6-4714-b19c-b4eacf1f36df"
      },
      "source": [
        "from tensorflow import keras\n",
        "import numpy as np\n",
        "import matplotlib.pyplot as plt\n",
        "\n",
        "data = np.array([\n",
        "    [73., 80., 75., 152.],\n",
        "    [93., 88., 93., 185.],\n",
        "    [89., 91., 90., 180.],\n",
        "    [96., 98., 100., 196.],\n",
        "    [73., 66., 70., 142.],\n",
        "], dtype=np.float32)\n",
        "\n",
        "X = data[:, :-1]\n",
        "y = data[:, [-1]]\n",
        "\n",
        "model = keras.Sequential()\n",
        "\n",
        "model.add(keras.layers.Dense(units=1, input_dim=3))\n",
        "model.compile(loss='mse', optimizer=keras.optimizers.SGD(lr=1e-5))\n",
        "model.summary()\n",
        "\n",
        "history = model.fit(X, y, epochs=2000, verbose=0)\n",
        "\n",
        "y_predict = model.predict([[72., 93., 90.]])\n",
        "print(y_predict)\n",
        "\n",
        "plt.plot(history.history['loss'])"
      ],
      "execution_count": null,
      "outputs": [
        {
          "output_type": "stream",
          "text": [
            "Model: \"sequential_2\"\n",
            "_________________________________________________________________\n",
            "Layer (type)                 Output Shape              Param #   \n",
            "=================================================================\n",
            "dense_2 (Dense)              (None, 1)                 4         \n",
            "=================================================================\n",
            "Total params: 4\n",
            "Trainable params: 4\n",
            "Non-trainable params: 0\n",
            "_________________________________________________________________\n",
            "[[160.01903]]\n"
          ],
          "name": "stdout"
        },
        {
          "output_type": "execute_result",
          "data": {
            "text/plain": [
              "[<matplotlib.lines.Line2D at 0x7fa189945b38>]"
            ]
          },
          "metadata": {
            "tags": []
          },
          "execution_count": 3
        },
        {
          "output_type": "display_data",
          "data": {
            "image/png": "[encoded data removed]",
            "text/plain": [
              "<Figure size 432x288 with 1 Axes>"
            ]
          },
          "metadata": {
            "tags": [],
            "needs_background": "light"
          }
        }
      ]
    },
    {
      "cell_type": "code",
      "metadata": {
        "id": "X1l7HB5S5pcK",
        "colab_type": "code",
        "colab": {}
      },
      "source": [
        ""
      ],
      "execution_count": null,
      "outputs": []
    }
  ]
}